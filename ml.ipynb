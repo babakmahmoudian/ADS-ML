{
 "cells": [
  {
   "cell_type": "markdown",
   "id": "70e77aea",
   "metadata": {},
   "source": [
    "# Setting up the environment"
   ]
  },
  {
   "cell_type": "markdown",
   "id": "8dbd66ff",
   "metadata": {},
   "source": [
    "## Importing required libraries:\n",
    "Required libraries include:\n",
    "<ul>\n",
    "    <li><strong>Numpy</strong> and <strong>Pandas</strong> for data analysis</li>\n",
    "    <li><strong>Matplotlib</strong> and <strong>Seaborn</strong> for data visualization</li>\n",
    "</ul>"
   ]
  },
  {
   "cell_type": "code",
   "execution_count": 2,
   "id": "370944bb-0738-4f5a-a9c5-5ee443b5d99f",
   "metadata": {},
   "outputs": [],
   "source": [
    "import numpy as np\n",
    "import pandas as pd\n",
    "import matplotlib.pyplot as plt\n",
    "import seaborn as sns\n",
    "%matplotlib inline"
   ]
  },
  {
   "cell_type": "markdown",
   "id": "d09e7d6b",
   "metadata": {},
   "source": [
    "## Locating and opening the dataset\n",
    "The dataset contains data files from 2009 up to 2018; for the purpose of this study, the latest one was chosen."
   ]
  },
  {
   "cell_type": "code",
   "execution_count": 3,
   "id": "737780eb",
   "metadata": {},
   "outputs": [
    {
     "data": {
      "text/plain": [
       "<bound method NDFrame.head of             FL_DATE OP_CARRIER  OP_CARRIER_FL_NUM ORIGIN DEST  CRS_DEP_TIME  \\\n",
       "0        2018-01-01         UA               2429    EWR  DEN          1517   \n",
       "1        2018-01-01         UA               2427    LAS  SFO          1115   \n",
       "2        2018-01-01         UA               2426    SNA  DEN          1335   \n",
       "3        2018-01-01         UA               2425    RSW  ORD          1546   \n",
       "4        2018-01-01         UA               2424    ORD  ALB           630   \n",
       "...             ...        ...                ...    ...  ...           ...   \n",
       "7213441  2018-12-31         AA               1815    DCA  CLT          1534   \n",
       "7213442  2018-12-31         AA               1816    CLT  DFW          1751   \n",
       "7213443  2018-12-31         AA               1817    CLT  MEM          2015   \n",
       "7213444  2018-12-31         AA               1818    CLT  RDU          1300   \n",
       "7213445  2018-12-31         AA               1818    RDU  CLT          1435   \n",
       "\n",
       "         DEP_TIME  DEP_DELAY  TAXI_OUT  WHEELS_OFF  ...  CRS_ELAPSED_TIME  \\\n",
       "0          1512.0       -5.0      15.0      1527.0  ...             268.0   \n",
       "1          1107.0       -8.0      11.0      1118.0  ...              99.0   \n",
       "2          1330.0       -5.0      15.0      1345.0  ...             134.0   \n",
       "3          1552.0        6.0      19.0      1611.0  ...             190.0   \n",
       "4           650.0       20.0      13.0       703.0  ...             112.0   \n",
       "...           ...        ...       ...         ...  ...               ...   \n",
       "7213441    1530.0       -4.0      20.0      1550.0  ...             100.0   \n",
       "7213442    1757.0        6.0      18.0      1815.0  ...             181.0   \n",
       "7213443    2010.0       -5.0      36.0      2046.0  ...             112.0   \n",
       "7213444    1323.0       23.0      11.0      1334.0  ...              50.0   \n",
       "7213445    1443.0        8.0       8.0      1451.0  ...              71.0   \n",
       "\n",
       "         ACTUAL_ELAPSED_TIME  AIR_TIME  DISTANCE  CARRIER_DELAY  \\\n",
       "0                      250.0     225.0    1605.0            NaN   \n",
       "1                       83.0      65.0     414.0            NaN   \n",
       "2                      126.0     106.0     846.0            NaN   \n",
       "3                      182.0     157.0    1120.0            NaN   \n",
       "4                      106.0      83.0     723.0            NaN   \n",
       "...                      ...       ...       ...            ...   \n",
       "7213441                 99.0      72.0     331.0            NaN   \n",
       "7213442                176.0     148.0     936.0            NaN   \n",
       "7213443                128.0      88.0     511.0            NaN   \n",
       "7213444                 41.0      26.0     130.0            NaN   \n",
       "7213445                 59.0      44.0     130.0            NaN   \n",
       "\n",
       "         WEATHER_DELAY NAS_DELAY  SECURITY_DELAY  LATE_AIRCRAFT_DELAY  \\\n",
       "0                  NaN       NaN             NaN                  NaN   \n",
       "1                  NaN       NaN             NaN                  NaN   \n",
       "2                  NaN       NaN             NaN                  NaN   \n",
       "3                  NaN       NaN             NaN                  NaN   \n",
       "4                  NaN       NaN             NaN                  NaN   \n",
       "...                ...       ...             ...                  ...   \n",
       "7213441            NaN       NaN             NaN                  NaN   \n",
       "7213442            NaN       NaN             NaN                  NaN   \n",
       "7213443            NaN       NaN             NaN                  NaN   \n",
       "7213444            NaN       NaN             NaN                  NaN   \n",
       "7213445            NaN       NaN             NaN                  NaN   \n",
       "\n",
       "         Unnamed: 27  \n",
       "0                NaN  \n",
       "1                NaN  \n",
       "2                NaN  \n",
       "3                NaN  \n",
       "4                NaN  \n",
       "...              ...  \n",
       "7213441          NaN  \n",
       "7213442          NaN  \n",
       "7213443          NaN  \n",
       "7213444          NaN  \n",
       "7213445          NaN  \n",
       "\n",
       "[7213446 rows x 28 columns]>"
      ]
     },
     "execution_count": 3,
     "metadata": {},
     "output_type": "execute_result"
    }
   ],
   "source": [
    "df = pd.read_csv(\"./dataset/2018.csv\")\n",
    "df.head"
   ]
  },
  {
   "cell_type": "code",
   "execution_count": null,
   "id": "ec1e41d2",
   "metadata": {},
   "outputs": [],
   "source": []
  }
 ],
 "metadata": {
  "kernelspec": {
   "display_name": "Python 3.10.5 64-bit",
   "language": "python",
   "name": "python3"
  },
  "language_info": {
   "codemirror_mode": {
    "name": "ipython",
    "version": 3
   },
   "file_extension": ".py",
   "mimetype": "text/x-python",
   "name": "python",
   "nbconvert_exporter": "python",
   "pygments_lexer": "ipython3",
   "version": "3.10.5"
  },
  "vscode": {
   "interpreter": {
    "hash": "83d208b031a4a5a0824f5f0b47c0388aa3b94cdd004c2f68e4341ab470ede466"
   }
  }
 },
 "nbformat": 4,
 "nbformat_minor": 5
}
