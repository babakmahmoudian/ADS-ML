{
  "cells": [
    {
      "cell_type": "markdown",
      "id": "70e77aea",
      "metadata": {
        "id": "70e77aea"
      },
      "source": [
        "# Setting up the environment"
      ]
    },
    {
      "cell_type": "markdown",
      "id": "8dbd66ff",
      "metadata": {
        "id": "8dbd66ff"
      },
      "source": [
        "## Importing required libraries:\n",
        "Required libraries include:\n",
        "<ul>\n",
        "    <li><strong>Numpy</strong> and <strong>Pandas</strong> for data analysis</li>\n",
        "    <li><strong>Matplotlib</strong> and <strong>Seaborn</strong> for data visualization</li>\n",
        "</ul>"
      ]
    },
    {
      "cell_type": "code",
      "execution_count": 58,
      "id": "370944bb-0738-4f5a-a9c5-5ee443b5d99f",
      "metadata": {
        "id": "370944bb-0738-4f5a-a9c5-5ee443b5d99f"
      },
      "outputs": [],
      "source": [
        "import numpy as np\n",
        "import pandas as pd\n",
        "import matplotlib.pyplot as plt\n",
        "import seaborn as sns\n",
        "%matplotlib inline"
      ]
    },
    {
      "cell_type": "markdown",
      "id": "d09e7d6b",
      "metadata": {
        "id": "d09e7d6b"
      },
      "source": [
        "## Loading the data\n",
        "<p>\n",
        "The dataset was acquired from <a href=\"https://www.kaggle.com/datasets/arashnic/covid19-case-surveillance-public-use-dataset\">Kaggle</a> and it contains the data for covid patients in the US.\n",
        "</p>\n",
        "<p>\n",
        "In order to avoid warning about mixed types, the first three columns need to be parsed as datetime during loading.\n",
        "</p>"
      ]
    },
    {
      "cell_type": "code",
      "execution_count": 59,
      "id": "737780eb",
      "metadata": {
        "id": "737780eb"
      },
      "outputs": [],
      "source": [
        "df = pd.read_csv(\"./dataset/covid.csv\", parse_dates=[0, 1, 2])"
      ]
    },
    {
      "cell_type": "markdown",
      "id": "fc3f513c",
      "metadata": {},
      "source": [
        "# Data Analysis"
      ]
    },
    {
      "cell_type": "markdown",
      "id": "7b2oczAKjTx4",
      "metadata": {
        "id": "7b2oczAKjTx4"
      },
      "source": [
        "## Exploring the dataset\n",
        "The following section explores the dataset's properties:\n",
        "<ul>\n",
        "  <li>Overview of data</li>\n",
        "  <li>Shape and size</li>\n",
        "  <li>Features</li>\n",
        "</ul>"
      ]
    },
    {
      "cell_type": "code",
      "execution_count": 60,
      "id": "2xnfVXybkfjV",
      "metadata": {
        "id": "2xnfVXybkfjV"
      },
      "outputs": [
        {
          "data": {
            "text/html": [
              "<div>\n",
              "<style scoped>\n",
              "    .dataframe tbody tr th:only-of-type {\n",
              "        vertical-align: middle;\n",
              "    }\n",
              "\n",
              "    .dataframe tbody tr th {\n",
              "        vertical-align: top;\n",
              "    }\n",
              "\n",
              "    .dataframe thead th {\n",
              "        text-align: right;\n",
              "    }\n",
              "</style>\n",
              "<table border=\"1\" class=\"dataframe\">\n",
              "  <thead>\n",
              "    <tr style=\"text-align: right;\">\n",
              "      <th></th>\n",
              "      <th>cdc_report_dt</th>\n",
              "      <th>pos_spec_dt</th>\n",
              "      <th>onset_dt</th>\n",
              "      <th>current_status</th>\n",
              "      <th>sex</th>\n",
              "      <th>age_group</th>\n",
              "      <th>Race and ethnicity (combined)</th>\n",
              "      <th>hosp_yn</th>\n",
              "      <th>icu_yn</th>\n",
              "      <th>death_yn</th>\n",
              "      <th>medcond_yn</th>\n",
              "    </tr>\n",
              "  </thead>\n",
              "  <tbody>\n",
              "    <tr>\n",
              "      <th>0</th>\n",
              "      <td>2020-11-10</td>\n",
              "      <td>2020-11-10</td>\n",
              "      <td>NaT</td>\n",
              "      <td>Laboratory-confirmed case</td>\n",
              "      <td>Male</td>\n",
              "      <td>10 - 19 Years</td>\n",
              "      <td>Black, Non-Hispanic</td>\n",
              "      <td>No</td>\n",
              "      <td>Unknown</td>\n",
              "      <td>No</td>\n",
              "      <td>No</td>\n",
              "    </tr>\n",
              "    <tr>\n",
              "      <th>1</th>\n",
              "      <td>2020-11-14</td>\n",
              "      <td>2020-11-10</td>\n",
              "      <td>2020-11-10</td>\n",
              "      <td>Laboratory-confirmed case</td>\n",
              "      <td>Male</td>\n",
              "      <td>10 - 19 Years</td>\n",
              "      <td>Black, Non-Hispanic</td>\n",
              "      <td>No</td>\n",
              "      <td>No</td>\n",
              "      <td>No</td>\n",
              "      <td>No</td>\n",
              "    </tr>\n",
              "    <tr>\n",
              "      <th>2</th>\n",
              "      <td>2020-11-19</td>\n",
              "      <td>2020-11-10</td>\n",
              "      <td>2020-11-09</td>\n",
              "      <td>Laboratory-confirmed case</td>\n",
              "      <td>Male</td>\n",
              "      <td>10 - 19 Years</td>\n",
              "      <td>Black, Non-Hispanic</td>\n",
              "      <td>No</td>\n",
              "      <td>No</td>\n",
              "      <td>No</td>\n",
              "      <td>No</td>\n",
              "    </tr>\n",
              "    <tr>\n",
              "      <th>3</th>\n",
              "      <td>2020-11-14</td>\n",
              "      <td>2020-11-10</td>\n",
              "      <td>NaT</td>\n",
              "      <td>Laboratory-confirmed case</td>\n",
              "      <td>Male</td>\n",
              "      <td>10 - 19 Years</td>\n",
              "      <td>Black, Non-Hispanic</td>\n",
              "      <td>Missing</td>\n",
              "      <td>Missing</td>\n",
              "      <td>No</td>\n",
              "      <td>Missing</td>\n",
              "    </tr>\n",
              "    <tr>\n",
              "      <th>4</th>\n",
              "      <td>2020-11-13</td>\n",
              "      <td>2020-11-10</td>\n",
              "      <td>2020-11-10</td>\n",
              "      <td>Laboratory-confirmed case</td>\n",
              "      <td>Male</td>\n",
              "      <td>10 - 19 Years</td>\n",
              "      <td>Black, Non-Hispanic</td>\n",
              "      <td>No</td>\n",
              "      <td>No</td>\n",
              "      <td>No</td>\n",
              "      <td>Yes</td>\n",
              "    </tr>\n",
              "    <tr>\n",
              "      <th>5</th>\n",
              "      <td>2020-11-17</td>\n",
              "      <td>2020-11-10</td>\n",
              "      <td>2020-11-08</td>\n",
              "      <td>Laboratory-confirmed case</td>\n",
              "      <td>Male</td>\n",
              "      <td>10 - 19 Years</td>\n",
              "      <td>Black, Non-Hispanic</td>\n",
              "      <td>Missing</td>\n",
              "      <td>Missing</td>\n",
              "      <td>Missing</td>\n",
              "      <td>Missing</td>\n",
              "    </tr>\n",
              "    <tr>\n",
              "      <th>6</th>\n",
              "      <td>2020-11-14</td>\n",
              "      <td>2020-11-10</td>\n",
              "      <td>NaT</td>\n",
              "      <td>Laboratory-confirmed case</td>\n",
              "      <td>Male</td>\n",
              "      <td>10 - 19 Years</td>\n",
              "      <td>Black, Non-Hispanic</td>\n",
              "      <td>No</td>\n",
              "      <td>Missing</td>\n",
              "      <td>Missing</td>\n",
              "      <td>Missing</td>\n",
              "    </tr>\n",
              "    <tr>\n",
              "      <th>7</th>\n",
              "      <td>2020-11-10</td>\n",
              "      <td>2020-11-10</td>\n",
              "      <td>NaT</td>\n",
              "      <td>Laboratory-confirmed case</td>\n",
              "      <td>Male</td>\n",
              "      <td>10 - 19 Years</td>\n",
              "      <td>Black, Non-Hispanic</td>\n",
              "      <td>Missing</td>\n",
              "      <td>Missing</td>\n",
              "      <td>Missing</td>\n",
              "      <td>Missing</td>\n",
              "    </tr>\n",
              "    <tr>\n",
              "      <th>8</th>\n",
              "      <td>2020-11-10</td>\n",
              "      <td>2020-11-10</td>\n",
              "      <td>NaT</td>\n",
              "      <td>Laboratory-confirmed case</td>\n",
              "      <td>Male</td>\n",
              "      <td>10 - 19 Years</td>\n",
              "      <td>Black, Non-Hispanic</td>\n",
              "      <td>Unknown</td>\n",
              "      <td>Unknown</td>\n",
              "      <td>No</td>\n",
              "      <td>Unknown</td>\n",
              "    </tr>\n",
              "    <tr>\n",
              "      <th>9</th>\n",
              "      <td>2020-11-17</td>\n",
              "      <td>2020-11-10</td>\n",
              "      <td>NaT</td>\n",
              "      <td>Laboratory-confirmed case</td>\n",
              "      <td>Male</td>\n",
              "      <td>10 - 19 Years</td>\n",
              "      <td>Black, Non-Hispanic</td>\n",
              "      <td>Missing</td>\n",
              "      <td>Missing</td>\n",
              "      <td>Missing</td>\n",
              "      <td>Missing</td>\n",
              "    </tr>\n",
              "  </tbody>\n",
              "</table>\n",
              "</div>"
            ],
            "text/plain": [
              "  cdc_report_dt pos_spec_dt   onset_dt             current_status   sex  \\\n",
              "0    2020-11-10  2020-11-10        NaT  Laboratory-confirmed case  Male   \n",
              "1    2020-11-14  2020-11-10 2020-11-10  Laboratory-confirmed case  Male   \n",
              "2    2020-11-19  2020-11-10 2020-11-09  Laboratory-confirmed case  Male   \n",
              "3    2020-11-14  2020-11-10        NaT  Laboratory-confirmed case  Male   \n",
              "4    2020-11-13  2020-11-10 2020-11-10  Laboratory-confirmed case  Male   \n",
              "5    2020-11-17  2020-11-10 2020-11-08  Laboratory-confirmed case  Male   \n",
              "6    2020-11-14  2020-11-10        NaT  Laboratory-confirmed case  Male   \n",
              "7    2020-11-10  2020-11-10        NaT  Laboratory-confirmed case  Male   \n",
              "8    2020-11-10  2020-11-10        NaT  Laboratory-confirmed case  Male   \n",
              "9    2020-11-17  2020-11-10        NaT  Laboratory-confirmed case  Male   \n",
              "\n",
              "       age_group Race and ethnicity (combined)  hosp_yn   icu_yn death_yn  \\\n",
              "0  10 - 19 Years           Black, Non-Hispanic       No  Unknown       No   \n",
              "1  10 - 19 Years           Black, Non-Hispanic       No       No       No   \n",
              "2  10 - 19 Years           Black, Non-Hispanic       No       No       No   \n",
              "3  10 - 19 Years           Black, Non-Hispanic  Missing  Missing       No   \n",
              "4  10 - 19 Years           Black, Non-Hispanic       No       No       No   \n",
              "5  10 - 19 Years           Black, Non-Hispanic  Missing  Missing  Missing   \n",
              "6  10 - 19 Years           Black, Non-Hispanic       No  Missing  Missing   \n",
              "7  10 - 19 Years           Black, Non-Hispanic  Missing  Missing  Missing   \n",
              "8  10 - 19 Years           Black, Non-Hispanic  Unknown  Unknown       No   \n",
              "9  10 - 19 Years           Black, Non-Hispanic  Missing  Missing  Missing   \n",
              "\n",
              "  medcond_yn  \n",
              "0         No  \n",
              "1         No  \n",
              "2         No  \n",
              "3    Missing  \n",
              "4        Yes  \n",
              "5    Missing  \n",
              "6    Missing  \n",
              "7    Missing  \n",
              "8    Unknown  \n",
              "9    Missing  "
            ]
          },
          "execution_count": 60,
          "metadata": {},
          "output_type": "execute_result"
        }
      ],
      "source": [
        "df.head(10)"
      ]
    },
    {
      "cell_type": "code",
      "execution_count": 61,
      "id": "zClT2CuxUks8",
      "metadata": {
        "id": "zClT2CuxUks8"
      },
      "outputs": [
        {
          "name": "stdout",
          "output_type": "stream",
          "text": [
            "The dataset containes 11 features and 8405079 instances.\n"
          ]
        }
      ],
      "source": [
        "no_of_instances, no_of_features = df.shape\n",
        "print(\"The dataset containes %d features and %d instances.\" %(no_of_features, no_of_instances))"
      ]
    },
    {
      "cell_type": "code",
      "execution_count": 62,
      "id": "38872b79",
      "metadata": {},
      "outputs": [
        {
          "data": {
            "text/plain": [
              "cdc_report_dt                    datetime64[ns]\n",
              "pos_spec_dt                      datetime64[ns]\n",
              "onset_dt                         datetime64[ns]\n",
              "current_status                           object\n",
              "sex                                      object\n",
              "age_group                                object\n",
              "Race and ethnicity (combined)            object\n",
              "hosp_yn                                  object\n",
              "icu_yn                                   object\n",
              "death_yn                                 object\n",
              "medcond_yn                               object\n",
              "dtype: object"
            ]
          },
          "execution_count": 62,
          "metadata": {},
          "output_type": "execute_result"
        }
      ],
      "source": [
        "df.dtypes"
      ]
    },
    {
      "cell_type": "markdown",
      "id": "3NrViCyIC4FD",
      "metadata": {
        "id": "3NrViCyIC4FD"
      },
      "source": [
        "## Data cleanse"
      ]
    },
    {
      "cell_type": "markdown",
      "id": "RGT-WJW3iMzz",
      "metadata": {
        "id": "RGT-WJW3iMzz"
      },
      "source": [
        "### Splitting the Race/Ethnicity feature into Race and Ethnicity\n",
        "\n",
        "\"Race\" and \"Ethnicity\" are combined together in \"Race and ethnicity (combined)\" in the format of \"Race, Ethnicity\";\n",
        "So, they can be extracted into their own separate features and afterwards, the combined feature can be removed from the data frame:"
      ]
    },
    {
      "cell_type": "code",
      "execution_count": 63,
      "id": "kQNZ12x8iUbj",
      "metadata": {
        "id": "kQNZ12x8iUbj"
      },
      "outputs": [],
      "source": [
        "race_ethnicity_split = df['Race and ethnicity (combined)'].str.split(\",\",n=1,expand=True)\n",
        "df[\"race\"] = race_ethnicity_split[0]\n",
        "df[\"ethnicity\"] = race_ethnicity_split[1]\n",
        "\n",
        "df = df.drop([\"Race and ethnicity (combined)\"], axis=1)"
      ]
    },
    {
      "cell_type": "markdown",
      "id": "wxSgE4jFdEdY",
      "metadata": {
        "id": "wxSgE4jFdEdY"
      },
      "source": [
        "### Dropping unused features\n",
        "\n",
        "\"date\" features are not used in our model; so the following can be removed from the data frame:\n",
        "<ul>\n",
        "  <li>cdc_report_dt</li>\n",
        "  <li>pos_spec_dt</li>\n",
        "  <li>ondet_dt</li>\n",
        "</ul>\n"
      ]
    },
    {
      "cell_type": "code",
      "execution_count": 64,
      "id": "6fAwxpITdIRx",
      "metadata": {
        "id": "6fAwxpITdIRx"
      },
      "outputs": [],
      "source": [
        "df = df.drop([\"cdc_report_dt\", \"pos_spec_dt\", \"onset_dt\"], axis=1)"
      ]
    },
    {
      "cell_type": "markdown",
      "id": "LthEXa-HQxE1",
      "metadata": {
        "id": "LthEXa-HQxE1"
      },
      "source": [
        "### Cleaning up the target feature"
      ]
    },
    {
      "cell_type": "markdown",
      "id": "wkGjIa6cROqU",
      "metadata": {
        "id": "wkGjIa6cROqU"
      },
      "source": [
        "The target feature \"death_yn\" will be stating whether the patient has died from COVID or not; however, currently it contains other extra and unclear values as well:"
      ]
    },
    {
      "cell_type": "code",
      "execution_count": 65,
      "id": "fMXYDKZJcRDN",
      "metadata": {
        "colab": {
          "base_uri": "https://localhost:8080/"
        },
        "id": "fMXYDKZJcRDN",
        "outputId": "0aaa651e-17ed-4008-d929-e2bcd4701083"
      },
      "outputs": [
        {
          "data": {
            "text/plain": [
              "No         3690813\n",
              "Missing    3486923\n",
              "Unknown    1043766\n",
              "Yes         183577\n",
              "Name: death_yn, dtype: int64"
            ]
          },
          "execution_count": 65,
          "metadata": {},
          "output_type": "execute_result"
        }
      ],
      "source": [
        "df.death_yn.value_counts()"
      ]
    },
    {
      "cell_type": "markdown",
      "id": "d2u1kqvtRThv",
      "metadata": {
        "id": "d2u1kqvtRThv"
      },
      "source": [
        "In order to deal with unclear values, the instances containing \"Unknown\" and \"Missing\" for their \"death_yn\" feature will be removed from the data frame:"
      ]
    },
    {
      "cell_type": "code",
      "execution_count": 66,
      "id": "8k8ZHJZicqE2",
      "metadata": {
        "id": "8k8ZHJZicqE2"
      },
      "outputs": [],
      "source": [
        "df = df[~df['death_yn'].isin(['Unknown', 'Missing'])]"
      ]
    },
    {
      "cell_type": "markdown",
      "id": "q23_7MB9nA5H",
      "metadata": {
        "id": "q23_7MB9nA5H"
      },
      "source": [
        "Now the target feature is either \"Yes\" or \"No\":"
      ]
    },
    {
      "cell_type": "code",
      "execution_count": 67,
      "id": "uFypCo-oeyWt",
      "metadata": {
        "colab": {
          "base_uri": "https://localhost:8080/"
        },
        "id": "uFypCo-oeyWt",
        "outputId": "ded0b538-8bcb-4ec9-b62b-a032396b20f5"
      },
      "outputs": [
        {
          "data": {
            "text/plain": [
              "No     3690813\n",
              "Yes     183577\n",
              "Name: death_yn, dtype: int64"
            ]
          },
          "execution_count": 67,
          "metadata": {},
          "output_type": "execute_result"
        }
      ],
      "source": [
        "df.death_yn.value_counts()"
      ]
    },
    {
      "cell_type": "markdown",
      "id": "YukqAfaxju6X",
      "metadata": {
        "id": "YukqAfaxju6X"
      },
      "source": [
        "### Dealing with missing values\n",
        "\n",
        "The below counts the number of NULL values in each feature."
      ]
    },
    {
      "cell_type": "code",
      "execution_count": 68,
      "id": "N4RZ_ds0jz6k",
      "metadata": {
        "colab": {
          "base_uri": "https://localhost:8080/"
        },
        "id": "N4RZ_ds0jz6k",
        "outputId": "26cc587c-22dc-4054-9c5c-11bedfdbe0cc"
      },
      "outputs": [
        {
          "data": {
            "text/plain": [
              "current_status          0\n",
              "sex                     9\n",
              "age_group              55\n",
              "hosp_yn                 0\n",
              "icu_yn                  0\n",
              "death_yn                0\n",
              "medcond_yn              0\n",
              "race                    5\n",
              "ethnicity         1757489\n",
              "dtype: int64"
            ]
          },
          "execution_count": 68,
          "metadata": {},
          "output_type": "execute_result"
        }
      ],
      "source": [
        "df.isnull().sum()"
      ]
    },
    {
      "cell_type": "markdown",
      "id": "qwMhiKSwPmLI",
      "metadata": {
        "id": "qwMhiKSwPmLI"
      },
      "source": [
        "\n",
        "#### ethnicity\n",
        "\n",
        "\"ethnicity\" containes mostly missing data, so the approach would be to remove this feature:"
      ]
    },
    {
      "cell_type": "code",
      "execution_count": 69,
      "id": "RWQJ3tyEUPr6",
      "metadata": {
        "id": "RWQJ3tyEUPr6"
      },
      "outputs": [],
      "source": [
        "df = df.drop([\"ethnicity\"], axis=1)"
      ]
    },
    {
      "cell_type": "markdown",
      "id": "cPTR0SY1XwhI",
      "metadata": {
        "id": "cPTR0SY1XwhI"
      },
      "source": [
        "#### age_group, race, and sex"
      ]
    },
    {
      "cell_type": "markdown",
      "id": "utwQj66tmgid",
      "metadata": {
        "id": "utwQj66tmgid"
      },
      "source": [
        "As seen below (empty resultset), the instances with missing \"age_group\" data also contain the instances with missing \"sex\" and \"race\"."
      ]
    },
    {
      "cell_type": "code",
      "execution_count": 70,
      "id": "U4PGiqY4kARH",
      "metadata": {
        "colab": {
          "base_uri": "https://localhost:8080/",
          "height": 49
        },
        "id": "U4PGiqY4kARH",
        "outputId": "7b273b51-4ba2-4bf5-9bf7-64ccb5f6367b"
      },
      "outputs": [
        {
          "data": {
            "text/html": [
              "<div>\n",
              "<style scoped>\n",
              "    .dataframe tbody tr th:only-of-type {\n",
              "        vertical-align: middle;\n",
              "    }\n",
              "\n",
              "    .dataframe tbody tr th {\n",
              "        vertical-align: top;\n",
              "    }\n",
              "\n",
              "    .dataframe thead th {\n",
              "        text-align: right;\n",
              "    }\n",
              "</style>\n",
              "<table border=\"1\" class=\"dataframe\">\n",
              "  <thead>\n",
              "    <tr style=\"text-align: right;\">\n",
              "      <th></th>\n",
              "      <th>current_status</th>\n",
              "      <th>sex</th>\n",
              "      <th>age_group</th>\n",
              "      <th>hosp_yn</th>\n",
              "      <th>icu_yn</th>\n",
              "      <th>death_yn</th>\n",
              "      <th>medcond_yn</th>\n",
              "      <th>race</th>\n",
              "    </tr>\n",
              "  </thead>\n",
              "  <tbody>\n",
              "  </tbody>\n",
              "</table>\n",
              "</div>"
            ],
            "text/plain": [
              "Empty DataFrame\n",
              "Columns: [current_status, sex, age_group, hosp_yn, icu_yn, death_yn, medcond_yn, race]\n",
              "Index: []"
            ]
          },
          "execution_count": 70,
          "metadata": {},
          "output_type": "execute_result"
        }
      ],
      "source": [
        "df[(df[\"sex\"].isnull() | df[\"race\"].isnull()) & (~df[\"age_group\"].isnull())]"
      ]
    },
    {
      "cell_type": "markdown",
      "id": "4V02RzP2mlKV",
      "metadata": {
        "id": "4V02RzP2mlKV"
      },
      "source": [
        " So, the best approach is to completely remove them from the data frame:"
      ]
    },
    {
      "cell_type": "code",
      "execution_count": 71,
      "id": "3n8Fk4YQVFa9",
      "metadata": {
        "id": "3n8Fk4YQVFa9"
      },
      "outputs": [],
      "source": [
        "df = df[~df['age_group'].isnull()]"
      ]
    },
    {
      "cell_type": "markdown",
      "id": "PBjvFPpmmr6V",
      "metadata": {
        "id": "PBjvFPpmmr6V"
      },
      "source": [
        "Now the data frame does not contain any explicit Null values:"
      ]
    },
    {
      "cell_type": "code",
      "execution_count": 72,
      "id": "O8q3SpF0Yceo",
      "metadata": {
        "colab": {
          "base_uri": "https://localhost:8080/"
        },
        "id": "O8q3SpF0Yceo",
        "outputId": "a23bd754-c581-4af3-dea7-b7ba1cffec6d"
      },
      "outputs": [
        {
          "data": {
            "text/plain": [
              "current_status    0\n",
              "sex               0\n",
              "age_group         0\n",
              "hosp_yn           0\n",
              "icu_yn            0\n",
              "death_yn          0\n",
              "medcond_yn        0\n",
              "race              0\n",
              "dtype: int64"
            ]
          },
          "execution_count": 72,
          "metadata": {},
          "output_type": "execute_result"
        }
      ],
      "source": [
        "df.isnull().sum()"
      ]
    },
    {
      "cell_type": "markdown",
      "id": "ia2Hgj_dkvTn",
      "metadata": {
        "id": "ia2Hgj_dkvTn"
      },
      "source": [
        "### Dealing with unknown or invalid data"
      ]
    },
    {
      "cell_type": "markdown",
      "id": "4wgFzTBRuOvi",
      "metadata": {
        "id": "4wgFzTBRuOvi"
      },
      "source": [
        "#### current_status\n",
        "\n",
        "This feature is currently in good conditions and does not require further cleaning:"
      ]
    },
    {
      "cell_type": "code",
      "execution_count": 73,
      "id": "88felPR4uDiE",
      "metadata": {
        "colab": {
          "base_uri": "https://localhost:8080/"
        },
        "id": "88felPR4uDiE",
        "outputId": "56650a68-683d-4544-cbc8-fdcbac5bd533"
      },
      "outputs": [
        {
          "data": {
            "text/plain": [
              "Laboratory-confirmed case    3665423\n",
              "Probable Case                 208912\n",
              "Name: current_status, dtype: int64"
            ]
          },
          "execution_count": 73,
          "metadata": {},
          "output_type": "execute_result"
        }
      ],
      "source": [
        "df[\"current_status\"].value_counts()"
      ]
    },
    {
      "cell_type": "markdown",
      "id": "fu4AqNT7ug3E",
      "metadata": {
        "id": "fu4AqNT7ug3E"
      },
      "source": [
        "#### sex\n",
        "\n",
        "The correct values for the feature would be \"Male\", \"Female\", and \"Other\".\n",
        "<br>\n",
        "As seen below, only a very few of the instances have their \"sex\" feature unspecified (\"Unknown\" or \"Missing\")."
      ]
    },
    {
      "cell_type": "code",
      "execution_count": 74,
      "id": "4TbVubayujcT",
      "metadata": {
        "colab": {
          "base_uri": "https://localhost:8080/"
        },
        "id": "4TbVubayujcT",
        "outputId": "b2e0e2d8-cb85-4600-87d1-22190a734424"
      },
      "outputs": [
        {
          "data": {
            "text/plain": [
              "Female     2031674\n",
              "Male       1822491\n",
              "Unknown      13674\n",
              "Missing       6387\n",
              "Other          109\n",
              "Name: sex, dtype: int64"
            ]
          },
          "execution_count": 74,
          "metadata": {},
          "output_type": "execute_result"
        }
      ],
      "source": [
        "df[\"sex\"].value_counts()"
      ]
    },
    {
      "cell_type": "markdown",
      "id": "ZBpga5EIv49D",
      "metadata": {
        "id": "ZBpga5EIv49D"
      },
      "source": [
        "Neither \"Female\" nor \"Male\" values are distinctively dominant enough to be used to replace the unspecified data.\n",
        "<br>\n",
        "Also, the total number of instances with unspecified \"sex\" is so little that it is not logical to assign it to a whole separate category.\n",
        "<br>\n",
        "So, the best approach is to remove these instances in order to get a more rebust ML model."
      ]
    },
    {
      "cell_type": "code",
      "execution_count": 75,
      "id": "yhwEl09av64z",
      "metadata": {
        "id": "yhwEl09av64z"
      },
      "outputs": [],
      "source": [
        "df = df[~df['sex'].isin(['Unknown', 'Missing'])]"
      ]
    },
    {
      "cell_type": "markdown",
      "id": "pKyMBjHgwE5C",
      "metadata": {
        "id": "pKyMBjHgwE5C"
      },
      "source": [
        "This gives us a \"sex\" feature with all the correct values.\n",
        "<br>\n",
        "Note that the category of \"Other\" contains way too few instances; however, it is good to consider it for possible future updates to the data."
      ]
    },
    {
      "cell_type": "code",
      "execution_count": 76,
      "id": "mvI_Uu2awLVy",
      "metadata": {
        "colab": {
          "base_uri": "https://localhost:8080/"
        },
        "id": "mvI_Uu2awLVy",
        "outputId": "de231589-1a30-454e-d8d8-7372bcaef8d7"
      },
      "outputs": [
        {
          "data": {
            "text/plain": [
              "Female    2031674\n",
              "Male      1822491\n",
              "Other         109\n",
              "Name: sex, dtype: int64"
            ]
          },
          "execution_count": 76,
          "metadata": {},
          "output_type": "execute_result"
        }
      ],
      "source": [
        "df[\"sex\"].value_counts()"
      ]
    },
    {
      "cell_type": "markdown",
      "id": "IvvZatzmk7Dm",
      "metadata": {
        "id": "IvvZatzmk7Dm"
      },
      "source": [
        "#### age_group\n",
        "\n",
        "As seen below, few (relative to the overall count) of instances have unknown \"age_group\"."
      ]
    },
    {
      "cell_type": "code",
      "execution_count": 77,
      "id": "Lt3-kU-IZPL8",
      "metadata": {
        "colab": {
          "base_uri": "https://localhost:8080/"
        },
        "id": "Lt3-kU-IZPL8",
        "outputId": "57938a5e-cc6a-48f7-c5a2-175ebe667625"
      },
      "outputs": [
        {
          "data": {
            "text/plain": [
              "20 - 29 Years    724752\n",
              "30 - 39 Years    613972\n",
              "40 - 49 Years    570532\n",
              "50 - 59 Years    552881\n",
              "60 - 69 Years    399846\n",
              "10 - 19 Years    391442\n",
              "70 - 79 Years    240715\n",
              "80+ Years        210326\n",
              "0 - 9 Years      145803\n",
              "Unknown            4005\n",
              "Name: age_group, dtype: int64"
            ]
          },
          "execution_count": 77,
          "metadata": {},
          "output_type": "execute_result"
        }
      ],
      "source": [
        "df[\"age_group\"].value_counts()"
      ]
    },
    {
      "cell_type": "markdown",
      "id": "W5RaPT02nt03",
      "metadata": {
        "id": "W5RaPT02nt03"
      },
      "source": [
        "On one hand there is not a distinctive mode value in this feature to replace Unknown values with it; and on the other hand it cannot be deduced via other values in the data frame. Also the total number of instances with Unknown age_group values is too few.\n",
        "<br>\n",
        "So, the best approach would be remove them from the data frame."
      ]
    },
    {
      "cell_type": "code",
      "execution_count": 78,
      "id": "Nmk23996lqjD",
      "metadata": {
        "id": "Nmk23996lqjD"
      },
      "outputs": [],
      "source": [
        "df = df[df['age_group'] != \"Unknown\"]"
      ]
    },
    {
      "cell_type": "markdown",
      "id": "gz_zAZ3AxzVF",
      "metadata": {
        "id": "gz_zAZ3AxzVF"
      },
      "source": [
        "The \"age_group\" feature after removing the Unknown data:"
      ]
    },
    {
      "cell_type": "code",
      "execution_count": 79,
      "id": "S81qqbvwx6ES",
      "metadata": {
        "colab": {
          "base_uri": "https://localhost:8080/"
        },
        "id": "S81qqbvwx6ES",
        "outputId": "99e13eae-b21d-4b76-b7c7-6dd4cda0c775"
      },
      "outputs": [
        {
          "data": {
            "text/plain": [
              "20 - 29 Years    724752\n",
              "30 - 39 Years    613972\n",
              "40 - 49 Years    570532\n",
              "50 - 59 Years    552881\n",
              "60 - 69 Years    399846\n",
              "10 - 19 Years    391442\n",
              "70 - 79 Years    240715\n",
              "80+ Years        210326\n",
              "0 - 9 Years      145803\n",
              "Name: age_group, dtype: int64"
            ]
          },
          "execution_count": 79,
          "metadata": {},
          "output_type": "execute_result"
        }
      ],
      "source": [
        "df[\"age_group\"].value_counts()"
      ]
    },
    {
      "cell_type": "markdown",
      "id": "vFswVqc6yGvC",
      "metadata": {
        "id": "vFswVqc6yGvC"
      },
      "source": [
        "#### hosp_yn\n",
        "\n",
        "This feature specifies whether the patient has been hospitalized or not."
      ]
    },
    {
      "cell_type": "code",
      "execution_count": 80,
      "id": "VWOSLm79zE1h",
      "metadata": {
        "colab": {
          "base_uri": "https://localhost:8080/"
        },
        "id": "VWOSLm79zE1h",
        "outputId": "25a55b65-aeef-490a-f538-64b5ec76d318"
      },
      "outputs": [
        {
          "data": {
            "text/plain": [
              "No         2681210\n",
              "Unknown     401225\n",
              "Missing     387404\n",
              "Yes         380430\n",
              "Name: hosp_yn, dtype: int64"
            ]
          },
          "execution_count": 80,
          "metadata": {},
          "output_type": "execute_result"
        }
      ],
      "source": [
        "df[\"hosp_yn\"].value_counts()"
      ]
    },
    {
      "cell_type": "markdown",
      "id": "kRdL3VJuyl5g",
      "metadata": {
        "id": "kRdL3VJuyl5g"
      },
      "source": [
        "As presented below (empty resultset), there are NO INSTANCES where the \"hosp_yn\" is unspecified and the \"icu_yn\" is \"yes\"; hence, the \"hosp_yn\" cannot be deduced from the \"icu_un\" feature."
      ]
    },
    {
      "cell_type": "code",
      "execution_count": 81,
      "id": "vaoS7z5OyUcO",
      "metadata": {
        "colab": {
          "base_uri": "https://localhost:8080/",
          "height": 49
        },
        "id": "vaoS7z5OyUcO",
        "outputId": "403fe7f3-2c1f-4809-da1b-0ff4778c4909"
      },
      "outputs": [
        {
          "data": {
            "text/html": [
              "<div>\n",
              "<style scoped>\n",
              "    .dataframe tbody tr th:only-of-type {\n",
              "        vertical-align: middle;\n",
              "    }\n",
              "\n",
              "    .dataframe tbody tr th {\n",
              "        vertical-align: top;\n",
              "    }\n",
              "\n",
              "    .dataframe thead th {\n",
              "        text-align: right;\n",
              "    }\n",
              "</style>\n",
              "<table border=\"1\" class=\"dataframe\">\n",
              "  <thead>\n",
              "    <tr style=\"text-align: right;\">\n",
              "      <th></th>\n",
              "      <th>current_status</th>\n",
              "      <th>sex</th>\n",
              "      <th>age_group</th>\n",
              "      <th>hosp_yn</th>\n",
              "      <th>icu_yn</th>\n",
              "      <th>death_yn</th>\n",
              "      <th>medcond_yn</th>\n",
              "      <th>race</th>\n",
              "    </tr>\n",
              "  </thead>\n",
              "  <tbody>\n",
              "  </tbody>\n",
              "</table>\n",
              "</div>"
            ],
            "text/plain": [
              "Empty DataFrame\n",
              "Columns: [current_status, sex, age_group, hosp_yn, icu_yn, death_yn, medcond_yn, race]\n",
              "Index: []"
            ]
          },
          "execution_count": 81,
          "metadata": {},
          "output_type": "execute_result"
        }
      ],
      "source": [
        "df[(df[\"icu_yn\"] == \"Yes\") & (df[\"hosp_yn\"].isin([\"Unknown\", \"Missing\"]))]"
      ]
    },
    {
      "cell_type": "markdown",
      "id": "ro0rm4kBzrcD",
      "metadata": {
        "id": "ro0rm4kBzrcD"
      },
      "source": [
        "Also, the total number of cases with unspecified hospitalization status is so large that it deserves its own category:"
      ]
    },
    {
      "cell_type": "code",
      "execution_count": 82,
      "id": "dTpROBhCz0Au",
      "metadata": {
        "id": "dTpROBhCz0Au"
      },
      "outputs": [],
      "source": [
        "df[\"hosp_yn\"].replace(['Missing', 'Unknown'], \"Unspecified\", inplace=True)"
      ]
    },
    {
      "cell_type": "markdown",
      "id": "zFyASzIIz5TB",
      "metadata": {
        "id": "zFyASzIIz5TB"
      },
      "source": [
        "After the above processins, the \"hosp_yn\" feature is as below:"
      ]
    },
    {
      "cell_type": "code",
      "execution_count": 83,
      "id": "Rj1HbUIKz-yx",
      "metadata": {
        "colab": {
          "base_uri": "https://localhost:8080/"
        },
        "id": "Rj1HbUIKz-yx",
        "outputId": "a7dd1b98-4ae4-4b5f-9481-21b4a58697b5"
      },
      "outputs": [
        {
          "data": {
            "text/plain": [
              "No             2681210\n",
              "Unspecified     788629\n",
              "Yes             380430\n",
              "Name: hosp_yn, dtype: int64"
            ]
          },
          "execution_count": 83,
          "metadata": {},
          "output_type": "execute_result"
        }
      ],
      "source": [
        "df[\"hosp_yn\"].value_counts()"
      ]
    },
    {
      "cell_type": "markdown",
      "id": "kNafzhBBn97m",
      "metadata": {
        "id": "kNafzhBBn97m"
      },
      "source": [
        "#### icu_yn"
      ]
    },
    {
      "cell_type": "markdown",
      "id": "MBveY996ompn",
      "metadata": {
        "id": "MBveY996ompn"
      },
      "source": [
        "As seen below, the majority of instances have this feature as either \"Missing\" or \"Unknown\":"
      ]
    },
    {
      "cell_type": "code",
      "execution_count": 84,
      "id": "EnRSAnEUZq1t",
      "metadata": {
        "colab": {
          "base_uri": "https://localhost:8080/"
        },
        "id": "EnRSAnEUZq1t",
        "outputId": "7360375e-3f13-4c5d-e28e-eca648c46ad0"
      },
      "outputs": [
        {
          "data": {
            "text/plain": [
              "Missing    2425643\n",
              "Unknown     693620\n",
              "No          684278\n",
              "Yes          46728\n",
              "Name: icu_yn, dtype: int64"
            ]
          },
          "execution_count": 84,
          "metadata": {},
          "output_type": "execute_result"
        }
      ],
      "source": [
        "df[\"icu_yn\"].value_counts()"
      ]
    },
    {
      "cell_type": "markdown",
      "id": "tYcytEY2ougV",
      "metadata": {
        "id": "tYcytEY2ougV"
      },
      "source": [
        "Since the unclear \"icu_yn\" data accounts for the majority of instances, it would not be prefarable to remove all those instances; and also it can not be extracted logically from the other instances and features.\n",
        "<br>\n",
        "Hence, the \"Unknown\" and \"missing\" values can be combined together can considered a whole separate category where the state of being in ICU is unspecified:"
      ]
    },
    {
      "cell_type": "code",
      "execution_count": 85,
      "id": "md14hX-KsBCE",
      "metadata": {
        "id": "md14hX-KsBCE"
      },
      "outputs": [],
      "source": [
        "df[\"icu_yn\"].replace(['Missing', 'Unknown'], \"Unspecified\", inplace=True)"
      ]
    },
    {
      "cell_type": "markdown",
      "id": "P6mxj-p9tNhE",
      "metadata": {
        "id": "P6mxj-p9tNhE"
      },
      "source": [
        "Now the \"icu_yn\" feature is either \"Yes\", \"No\", or \"Unspecified\":"
      ]
    },
    {
      "cell_type": "code",
      "execution_count": 86,
      "id": "yiA8ihbrtWPR",
      "metadata": {
        "colab": {
          "base_uri": "https://localhost:8080/"
        },
        "id": "yiA8ihbrtWPR",
        "outputId": "71ef1bdf-c393-4e79-ef7a-d9af8efbd80d"
      },
      "outputs": [
        {
          "data": {
            "text/plain": [
              "Unspecified    3119263\n",
              "No              684278\n",
              "Yes              46728\n",
              "Name: icu_yn, dtype: int64"
            ]
          },
          "execution_count": 86,
          "metadata": {},
          "output_type": "execute_result"
        }
      ],
      "source": [
        "df[\"icu_yn\"].value_counts()"
      ]
    },
    {
      "cell_type": "markdown",
      "id": "02daw4Kq0ZGS",
      "metadata": {
        "id": "02daw4Kq0ZGS"
      },
      "source": [
        "#### medcond_yn"
      ]
    },
    {
      "cell_type": "code",
      "execution_count": 87,
      "id": "h6fiWXmQ0etB",
      "metadata": {
        "colab": {
          "base_uri": "https://localhost:8080/"
        },
        "id": "h6fiWXmQ0etB",
        "outputId": "762071d9-75ac-42ec-9f09-cd12351049bf"
      },
      "outputs": [
        {
          "data": {
            "text/plain": [
              "Missing    2345423\n",
              "No          562943\n",
              "Yes         557854\n",
              "Unknown     384049\n",
              "Name: medcond_yn, dtype: int64"
            ]
          },
          "execution_count": 87,
          "metadata": {},
          "output_type": "execute_result"
        }
      ],
      "source": [
        "df[\"medcond_yn\"].value_counts()"
      ]
    },
    {
      "cell_type": "markdown",
      "id": "m9DVicGD1xkg",
      "metadata": {
        "id": "m9DVicGD1xkg"
      },
      "source": [
        "The same as \"hosp_yn\" and \"icu_yn\", the unspecified values in this feature are so many that makes them entitled to a separate category"
      ]
    },
    {
      "cell_type": "code",
      "execution_count": 88,
      "id": "TmEaLk3C19TB",
      "metadata": {
        "id": "TmEaLk3C19TB"
      },
      "outputs": [],
      "source": [
        "df[\"medcond_yn\"].replace(['Missing', 'Unknown'], \"Unspecified\", inplace=True)"
      ]
    },
    {
      "cell_type": "markdown",
      "id": "6Xzmz9JA2CSg",
      "metadata": {
        "id": "6Xzmz9JA2CSg"
      },
      "source": [
        "Which will correct this feature as below:"
      ]
    },
    {
      "cell_type": "code",
      "execution_count": 89,
      "id": "Eu2-X9J-2HtB",
      "metadata": {
        "colab": {
          "base_uri": "https://localhost:8080/"
        },
        "id": "Eu2-X9J-2HtB",
        "outputId": "d0e339a7-48e7-4f4e-8300-e980ce6a932c"
      },
      "outputs": [
        {
          "data": {
            "text/plain": [
              "Unspecified    2729472\n",
              "No              562943\n",
              "Yes             557854\n",
              "Name: medcond_yn, dtype: int64"
            ]
          },
          "execution_count": 89,
          "metadata": {},
          "output_type": "execute_result"
        }
      ],
      "source": [
        "df[\"medcond_yn\"].value_counts()"
      ]
    },
    {
      "cell_type": "markdown",
      "id": "ZVNHUmL30cZQ",
      "metadata": {
        "id": "ZVNHUmL30cZQ"
      },
      "source": [
        "#### race"
      ]
    },
    {
      "cell_type": "markdown",
      "id": "gM3BzotA2ZUw",
      "metadata": {
        "id": "gM3BzotA2ZUw"
      },
      "source": [
        "Again, a large portion of the instances have \"Unknown\" or \"Missing\" values for \"race\":"
      ]
    },
    {
      "cell_type": "code",
      "execution_count": 90,
      "id": "WSgrxXGx0k_B",
      "metadata": {
        "colab": {
          "base_uri": "https://localhost:8080/"
        },
        "id": "WSgrxXGx0k_B",
        "outputId": "acb60d92-2c68-4bb1-f323-e3ff3a03c4cb"
      },
      "outputs": [
        {
          "data": {
            "text/plain": [
              "White                                     1443410\n",
              "Unknown                                    987072\n",
              "Hispanic/Latino                            596787\n",
              "Black                                      398123\n",
              "Missing                                    159522\n",
              "Multiple/Other                             151014\n",
              "Asian                                       83723\n",
              "American Indian/Alaska Native               20396\n",
              "Native Hawaiian/Other Pacific Islander      10222\n",
              "Name: race, dtype: int64"
            ]
          },
          "execution_count": 90,
          "metadata": {},
          "output_type": "execute_result"
        }
      ],
      "source": [
        "df[\"race\"].value_counts()"
      ]
    },
    {
      "cell_type": "markdown",
      "id": "NuN1XuQA2gfh",
      "metadata": {
        "id": "NuN1XuQA2gfh"
      },
      "source": [
        "In order to deal with these unspecified values, a new category of \"Unspecified\" will be added to the feature's values:"
      ]
    },
    {
      "cell_type": "code",
      "execution_count": 91,
      "id": "W6EwRiui2noQ",
      "metadata": {
        "id": "W6EwRiui2noQ"
      },
      "outputs": [],
      "source": [
        "df[\"race\"].replace(['Missing', 'Unknown'], \"Unspecified\", inplace=True)"
      ]
    },
    {
      "cell_type": "markdown",
      "id": "Bhj9AZa72p4v",
      "metadata": {
        "id": "Bhj9AZa72p4v"
      },
      "source": [
        "So, the new state of the feature \"race\" would be:"
      ]
    },
    {
      "cell_type": "code",
      "execution_count": 92,
      "id": "UiOwmDay2tqv",
      "metadata": {
        "colab": {
          "base_uri": "https://localhost:8080/"
        },
        "id": "UiOwmDay2tqv",
        "outputId": "07954f41-6f68-4f7e-b5a0-1af6c95c9a18"
      },
      "outputs": [
        {
          "data": {
            "text/plain": [
              "White                                     1443410\n",
              "Unspecified                               1146594\n",
              "Hispanic/Latino                            596787\n",
              "Black                                      398123\n",
              "Multiple/Other                             151014\n",
              "Asian                                       83723\n",
              "American Indian/Alaska Native               20396\n",
              "Native Hawaiian/Other Pacific Islander      10222\n",
              "Name: race, dtype: int64"
            ]
          },
          "execution_count": 92,
          "metadata": {},
          "output_type": "execute_result"
        }
      ],
      "source": [
        "df[\"race\"].value_counts()"
      ]
    },
    {
      "cell_type": "markdown",
      "id": "l2jc5sAEEr5m",
      "metadata": {
        "id": "l2jc5sAEEr5m"
      },
      "source": [
        "### Converting categorial string features into nominal\n",
        "This step is needed in order to present the correlation matrix\n",
        "\n",
        "Basically, this step must be done for each of the categorial columns, includin:\n",
        "<ul>\n",
        "  <li>current_status</li>\n",
        "  <li>sex</li>\n",
        "  <li>age_group</li>\n",
        "  <li>Race</li>\n",
        "  <li>hosp_yn</li>\n",
        "  <li>icu_yn</li>\n",
        "  <li>death_yn</li>\n",
        "  <li>medcond_yn</li>\n",
        "</ul>\n",
        "\n",
        "<p>In order to shorten the code, a For-loop is run over all the above columns</p>"
      ]
    },
    {
      "cell_type": "markdown",
      "id": "u5LngWNpfblH",
      "metadata": {
        "id": "u5LngWNpfblH"
      },
      "source": [
        "Before rewriting the values, the classes of the target column are stored to be used later as \"labels\" for drawing the confusion matrix"
      ]
    },
    {
      "cell_type": "code",
      "execution_count": 93,
      "id": "g5TvRXuTfkcd",
      "metadata": {
        "colab": {
          "base_uri": "https://localhost:8080/"
        },
        "id": "g5TvRXuTfkcd",
        "outputId": "d1b25d60-8575-4218-8a48-2ce23e0d5043"
      },
      "outputs": [
        {
          "data": {
            "text/plain": [
              "['No', 'Yes']"
            ]
          },
          "execution_count": 93,
          "metadata": {},
          "output_type": "execute_result"
        }
      ],
      "source": [
        "target_classes = df[\"death_yn\"].value_counts().index.tolist()\n",
        "target_classes"
      ]
    },
    {
      "cell_type": "code",
      "execution_count": 94,
      "id": "8pd4l0HfF5AL",
      "metadata": {
        "colab": {
          "base_uri": "https://localhost:8080/"
        },
        "id": "8pd4l0HfF5AL",
        "outputId": "a8f17c41-267a-4bdc-d048-6a289fdbb71c"
      },
      "outputs": [
        {
          "data": {
            "text/plain": [
              "current_status    object\n",
              "sex               object\n",
              "age_group         object\n",
              "hosp_yn           object\n",
              "icu_yn            object\n",
              "death_yn          object\n",
              "medcond_yn        object\n",
              "race              object\n",
              "dtype: object"
            ]
          },
          "execution_count": 94,
          "metadata": {},
          "output_type": "execute_result"
        }
      ],
      "source": [
        "df.dtypes"
      ]
    },
    {
      "cell_type": "code",
      "execution_count": 95,
      "id": "y2nl8CptElLJ",
      "metadata": {
        "id": "y2nl8CptElLJ"
      },
      "outputs": [],
      "source": [
        "for col in df.columns:\n",
        "    df[col] = df[col].astype('category').cat.codes"
      ]
    },
    {
      "cell_type": "code",
      "execution_count": 97,
      "id": "K5DUJp6AGR4P",
      "metadata": {
        "colab": {
          "base_uri": "https://localhost:8080/"
        },
        "id": "K5DUJp6AGR4P",
        "outputId": "f031e73c-43d2-468d-e5f9-60e729eb2395"
      },
      "outputs": [
        {
          "data": {
            "text/plain": [
              "current_status    int8\n",
              "sex               int8\n",
              "age_group         int8\n",
              "hosp_yn           int8\n",
              "icu_yn            int8\n",
              "death_yn          int8\n",
              "medcond_yn        int8\n",
              "race              int8\n",
              "dtype: object"
            ]
          },
          "execution_count": 97,
          "metadata": {},
          "output_type": "execute_result"
        }
      ],
      "source": [
        "df.dtypes"
      ]
    },
    {
      "cell_type": "markdown",
      "id": "D8rLUM4ulMJ-",
      "metadata": {
        "id": "D8rLUM4ulMJ-"
      },
      "source": [
        "## Correlation Matrix\n",
        "The following displays the correlation matrix containing all the numeric variables."
      ]
    },
    {
      "cell_type": "code",
      "execution_count": 101,
      "id": "wDiMXbKLwlX6",
      "metadata": {
        "colab": {
          "base_uri": "https://localhost:8080/",
          "height": 300
        },
        "id": "wDiMXbKLwlX6",
        "outputId": "873166a9-84ca-43cd-f3dd-fa83aa15336b"
      },
      "outputs": [
        {
          "data": {
            "text/html": [
              "<style type=\"text/css\">\n",
              "#T_03201_row0_col0, #T_03201_row1_col1, #T_03201_row2_col2, #T_03201_row3_col3, #T_03201_row4_col4, #T_03201_row5_col5, #T_03201_row6_col6, #T_03201_row7_col7 {\n",
              "  background-color: #b40426;\n",
              "  color: #f1f1f1;\n",
              "}\n",
              "#T_03201_row0_col1, #T_03201_row1_col2 {\n",
              "  background-color: #3c4ec2;\n",
              "  color: #f1f1f1;\n",
              "}\n",
              "#T_03201_row0_col2, #T_03201_row0_col3, #T_03201_row0_col6, #T_03201_row2_col1, #T_03201_row3_col0, #T_03201_row4_col7, #T_03201_row7_col4, #T_03201_row7_col5 {\n",
              "  background-color: #3b4cc0;\n",
              "  color: #f1f1f1;\n",
              "}\n",
              "#T_03201_row0_col4, #T_03201_row1_col0, #T_03201_row7_col3 {\n",
              "  background-color: #445acc;\n",
              "  color: #f1f1f1;\n",
              "}\n",
              "#T_03201_row0_col5, #T_03201_row2_col0, #T_03201_row3_col7, #T_03201_row5_col7, #T_03201_row6_col0, #T_03201_row6_col7, #T_03201_row7_col1 {\n",
              "  background-color: #4055c8;\n",
              "  color: #f1f1f1;\n",
              "}\n",
              "#T_03201_row0_col7 {\n",
              "  background-color: #5572df;\n",
              "  color: #f1f1f1;\n",
              "}\n",
              "#T_03201_row1_col3 {\n",
              "  background-color: #536edd;\n",
              "  color: #f1f1f1;\n",
              "}\n",
              "#T_03201_row1_col4, #T_03201_row5_col1 {\n",
              "  background-color: #465ecf;\n",
              "  color: #f1f1f1;\n",
              "}\n",
              "#T_03201_row1_col5, #T_03201_row1_col7 {\n",
              "  background-color: #455cce;\n",
              "  color: #f1f1f1;\n",
              "}\n",
              "#T_03201_row1_col6 {\n",
              "  background-color: #3e51c5;\n",
              "  color: #f1f1f1;\n",
              "}\n",
              "#T_03201_row2_col3 {\n",
              "  background-color: #a1c0ff;\n",
              "  color: #000000;\n",
              "}\n",
              "#T_03201_row2_col4 {\n",
              "  background-color: #4e68d8;\n",
              "  color: #f1f1f1;\n",
              "}\n",
              "#T_03201_row2_col5 {\n",
              "  background-color: #afcafc;\n",
              "  color: #000000;\n",
              "}\n",
              "#T_03201_row2_col6 {\n",
              "  background-color: #88abfd;\n",
              "  color: #000000;\n",
              "}\n",
              "#T_03201_row2_col7 {\n",
              "  background-color: #5b7ae5;\n",
              "  color: #f1f1f1;\n",
              "}\n",
              "#T_03201_row3_col1, #T_03201_row5_col0 {\n",
              "  background-color: #4a63d3;\n",
              "  color: #f1f1f1;\n",
              "}\n",
              "#T_03201_row3_col2 {\n",
              "  background-color: #9bbcff;\n",
              "  color: #000000;\n",
              "}\n",
              "#T_03201_row3_col4 {\n",
              "  background-color: #7295f4;\n",
              "  color: #f1f1f1;\n",
              "}\n",
              "#T_03201_row3_col5 {\n",
              "  background-color: #b5cdfa;\n",
              "  color: #000000;\n",
              "}\n",
              "#T_03201_row3_col6 {\n",
              "  background-color: #6485ec;\n",
              "  color: #f1f1f1;\n",
              "}\n",
              "#T_03201_row4_col0 {\n",
              "  background-color: #485fd1;\n",
              "  color: #f1f1f1;\n",
              "}\n",
              "#T_03201_row4_col1 {\n",
              "  background-color: #4257c9;\n",
              "  color: #f1f1f1;\n",
              "}\n",
              "#T_03201_row4_col2, #T_03201_row6_col4 {\n",
              "  background-color: #4b64d5;\n",
              "  color: #f1f1f1;\n",
              "}\n",
              "#T_03201_row4_col3 {\n",
              "  background-color: #7699f6;\n",
              "  color: #f1f1f1;\n",
              "}\n",
              "#T_03201_row4_col5 {\n",
              "  background-color: #5f7fe8;\n",
              "  color: #f1f1f1;\n",
              "}\n",
              "#T_03201_row4_col6 {\n",
              "  background-color: #4961d2;\n",
              "  color: #f1f1f1;\n",
              "}\n",
              "#T_03201_row5_col2 {\n",
              "  background-color: #b2ccfb;\n",
              "  color: #000000;\n",
              "}\n",
              "#T_03201_row5_col3 {\n",
              "  background-color: #bcd2f7;\n",
              "  color: #000000;\n",
              "}\n",
              "#T_03201_row5_col4 {\n",
              "  background-color: #6687ed;\n",
              "  color: #f1f1f1;\n",
              "}\n",
              "#T_03201_row5_col6 {\n",
              "  background-color: #6f92f3;\n",
              "  color: #f1f1f1;\n",
              "}\n",
              "#T_03201_row6_col1, #T_03201_row7_col6 {\n",
              "  background-color: #3d50c3;\n",
              "  color: #f1f1f1;\n",
              "}\n",
              "#T_03201_row6_col2 {\n",
              "  background-color: #89acfd;\n",
              "  color: #000000;\n",
              "}\n",
              "#T_03201_row6_col3, #T_03201_row6_col5 {\n",
              "  background-color: #6b8df0;\n",
              "  color: #f1f1f1;\n",
              "}\n",
              "#T_03201_row7_col0, #T_03201_row7_col2 {\n",
              "  background-color: #5977e3;\n",
              "  color: #f1f1f1;\n",
              "}\n",
              "</style>\n",
              "<table id=\"T_03201\">\n",
              "  <thead>\n",
              "    <tr>\n",
              "      <th class=\"blank level0\" >&nbsp;</th>\n",
              "      <th id=\"T_03201_level0_col0\" class=\"col_heading level0 col0\" >current_status</th>\n",
              "      <th id=\"T_03201_level0_col1\" class=\"col_heading level0 col1\" >sex</th>\n",
              "      <th id=\"T_03201_level0_col2\" class=\"col_heading level0 col2\" >age_group</th>\n",
              "      <th id=\"T_03201_level0_col3\" class=\"col_heading level0 col3\" >hosp_yn</th>\n",
              "      <th id=\"T_03201_level0_col4\" class=\"col_heading level0 col4\" >icu_yn</th>\n",
              "      <th id=\"T_03201_level0_col5\" class=\"col_heading level0 col5\" >death_yn</th>\n",
              "      <th id=\"T_03201_level0_col6\" class=\"col_heading level0 col6\" >medcond_yn</th>\n",
              "      <th id=\"T_03201_level0_col7\" class=\"col_heading level0 col7\" >race</th>\n",
              "    </tr>\n",
              "  </thead>\n",
              "  <tbody>\n",
              "    <tr>\n",
              "      <th id=\"T_03201_level0_row0\" class=\"row_heading level0 row0\" >current_status</th>\n",
              "      <td id=\"T_03201_row0_col0\" class=\"data row0 col0\" >1.00</td>\n",
              "      <td id=\"T_03201_row0_col1\" class=\"data row0 col1\" >-0.01</td>\n",
              "      <td id=\"T_03201_row0_col2\" class=\"data row0 col2\" >-0.02</td>\n",
              "      <td id=\"T_03201_row0_col3\" class=\"data row0 col3\" >-0.04</td>\n",
              "      <td id=\"T_03201_row0_col4\" class=\"data row0 col4\" >0.01</td>\n",
              "      <td id=\"T_03201_row0_col5\" class=\"data row0 col5\" >0.01</td>\n",
              "      <td id=\"T_03201_row0_col6\" class=\"data row0 col6\" >-0.02</td>\n",
              "      <td id=\"T_03201_row0_col7\" class=\"data row0 col7\" >0.06</td>\n",
              "    </tr>\n",
              "    <tr>\n",
              "      <th id=\"T_03201_level0_row1\" class=\"row_heading level0 row1\" >sex</th>\n",
              "      <td id=\"T_03201_row1_col0\" class=\"data row1 col0\" >-0.01</td>\n",
              "      <td id=\"T_03201_row1_col1\" class=\"data row1 col1\" >1.00</td>\n",
              "      <td id=\"T_03201_row1_col2\" class=\"data row1 col2\" >-0.01</td>\n",
              "      <td id=\"T_03201_row1_col3\" class=\"data row1 col3\" >0.04</td>\n",
              "      <td id=\"T_03201_row1_col4\" class=\"data row1 col4\" >0.01</td>\n",
              "      <td id=\"T_03201_row1_col5\" class=\"data row1 col5\" >0.03</td>\n",
              "      <td id=\"T_03201_row1_col6\" class=\"data row1 col6\" >-0.00</td>\n",
              "      <td id=\"T_03201_row1_col7\" class=\"data row1 col7\" >0.01</td>\n",
              "    </tr>\n",
              "    <tr>\n",
              "      <th id=\"T_03201_level0_row2\" class=\"row_heading level0 row2\" >age_group</th>\n",
              "      <td id=\"T_03201_row2_col0\" class=\"data row2 col0\" >-0.02</td>\n",
              "      <td id=\"T_03201_row2_col1\" class=\"data row2 col1\" >-0.01</td>\n",
              "      <td id=\"T_03201_row2_col2\" class=\"data row2 col2\" >1.00</td>\n",
              "      <td id=\"T_03201_row2_col3\" class=\"data row2 col3\" >0.28</td>\n",
              "      <td id=\"T_03201_row2_col4\" class=\"data row2 col4\" >0.04</td>\n",
              "      <td id=\"T_03201_row2_col5\" class=\"data row2 col5\" >0.34</td>\n",
              "      <td id=\"T_03201_row2_col6\" class=\"data row2 col6\" >0.22</td>\n",
              "      <td id=\"T_03201_row2_col7\" class=\"data row2 col7\" >0.08</td>\n",
              "    </tr>\n",
              "    <tr>\n",
              "      <th id=\"T_03201_level0_row3\" class=\"row_heading level0 row3\" >hosp_yn</th>\n",
              "      <td id=\"T_03201_row3_col0\" class=\"data row3 col0\" >-0.04</td>\n",
              "      <td id=\"T_03201_row3_col1\" class=\"data row3 col1\" >0.04</td>\n",
              "      <td id=\"T_03201_row3_col2\" class=\"data row3 col2\" >0.28</td>\n",
              "      <td id=\"T_03201_row3_col3\" class=\"data row3 col3\" >1.00</td>\n",
              "      <td id=\"T_03201_row3_col4\" class=\"data row3 col4\" >0.15</td>\n",
              "      <td id=\"T_03201_row3_col5\" class=\"data row3 col5\" >0.36</td>\n",
              "      <td id=\"T_03201_row3_col6\" class=\"data row3 col6\" >0.12</td>\n",
              "      <td id=\"T_03201_row3_col7\" class=\"data row3 col7\" >-0.01</td>\n",
              "    </tr>\n",
              "    <tr>\n",
              "      <th id=\"T_03201_level0_row4\" class=\"row_heading level0 row4\" >icu_yn</th>\n",
              "      <td id=\"T_03201_row4_col0\" class=\"data row4 col0\" >0.01</td>\n",
              "      <td id=\"T_03201_row4_col1\" class=\"data row4 col1\" >0.01</td>\n",
              "      <td id=\"T_03201_row4_col2\" class=\"data row4 col2\" >0.04</td>\n",
              "      <td id=\"T_03201_row4_col3\" class=\"data row4 col3\" >0.15</td>\n",
              "      <td id=\"T_03201_row4_col4\" class=\"data row4 col4\" >1.00</td>\n",
              "      <td id=\"T_03201_row4_col5\" class=\"data row4 col5\" >0.11</td>\n",
              "      <td id=\"T_03201_row4_col6\" class=\"data row4 col6\" >0.03</td>\n",
              "      <td id=\"T_03201_row4_col7\" class=\"data row4 col7\" >-0.03</td>\n",
              "    </tr>\n",
              "    <tr>\n",
              "      <th id=\"T_03201_level0_row5\" class=\"row_heading level0 row5\" >death_yn</th>\n",
              "      <td id=\"T_03201_row5_col0\" class=\"data row5 col0\" >0.01</td>\n",
              "      <td id=\"T_03201_row5_col1\" class=\"data row5 col1\" >0.03</td>\n",
              "      <td id=\"T_03201_row5_col2\" class=\"data row5 col2\" >0.34</td>\n",
              "      <td id=\"T_03201_row5_col3\" class=\"data row5 col3\" >0.36</td>\n",
              "      <td id=\"T_03201_row5_col4\" class=\"data row5 col4\" >0.11</td>\n",
              "      <td id=\"T_03201_row5_col5\" class=\"data row5 col5\" >1.00</td>\n",
              "      <td id=\"T_03201_row5_col6\" class=\"data row5 col6\" >0.15</td>\n",
              "      <td id=\"T_03201_row5_col7\" class=\"data row5 col7\" >-0.01</td>\n",
              "    </tr>\n",
              "    <tr>\n",
              "      <th id=\"T_03201_level0_row6\" class=\"row_heading level0 row6\" >medcond_yn</th>\n",
              "      <td id=\"T_03201_row6_col0\" class=\"data row6 col0\" >-0.02</td>\n",
              "      <td id=\"T_03201_row6_col1\" class=\"data row6 col1\" >-0.00</td>\n",
              "      <td id=\"T_03201_row6_col2\" class=\"data row6 col2\" >0.22</td>\n",
              "      <td id=\"T_03201_row6_col3\" class=\"data row6 col3\" >0.12</td>\n",
              "      <td id=\"T_03201_row6_col4\" class=\"data row6 col4\" >0.03</td>\n",
              "      <td id=\"T_03201_row6_col5\" class=\"data row6 col5\" >0.15</td>\n",
              "      <td id=\"T_03201_row6_col6\" class=\"data row6 col6\" >1.00</td>\n",
              "      <td id=\"T_03201_row6_col7\" class=\"data row6 col7\" >-0.01</td>\n",
              "    </tr>\n",
              "    <tr>\n",
              "      <th id=\"T_03201_level0_row7\" class=\"row_heading level0 row7\" >race</th>\n",
              "      <td id=\"T_03201_row7_col0\" class=\"data row7 col0\" >0.06</td>\n",
              "      <td id=\"T_03201_row7_col1\" class=\"data row7 col1\" >0.01</td>\n",
              "      <td id=\"T_03201_row7_col2\" class=\"data row7 col2\" >0.08</td>\n",
              "      <td id=\"T_03201_row7_col3\" class=\"data row7 col3\" >-0.01</td>\n",
              "      <td id=\"T_03201_row7_col4\" class=\"data row7 col4\" >-0.03</td>\n",
              "      <td id=\"T_03201_row7_col5\" class=\"data row7 col5\" >-0.01</td>\n",
              "      <td id=\"T_03201_row7_col6\" class=\"data row7 col6\" >-0.01</td>\n",
              "      <td id=\"T_03201_row7_col7\" class=\"data row7 col7\" >1.00</td>\n",
              "    </tr>\n",
              "  </tbody>\n",
              "</table>\n"
            ],
            "text/plain": [
              "<pandas.io.formats.style.Styler at 0x20475155240>"
            ]
          },
          "execution_count": 101,
          "metadata": {},
          "output_type": "execute_result"
        }
      ],
      "source": [
        "df.corr().style.background_gradient(cmap='coolwarm').format(precision = 2)"
      ]
    },
    {
      "cell_type": "markdown",
      "id": "KhaQ8v9zSJfA",
      "metadata": {
        "id": "KhaQ8v9zSJfA"
      },
      "source": [
        "# Machine Learning\n",
        "This section implements several Machine Learning algorithms"
      ]
    },
    {
      "cell_type": "markdown",
      "id": "afb98bc1",
      "metadata": {},
      "source": [
        "## Preparations"
      ]
    },
    {
      "cell_type": "markdown",
      "id": "AIp2TVezSbv7",
      "metadata": {
        "id": "AIp2TVezSbv7"
      },
      "source": [
        "### Splitting the dataset into Features and Result; and then into Train and Test"
      ]
    },
    {
      "cell_type": "code",
      "execution_count": 102,
      "id": "HF1PJH3SMVoP",
      "metadata": {
        "id": "HF1PJH3SMVoP"
      },
      "outputs": [],
      "source": [
        "\n",
        "x=df.drop([\"death_yn\"],axis=1)\n",
        "y=df[\"death_yn\"]\n",
        "\n",
        "np.random.seed(1)\n",
        "\n",
        "from sklearn.model_selection import train_test_split, cross_val_score\n",
        "x_train ,x_test,y_train,y_test = train_test_split(x,y,stratify=y,random_state=12,train_size=0.15,test_size = 0.05)"
      ]
    },
    {
      "cell_type": "markdown",
      "id": "lmbaWoG-SlDD",
      "metadata": {
        "id": "lmbaWoG-SlDD"
      },
      "source": [
        "### Some helper functions to print the measurements, the confusion matrix, and the ROC curve"
      ]
    },
    {
      "cell_type": "markdown",
      "id": "1GA4uU9eXJv6",
      "metadata": {
        "id": "1GA4uU9eXJv6"
      },
      "source": [
        "#### Drawing the confusion matrix"
      ]
    },
    {
      "cell_type": "code",
      "execution_count": 103,
      "id": "t36GxsKZXOBd",
      "metadata": {
        "id": "t36GxsKZXOBd"
      },
      "outputs": [],
      "source": [
        "from sklearn.metrics import confusion_matrix\n",
        "\n",
        "def draw_confusion_matrix(y_test, pred, algorithm):\n",
        "  cm = confusion_matrix(y_test, pred)\n",
        "\n",
        "  ax= plt.subplot()\n",
        "  sns.heatmap(cm, annot=True, fmt='g', ax=ax);  #annot=True to annotate cells, ftm='g' to disable scientific notation\n",
        "\n",
        "  # labels, title and ticks\n",
        "  ax.set_xlabel('Predicted values');\n",
        "  ax.set_ylabel('True values'); \n",
        "  ax.set_title('Confusion Matrix for %s' % algorithm); \n",
        "  ax.xaxis.set_ticklabels(target_classes);\n",
        "  ax.yaxis.set_ticklabels(target_classes);"
      ]
    },
    {
      "cell_type": "markdown",
      "id": "BiauiaDqpsGH",
      "metadata": {
        "id": "BiauiaDqpsGH"
      },
      "source": [
        "#### Printing metrics"
      ]
    },
    {
      "cell_type": "code",
      "execution_count": 104,
      "id": "9NAKIpI6pvzz",
      "metadata": {
        "id": "9NAKIpI6pvzz"
      },
      "outputs": [],
      "source": [
        "import sklearn.metrics as metrics\n",
        "\n",
        "def print_metrics(model_name, y_test, y_pred, pred_prob=None):\n",
        "    print(model_name)\n",
        "    print('--------------------------------------------------------------------------')\n",
        " \n",
        "    precision_score = metrics.precision_score(y_test, y_pred, average=\"micro\")\n",
        "    recall_score = metrics.recall_score(y_test, y_pred, average=\"micro\")\n",
        "    \n",
        "    accuracy_score  = metrics.accuracy_score(y_test,y_pred)\n",
        "    print(f'accuracy score :{accuracy_score}') \n",
        "\n",
        "    f1_score = metrics.f1_score(y_test,y_pred, average=\"micro\")\n",
        "    \n",
        "    classification_report = metrics.classification_report(y_test,y_pred, target_names=target_classes)\n",
        "    print(classification_report)"
      ]
    },
    {
      "cell_type": "markdown",
      "id": "M7_hIRXSDbxW",
      "metadata": {
        "id": "M7_hIRXSDbxW"
      },
      "source": [
        "#### Drawing the ROC curve"
      ]
    },
    {
      "cell_type": "code",
      "execution_count": 105,
      "id": "lT7x7tNgDlYV",
      "metadata": {
        "id": "lT7x7tNgDlYV"
      },
      "outputs": [],
      "source": [
        "def draw_roc_curve(y_test, y_pred):\n",
        "  fpr, tpr, threshold = metrics.roc_curve(y_test, y_pred)\n",
        "  roc_auc = metrics.auc(fpr, tpr)\n",
        "\n",
        "  plt.title('Receiver Operating Characteristic Curve')\n",
        "  plt.plot(fpr, tpr, 'b', label = 'AUC = %0.2f' % roc_auc)\n",
        "  plt.legend(loc = 'lower right')\n",
        "  plt.plot([0, 1], [0, 1],'r--')\n",
        "  plt.xlim([0, 1])\n",
        "  plt.ylim([0, 1])\n",
        "  plt.ylabel('True Positive Rate')\n",
        "  plt.xlabel('False Positive Rate')\n",
        "  plt.show()"
      ]
    },
    {
      "cell_type": "markdown",
      "id": "Tyi7NGkkSu05",
      "metadata": {
        "id": "Tyi7NGkkSu05"
      },
      "source": [
        "## Logistic Regression"
      ]
    },
    {
      "cell_type": "code",
      "execution_count": 106,
      "id": "Qver9XdMNCvc",
      "metadata": {
        "colab": {
          "base_uri": "https://localhost:8080/",
          "height": 503
        },
        "id": "Qver9XdMNCvc",
        "outputId": "ff98f86d-52b6-43d1-b143-bd075379051e"
      },
      "outputs": [
        {
          "name": "stdout",
          "output_type": "stream",
          "text": [
            "Logistic Regression\n",
            "--------------------------------------------------------------------------\n",
            "accuracy score :0.9590627175166482\n",
            "              precision    recall  f1-score   support\n",
            "\n",
            "          No       0.97      0.99      0.98    183362\n",
            "         Yes       0.62      0.37      0.46      9152\n",
            "\n",
            "    accuracy                           0.96    192514\n",
            "   macro avg       0.79      0.68      0.72    192514\n",
            "weighted avg       0.95      0.96      0.95    192514\n",
            "\n"
          ]
        },
        {
          "data": {
            "image/png": "[encoded data removed]",
            "text/plain": [
              "<Figure size 432x288 with 2 Axes>"
            ]
          },
          "metadata": {
            "needs_background": "light"
          },
          "output_type": "display_data"
        }
      ],
      "source": [
        "from sklearn.linear_model import LogisticRegression\n",
        "lr_model = LogisticRegression(max_iter=1000,random_state=12)\n",
        "lr_model.fit(x_train,y_train)\n",
        "pred1 = lr_model.predict(x_test)\n",
        "prob1 = lr_model.predict_proba(x_test)\n",
        "draw_confusion_matrix(y_test, pred1, \"Logistic Regression\")\n",
        "print_metrics(\"Logistic Regression\", y_test, pred1, prob1[:,-1])"
      ]
    },
    {
      "cell_type": "code",
      "execution_count": null,
      "id": "GmrAldOzmDAS",
      "metadata": {
        "id": "GmrAldOzmDAS"
      },
      "outputs": [],
      "source": []
    }
  ],
  "metadata": {
    "colab": {
      "collapsed_sections": [],
      "name": "ml.ipynb",
      "provenance": []
    },
    "kernelspec": {
      "display_name": "Python 3.10.5 64-bit",
      "language": "python",
      "name": "python3"
    },
    "language_info": {
      "codemirror_mode": {
        "name": "ipython",
        "version": 3
      },
      "file_extension": ".py",
      "mimetype": "text/x-python",
      "name": "python",
      "nbconvert_exporter": "python",
      "pygments_lexer": "ipython3",
      "version": "3.10.5"
    },
    "vscode": {
      "interpreter": {
        "hash": "83d208b031a4a5a0824f5f0b47c0388aa3b94cdd004c2f68e4341ab470ede466"
      }
    }
  },
  "nbformat": 4,
  "nbformat_minor": 5
}
