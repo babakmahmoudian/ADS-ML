{
  "nbformat": 4,
  "nbformat_minor": 0,
  "metadata": {
    "colab": {
      "provenance": [],
      "collapsed_sections": [],
      "toc_visible": true
    },
    "kernelspec": {
      "name": "python3",
      "display_name": "Python 3"
    },
    "language_info": {
      "name": "python"
    }
  },
  "cells": [
    {
      "cell_type": "markdown",
      "metadata": {
        "id": "70e77aea"
      },
      "source": [
        "# Setting up the environment"
      ]
    },
    {
      "cell_type": "markdown",
      "metadata": {
        "id": "8dbd66ff"
      },
      "source": [
        "## Importing required libraries:\n",
        "Required libraries include:\n",
        "<ul>\n",
        "    <li><strong>Numpy</strong> and <strong>Pandas</strong> for data analysis</li>\n",
        "    <li><strong>Matplotlib</strong> and <strong>Seaborn</strong> for data visualization</li>\n",
        "</ul>"
      ]
    },
    {
      "cell_type": "code",
      "execution_count": null,
      "metadata": {
        "id": "370944bb-0738-4f5a-a9c5-5ee443b5d99f"
      },
      "outputs": [],
      "source": [
        "import numpy as np\n",
        "import pandas as pd\n",
        "import matplotlib.pyplot as plt\n",
        "import seaborn as sns\n",
        "\n",
        "# ML algorithm metrics and measurements:\n",
        "import sklearn.metrics as metrics\n",
        "\n",
        "# Logistic regression:\n",
        "from sklearn.linear_model import LogisticRegression\n",
        "\n",
        "# Logistic regression CV:\n",
        "from sklearn.linear_model import LogisticRegressionCV\n",
        "from sklearn.model_selection import KFold\n",
        "\n",
        "# Bernoulli Naive Bayes Classifier:\n",
        "from sklearn.naive_bayes import BernoulliNB\n",
        "\n",
        "# Random Forest:\n",
        "from sklearn.ensemble import RandomForestClassifier\n",
        "\n",
        "# Classifiers\n",
        "from sklearn.ensemble import BaggingClassifier, RandomForestClassifier\n",
        "from sklearn.tree import DecisionTreeClassifier\n",
        "\n",
        "# Gradient Boosting Classifier\n",
        "from sklearn.ensemble import GradientBoostingClassifier\n",
        "\n",
        "# Ada Boost classifier\n",
        "from sklearn.ensemble import AdaBoostClassifier\n",
        "\n",
        "# XGBoost\n",
        "from xgboost import XGBClassifier\n",
        "from sklearn.model_selection import cross_val_score, RepeatedStratifiedKFold\n",
        "\n",
        "# Cross validation\n",
        "from sklearn.model_selection import cross_validate\n",
        "\n",
        "%matplotlib inline"
      ]
    },
    {
      "cell_type": "markdown",
      "metadata": {
        "id": "d09e7d6b"
      },
      "source": [
        "## Loading the data\n",
        "<p>\n",
        "The dataset was acquired from <a href=\"https://www.kaggle.com/datasets/arashnic/covid19-case-surveillance-public-use-dataset\">Kaggle</a> and it contains the data for covid patients in the US.\n",
        "</p>\n",
        "<p>\n",
        "In order to avoid warning about mixed types, the first three columns need to be parsed as datetime during loading.\n",
        "</p>"
      ]
    },
    {
      "cell_type": "code",
      "execution_count": null,
      "metadata": {
        "id": "737780eb",
        "colab": {
          "base_uri": "https://localhost:8080/"
        },
        "outputId": "9a8917bc-60e1-4c76-fade-2724bdefd932"
      },
      "outputs": [
        {
          "output_type": "stream",
          "name": "stdout",
          "text": [
            "Drive already mounted at /gdrive; to attempt to forcibly remount, call drive.mount(\"/gdrive\", force_remount=True).\n",
            "/gdrive\n"
          ]
        }
      ],
      "source": [
        "from google.colab import drive\n",
        "drive.mount('/gdrive')\n",
        "%cd /gdrive\n",
        "df = pd.read_csv(\"./MyDrive/Datasets/covid/covid.csv\", parse_dates=[0, 1, 2])"
      ]
    },
    {
      "cell_type": "markdown",
      "metadata": {
        "id": "fc3f513c"
      },
      "source": [
        "# Data Analysis"
      ]
    },
    {
      "cell_type": "markdown",
      "metadata": {
        "id": "7b2oczAKjTx4"
      },
      "source": [
        "## Exploring the dataset\n",
        "The following section explores the dataset's properties:\n",
        "<ul>\n",
        "  <li>Overview of data</li>\n",
        "  <li>Shape and size</li>\n",
        "  <li>Features</li>\n",
        "</ul>"
      ]
    },
    {
      "cell_type": "code",
      "execution_count": null,
      "metadata": {
        "colab": {
          "base_uri": "https://localhost:8080/",
          "height": 363
        },
        "id": "2xnfVXybkfjV",
        "outputId": "6d03f98b-b3bb-426e-b979-097d0ed3d429"
      },
      "outputs": [
        {
          "output_type": "execute_result",
          "data": {
            "text/plain": [
              "  cdc_report_dt pos_spec_dt   onset_dt             current_status   sex  \\\n",
              "0    2020-11-10  2020-11-10        NaT  Laboratory-confirmed case  Male   \n",
              "1    2020-11-14  2020-11-10 2020-11-10  Laboratory-confirmed case  Male   \n",
              "2    2020-11-19  2020-11-10 2020-11-09  Laboratory-confirmed case  Male   \n",
              "3    2020-11-14  2020-11-10        NaT  Laboratory-confirmed case  Male   \n",
              "4    2020-11-13  2020-11-10 2020-11-10  Laboratory-confirmed case  Male   \n",
              "5    2020-11-17  2020-11-10 2020-11-08  Laboratory-confirmed case  Male   \n",
              "6    2020-11-14  2020-11-10        NaT  Laboratory-confirmed case  Male   \n",
              "7    2020-11-10  2020-11-10        NaT  Laboratory-confirmed case  Male   \n",
              "8    2020-11-10  2020-11-10        NaT  Laboratory-confirmed case  Male   \n",
              "9    2020-11-17  2020-11-10        NaT  Laboratory-confirmed case  Male   \n",
              "\n",
              "       age_group Race and ethnicity (combined)  hosp_yn   icu_yn death_yn  \\\n",
              "0  10 - 19 Years           Black, Non-Hispanic       No  Unknown       No   \n",
              "1  10 - 19 Years           Black, Non-Hispanic       No       No       No   \n",
              "2  10 - 19 Years           Black, Non-Hispanic       No       No       No   \n",
              "3  10 - 19 Years           Black, Non-Hispanic  Missing  Missing       No   \n",
              "4  10 - 19 Years           Black, Non-Hispanic       No       No       No   \n",
              "5  10 - 19 Years           Black, Non-Hispanic  Missing  Missing  Missing   \n",
              "6  10 - 19 Years           Black, Non-Hispanic       No  Missing  Missing   \n",
              "7  10 - 19 Years           Black, Non-Hispanic  Missing  Missing  Missing   \n",
              "8  10 - 19 Years           Black, Non-Hispanic  Unknown  Unknown       No   \n",
              "9  10 - 19 Years           Black, Non-Hispanic  Missing  Missing  Missing   \n",
              "\n",
              "  medcond_yn  \n",
              "0         No  \n",
              "1         No  \n",
              "2         No  \n",
              "3    Missing  \n",
              "4        Yes  \n",
              "5    Missing  \n",
              "6    Missing  \n",
              "7    Missing  \n",
              "8    Unknown  \n",
              "9    Missing  "
            ],
            "text/html": [
              "\n",
              "  <div id=\"df-2aa5e33a-c5d0-4d10-91f4-b221e09f6f37\">\n",
              "    <div class=\"colab-df-container\">\n",
              "      <div>\n",
              "<style scoped>\n",
              "    .dataframe tbody tr th:only-of-type {\n",
              "        vertical-align: middle;\n",
              "    }\n",
              "\n",
              "    .dataframe tbody tr th {\n",
              "        vertical-align: top;\n",
              "    }\n",
              "\n",
              "    .dataframe thead th {\n",
              "        text-align: right;\n",
              "    }\n",
              "</style>\n",
              "<table border=\"1\" class=\"dataframe\">\n",
              "  <thead>\n",
              "    <tr style=\"text-align: right;\">\n",
              "      <th></th>\n",
              "      <th>cdc_report_dt</th>\n",
              "      <th>pos_spec_dt</th>\n",
              "      <th>onset_dt</th>\n",
              "      <th>current_status</th>\n",
              "      <th>sex</th>\n",
              "      <th>age_group</th>\n",
              "      <th>Race and ethnicity (combined)</th>\n",
              "      <th>hosp_yn</th>\n",
              "      <th>icu_yn</th>\n",
              "      <th>death_yn</th>\n",
              "      <th>medcond_yn</th>\n",
              "    </tr>\n",
              "  </thead>\n",
              "  <tbody>\n",
              "    <tr>\n",
              "      <th>0</th>\n",
              "      <td>2020-11-10</td>\n",
              "      <td>2020-11-10</td>\n",
              "      <td>NaT</td>\n",
              "      <td>Laboratory-confirmed case</td>\n",
              "      <td>Male</td>\n",
              "      <td>10 - 19 Years</td>\n",
              "      <td>Black, Non-Hispanic</td>\n",
              "      <td>No</td>\n",
              "      <td>Unknown</td>\n",
              "      <td>No</td>\n",
              "      <td>No</td>\n",
              "    </tr>\n",
              "    <tr>\n",
              "      <th>1</th>\n",
              "      <td>2020-11-14</td>\n",
              "      <td>2020-11-10</td>\n",
              "      <td>2020-11-10</td>\n",
              "      <td>Laboratory-confirmed case</td>\n",
              "      <td>Male</td>\n",
              "      <td>10 - 19 Years</td>\n",
              "      <td>Black, Non-Hispanic</td>\n",
              "      <td>No</td>\n",
              "      <td>No</td>\n",
              "      <td>No</td>\n",
              "      <td>No</td>\n",
              "    </tr>\n",
              "    <tr>\n",
              "      <th>2</th>\n",
              "      <td>2020-11-19</td>\n",
              "      <td>2020-11-10</td>\n",
              "      <td>2020-11-09</td>\n",
              "      <td>Laboratory-confirmed case</td>\n",
              "      <td>Male</td>\n",
              "      <td>10 - 19 Years</td>\n",
              "      <td>Black, Non-Hispanic</td>\n",
              "      <td>No</td>\n",
              "      <td>No</td>\n",
              "      <td>No</td>\n",
              "      <td>No</td>\n",
              "    </tr>\n",
              "    <tr>\n",
              "      <th>3</th>\n",
              "      <td>2020-11-14</td>\n",
              "      <td>2020-11-10</td>\n",
              "      <td>NaT</td>\n",
              "      <td>Laboratory-confirmed case</td>\n",
              "      <td>Male</td>\n",
              "      <td>10 - 19 Years</td>\n",
              "      <td>Black, Non-Hispanic</td>\n",
              "      <td>Missing</td>\n",
              "      <td>Missing</td>\n",
              "      <td>No</td>\n",
              "      <td>Missing</td>\n",
              "    </tr>\n",
              "    <tr>\n",
              "      <th>4</th>\n",
              "      <td>2020-11-13</td>\n",
              "      <td>2020-11-10</td>\n",
              "      <td>2020-11-10</td>\n",
              "      <td>Laboratory-confirmed case</td>\n",
              "      <td>Male</td>\n",
              "      <td>10 - 19 Years</td>\n",
              "      <td>Black, Non-Hispanic</td>\n",
              "      <td>No</td>\n",
              "      <td>No</td>\n",
              "      <td>No</td>\n",
              "      <td>Yes</td>\n",
              "    </tr>\n",
              "    <tr>\n",
              "      <th>5</th>\n",
              "      <td>2020-11-17</td>\n",
              "      <td>2020-11-10</td>\n",
              "      <td>2020-11-08</td>\n",
              "      <td>Laboratory-confirmed case</td>\n",
              "      <td>Male</td>\n",
              "      <td>10 - 19 Years</td>\n",
              "      <td>Black, Non-Hispanic</td>\n",
              "      <td>Missing</td>\n",
              "      <td>Missing</td>\n",
              "      <td>Missing</td>\n",
              "      <td>Missing</td>\n",
              "    </tr>\n",
              "    <tr>\n",
              "      <th>6</th>\n",
              "      <td>2020-11-14</td>\n",
              "      <td>2020-11-10</td>\n",
              "      <td>NaT</td>\n",
              "      <td>Laboratory-confirmed case</td>\n",
              "      <td>Male</td>\n",
              "      <td>10 - 19 Years</td>\n",
              "      <td>Black, Non-Hispanic</td>\n",
              "      <td>No</td>\n",
              "      <td>Missing</td>\n",
              "      <td>Missing</td>\n",
              "      <td>Missing</td>\n",
              "    </tr>\n",
              "    <tr>\n",
              "      <th>7</th>\n",
              "      <td>2020-11-10</td>\n",
              "      <td>2020-11-10</td>\n",
              "      <td>NaT</td>\n",
              "      <td>Laboratory-confirmed case</td>\n",
              "      <td>Male</td>\n",
              "      <td>10 - 19 Years</td>\n",
              "      <td>Black, Non-Hispanic</td>\n",
              "      <td>Missing</td>\n",
              "      <td>Missing</td>\n",
              "      <td>Missing</td>\n",
              "      <td>Missing</td>\n",
              "    </tr>\n",
              "    <tr>\n",
              "      <th>8</th>\n",
              "      <td>2020-11-10</td>\n",
              "      <td>2020-11-10</td>\n",
              "      <td>NaT</td>\n",
              "      <td>Laboratory-confirmed case</td>\n",
              "      <td>Male</td>\n",
              "      <td>10 - 19 Years</td>\n",
              "      <td>Black, Non-Hispanic</td>\n",
              "      <td>Unknown</td>\n",
              "      <td>Unknown</td>\n",
              "      <td>No</td>\n",
              "      <td>Unknown</td>\n",
              "    </tr>\n",
              "    <tr>\n",
              "      <th>9</th>\n",
              "      <td>2020-11-17</td>\n",
              "      <td>2020-11-10</td>\n",
              "      <td>NaT</td>\n",
              "      <td>Laboratory-confirmed case</td>\n",
              "      <td>Male</td>\n",
              "      <td>10 - 19 Years</td>\n",
              "      <td>Black, Non-Hispanic</td>\n",
              "      <td>Missing</td>\n",
              "      <td>Missing</td>\n",
              "      <td>Missing</td>\n",
              "      <td>Missing</td>\n",
              "    </tr>\n",
              "  </tbody>\n",
              "</table>\n",
              "</div>\n",
              "      <button class=\"colab-df-convert\" onclick=\"convertToInteractive('df-2aa5e33a-c5d0-4d10-91f4-b221e09f6f37')\"\n",
              "              title=\"Convert this dataframe to an interactive table.\"\n",
              "              style=\"display:none;\">\n",
              "        \n",
              "  <svg xmlns=\"http://www.w3.org/2000/svg\" height=\"24px\"viewBox=\"0 0 24 24\"\n",
              "       width=\"24px\">\n",
              "    <path d=\"M0 0h24v24H0V0z\" fill=\"none\"/>\n",
              "    <path d=\"M18.56 5.44l.94 2.06.94-2.06 2.06-.94-2.06-.94-.94-2.06-.94 2.06-2.06.94zm-11 1L8.5 8.5l.94-2.06 2.06-.94-2.06-.94L8.5 2.5l-.94 2.06-2.06.94zm10 10l.94 2.06.94-2.06 2.06-.94-2.06-.94-.94-2.06-.94 2.06-2.06.94z\"/><path d=\"M17.41 7.96l-1.37-1.37c-.4-.4-.92-.59-1.43-.59-.52 0-1.04.2-1.43.59L10.3 9.45l-7.72 7.72c-.78.78-.78 2.05 0 2.83L4 21.41c.39.39.9.59 1.41.59.51 0 1.02-.2 1.41-.59l7.78-7.78 2.81-2.81c.8-.78.8-2.07 0-2.86zM5.41 20L4 18.59l7.72-7.72 1.47 1.35L5.41 20z\"/>\n",
              "  </svg>\n",
              "      </button>\n",
              "      \n",
              "  <style>\n",
              "    .colab-df-container {\n",
              "      display:flex;\n",
              "      flex-wrap:wrap;\n",
              "      gap: 12px;\n",
              "    }\n",
              "\n",
              "    .colab-df-convert {\n",
              "      background-color: #E8F0FE;\n",
              "      border: none;\n",
              "      border-radius: 50%;\n",
              "      cursor: pointer;\n",
              "      display: none;\n",
              "      fill: #1967D2;\n",
              "      height: 32px;\n",
              "      padding: 0 0 0 0;\n",
              "      width: 32px;\n",
              "    }\n",
              "\n",
              "    .colab-df-convert:hover {\n",
              "      background-color: #E2EBFA;\n",
              "      box-shadow: 0px 1px 2px rgba(60, 64, 67, 0.3), 0px 1px 3px 1px rgba(60, 64, 67, 0.15);\n",
              "      fill: #174EA6;\n",
              "    }\n",
              "\n",
              "    [theme=dark] .colab-df-convert {\n",
              "      background-color: #3B4455;\n",
              "      fill: #D2E3FC;\n",
              "    }\n",
              "\n",
              "    [theme=dark] .colab-df-convert:hover {\n",
              "      background-color: #434B5C;\n",
              "      box-shadow: 0px 1px 3px 1px rgba(0, 0, 0, 0.15);\n",
              "      filter: drop-shadow(0px 1px 2px rgba(0, 0, 0, 0.3));\n",
              "      fill: #FFFFFF;\n",
              "    }\n",
              "  </style>\n",
              "\n",
              "      <script>\n",
              "        const buttonEl =\n",
              "          document.querySelector('#df-2aa5e33a-c5d0-4d10-91f4-b221e09f6f37 button.colab-df-convert');\n",
              "        buttonEl.style.display =\n",
              "          google.colab.kernel.accessAllowed ? 'block' : 'none';\n",
              "\n",
              "        async function convertToInteractive(key) {\n",
              "          const element = document.querySelector('#df-2aa5e33a-c5d0-4d10-91f4-b221e09f6f37');\n",
              "          const dataTable =\n",
              "            await google.colab.kernel.invokeFunction('convertToInteractive',\n",
              "                                                     [key], {});\n",
              "          if (!dataTable) return;\n",
              "\n",
              "          const docLinkHtml = 'Like what you see? Visit the ' +\n",
              "            '<a target=\"_blank\" href=https://colab.research.google.com/notebooks/data_table.ipynb>data table notebook</a>'\n",
              "            + ' to learn more about interactive tables.';\n",
              "          element.innerHTML = '';\n",
              "          dataTable['output_type'] = 'display_data';\n",
              "          await google.colab.output.renderOutput(dataTable, element);\n",
              "          const docLink = document.createElement('div');\n",
              "          docLink.innerHTML = docLinkHtml;\n",
              "          element.appendChild(docLink);\n",
              "        }\n",
              "      </script>\n",
              "    </div>\n",
              "  </div>\n",
              "  "
            ]
          },
          "metadata": {},
          "execution_count": 49
        }
      ],
      "source": [
        "df.head(10)"
      ]
    },
    {
      "cell_type": "code",
      "execution_count": null,
      "metadata": {
        "colab": {
          "base_uri": "https://localhost:8080/"
        },
        "id": "zClT2CuxUks8",
        "outputId": "3e177555-c7b8-4e0f-cd7e-e32001c4b6aa"
      },
      "outputs": [
        {
          "output_type": "stream",
          "name": "stdout",
          "text": [
            "The dataset containes 11 features and 8405079 instances.\n"
          ]
        }
      ],
      "source": [
        "no_of_instances, no_of_features = df.shape\n",
        "print(\"The dataset containes %d features and %d instances.\"\n",
        "      %(no_of_features, no_of_instances))"
      ]
    },
    {
      "cell_type": "code",
      "execution_count": null,
      "metadata": {
        "colab": {
          "base_uri": "https://localhost:8080/"
        },
        "id": "38872b79",
        "outputId": "16512cef-ac97-41c8-bf18-349f2bafe3ca"
      },
      "outputs": [
        {
          "output_type": "execute_result",
          "data": {
            "text/plain": [
              "cdc_report_dt                    datetime64[ns]\n",
              "pos_spec_dt                      datetime64[ns]\n",
              "onset_dt                         datetime64[ns]\n",
              "current_status                           object\n",
              "sex                                      object\n",
              "age_group                                object\n",
              "Race and ethnicity (combined)            object\n",
              "hosp_yn                                  object\n",
              "icu_yn                                   object\n",
              "death_yn                                 object\n",
              "medcond_yn                               object\n",
              "dtype: object"
            ]
          },
          "metadata": {},
          "execution_count": 51
        }
      ],
      "source": [
        "df.dtypes"
      ]
    },
    {
      "cell_type": "markdown",
      "metadata": {
        "id": "3NrViCyIC4FD"
      },
      "source": [
        "## Data cleanse"
      ]
    },
    {
      "cell_type": "markdown",
      "metadata": {
        "id": "5t3-fnielvqK"
      },
      "source": [
        "### Splitting \"Race and ethnicity (combined)\" column"
      ]
    },
    {
      "cell_type": "code",
      "execution_count": null,
      "metadata": {
        "colab": {
          "base_uri": "https://localhost:8080/"
        },
        "id": "oKd834hpl0_K",
        "outputId": "43903fba-8fdb-4b0b-f1fe-f7e4132ffb8f"
      },
      "outputs": [
        {
          "output_type": "execute_result",
          "data": {
            "text/plain": [
              "Index(['cdc_report_dt', 'pos_spec_dt', 'onset_dt', 'current_status', 'sex',\n",
              "       'age_group', 'hosp_yn', 'icu_yn', 'death_yn', 'medcond_yn', 'race',\n",
              "       'ethnicity'],\n",
              "      dtype='object')"
            ]
          },
          "metadata": {},
          "execution_count": 52
        }
      ],
      "source": [
        "race_ethnicity_split = df['Race and ethnicity (combined)'].str.split(\",\",n=1,expand=True)\n",
        "df[\"race\"] = race_ethnicity_split[0]\n",
        "df[\"ethnicity\"] = race_ethnicity_split[1]\n",
        "\n",
        "df = df.drop([\"Race and ethnicity (combined)\"], axis=1)\n",
        "\n",
        "df.columns"
      ]
    },
    {
      "cell_type": "markdown",
      "metadata": {
        "id": "wxSgE4jFdEdY"
      },
      "source": [
        "### Dropping unused features\n",
        "\n",
        "\"current_status\", and \"date\" features are not used in our model; so the following can be removed from the data frame:\n",
        "<ul>\n",
        "  <li>cdc_report_dt</li>\n",
        "  <li>pos_spec_dt</li>\n",
        "  <li>ondet_dt</li>\n",
        "</ul>\n"
      ]
    },
    {
      "cell_type": "code",
      "execution_count": null,
      "metadata": {
        "colab": {
          "base_uri": "https://localhost:8080/"
        },
        "id": "6fAwxpITdIRx",
        "outputId": "dbca02ef-9664-4400-d263-41529dbbdb97"
      },
      "outputs": [
        {
          "output_type": "execute_result",
          "data": {
            "text/plain": [
              "Index(['sex', 'age_group', 'hosp_yn', 'icu_yn', 'death_yn', 'medcond_yn',\n",
              "       'race', 'ethnicity'],\n",
              "      dtype='object')"
            ]
          },
          "metadata": {},
          "execution_count": 53
        }
      ],
      "source": [
        "df = df.drop([\"cdc_report_dt\",\n",
        "              \"pos_spec_dt\",\n",
        "              \"onset_dt\",\n",
        "              \"current_status\"], axis=1)\n",
        "\n",
        "df.columns"
      ]
    },
    {
      "cell_type": "markdown",
      "metadata": {
        "id": "YukqAfaxju6X"
      },
      "source": [
        "### Dealing with missing values\n",
        "\n",
        "The below counts the number of NULL values in each feature."
      ]
    },
    {
      "cell_type": "code",
      "execution_count": null,
      "metadata": {
        "colab": {
          "base_uri": "https://localhost:8080/"
        },
        "id": "N4RZ_ds0jz6k",
        "outputId": "de884bac-b509-4d4c-b819-c5cd442eacd2"
      },
      "outputs": [
        {
          "output_type": "execute_result",
          "data": {
            "text/plain": [
              "sex                18\n",
              "age_group          89\n",
              "hosp_yn             0\n",
              "icu_yn              0\n",
              "death_yn            0\n",
              "medcond_yn          0\n",
              "race                7\n",
              "ethnicity     4578441\n",
              "dtype: int64"
            ]
          },
          "metadata": {},
          "execution_count": 54
        }
      ],
      "source": [
        "df.isnull().sum()"
      ]
    },
    {
      "cell_type": "markdown",
      "metadata": {
        "id": "8EFVOMJLpjHE"
      },
      "source": [
        "#### ethnicity\n",
        "\"ethnicity\" containes mostly missing data and the non-Null data are all the same value (unique), so the approach would be to remove this feature:"
      ]
    },
    {
      "cell_type": "code",
      "execution_count": null,
      "metadata": {
        "colab": {
          "base_uri": "https://localhost:8080/"
        },
        "id": "WwmqiqQKppHS",
        "outputId": "56144bfa-ccf7-4f87-ac27-3b364e005f4c"
      },
      "outputs": [
        {
          "output_type": "execute_result",
          "data": {
            "text/plain": [
              " Non-Hispanic    3826638\n",
              "Name: ethnicity, dtype: int64"
            ]
          },
          "metadata": {},
          "execution_count": 55
        }
      ],
      "source": [
        "df[\"ethnicity\"].value_counts()"
      ]
    },
    {
      "cell_type": "code",
      "execution_count": null,
      "metadata": {
        "id": "KeYHw6i5pl95"
      },
      "outputs": [],
      "source": [
        "df = df.drop([\"ethnicity\"], axis=1)"
      ]
    },
    {
      "cell_type": "markdown",
      "metadata": {
        "id": "cPTR0SY1XwhI"
      },
      "source": [
        "#### age_group, race, and sex"
      ]
    },
    {
      "cell_type": "markdown",
      "metadata": {
        "id": "Kl7VfjZbqyVm"
      },
      "source": [
        "As seen below (empty resultset), the instances with missing \"age_group\" data also contain the instances with missing \"sex\" and \"race\"."
      ]
    },
    {
      "cell_type": "code",
      "execution_count": null,
      "metadata": {
        "colab": {
          "base_uri": "https://localhost:8080/"
        },
        "id": "L1ShDq8Xq1P2",
        "outputId": "995ad38e-8f08-4092-d319-d608425961ee"
      },
      "outputs": [
        {
          "output_type": "execute_result",
          "data": {
            "text/plain": [
              "0"
            ]
          },
          "metadata": {},
          "execution_count": 57
        }
      ],
      "source": [
        "df[(df[\"sex\"].isnull() | df[\"race\"].isnull()) & (~df[\"age_group\"].isnull())].shape[0]"
      ]
    },
    {
      "cell_type": "markdown",
      "metadata": {
        "id": "4V02RzP2mlKV"
      },
      "source": [
        "the best approach is to completely remove them from the data frame:"
      ]
    },
    {
      "cell_type": "code",
      "execution_count": null,
      "metadata": {
        "colab": {
          "base_uri": "https://localhost:8080/"
        },
        "id": "3n8Fk4YQVFa9",
        "outputId": "ca759885-739e-422c-ffec-a4527a37b5ec"
      },
      "outputs": [
        {
          "output_type": "execute_result",
          "data": {
            "text/plain": [
              "sex           0\n",
              "age_group     0\n",
              "hosp_yn       0\n",
              "icu_yn        0\n",
              "death_yn      0\n",
              "medcond_yn    0\n",
              "race          0\n",
              "dtype: int64"
            ]
          },
          "metadata": {},
          "execution_count": 58
        }
      ],
      "source": [
        "df = df[~df['age_group'].isnull()]\n",
        "df.isnull().sum()"
      ]
    },
    {
      "cell_type": "markdown",
      "metadata": {
        "id": "ia2Hgj_dkvTn"
      },
      "source": [
        "### Cleaning up the target feature"
      ]
    },
    {
      "cell_type": "markdown",
      "metadata": {
        "id": "wkGjIa6cROqU"
      },
      "source": [
        "The target feature \"death_yn\" will be stating whether the patient has died from COVID or not; however, currently it contains other extra and unclear values as well:"
      ]
    },
    {
      "cell_type": "code",
      "execution_count": null,
      "metadata": {
        "colab": {
          "base_uri": "https://localhost:8080/"
        },
        "id": "fMXYDKZJcRDN",
        "outputId": "829e84a4-478d-4a2d-a80e-b5bbf22056ba"
      },
      "outputs": [
        {
          "output_type": "execute_result",
          "data": {
            "text/plain": [
              "No         3690765\n",
              "Missing    3486890\n",
              "Unknown    1043765\n",
              "Yes         183570\n",
              "Name: death_yn, dtype: int64"
            ]
          },
          "metadata": {},
          "execution_count": 59
        }
      ],
      "source": [
        "df.death_yn.value_counts()"
      ]
    },
    {
      "cell_type": "markdown",
      "metadata": {
        "id": "d2u1kqvtRThv"
      },
      "source": [
        "In order to deal with unclear values, the instances containing \"Unknown\" and \"Missing\" for their \"death_yn\" feature will be removed from the data frame:"
      ]
    },
    {
      "cell_type": "code",
      "execution_count": null,
      "metadata": {
        "colab": {
          "base_uri": "https://localhost:8080/"
        },
        "id": "8k8ZHJZicqE2",
        "outputId": "b0e564f3-19f2-43d6-db60-53cb11bcacef"
      },
      "outputs": [
        {
          "output_type": "execute_result",
          "data": {
            "text/plain": [
              "No     3690765\n",
              "Yes     183570\n",
              "Name: death_yn, dtype: int64"
            ]
          },
          "metadata": {},
          "execution_count": 60
        }
      ],
      "source": [
        "df = df[~df['death_yn'].isin(['Unknown', 'Missing'])]\n",
        "\n",
        "df.death_yn.value_counts()"
      ]
    },
    {
      "cell_type": "markdown",
      "metadata": {
        "id": "l2jc5sAEEr5m"
      },
      "source": [
        "### Converting categorial string features into nominal\n",
        "This step is needed in order to present the correlation matrix"
      ]
    },
    {
      "cell_type": "markdown",
      "metadata": {
        "id": "jLmr0hGwC3wC"
      },
      "source": [
        "#### death_yn"
      ]
    },
    {
      "cell_type": "code",
      "execution_count": null,
      "metadata": {
        "colab": {
          "base_uri": "https://localhost:8080/"
        },
        "id": "y2nl8CptElLJ",
        "outputId": "b27d6bc1-0243-4513-a151-bd410b30e49d"
      },
      "outputs": [
        {
          "output_type": "execute_result",
          "data": {
            "text/plain": [
              "0    3690765\n",
              "1     183570\n",
              "Name: death_yn, dtype: int64"
            ]
          },
          "metadata": {},
          "execution_count": 61
        }
      ],
      "source": [
        "df['death_yn'].replace(['No', 'Yes'],\n",
        "                        [0, 1], inplace=True)\n",
        "\n",
        "df['death_yn'].value_counts()"
      ]
    },
    {
      "cell_type": "markdown",
      "metadata": {
        "id": "yeLy-soWD4lf"
      },
      "source": [
        "#### medcond_yn"
      ]
    },
    {
      "cell_type": "code",
      "execution_count": null,
      "metadata": {
        "colab": {
          "base_uri": "https://localhost:8080/"
        },
        "id": "mg2v0z1M8M5Y",
        "outputId": "bad1c56b-0d11-4ced-8080-7bc90769cb21"
      },
      "outputs": [
        {
          "output_type": "execute_result",
          "data": {
            "text/plain": [
              "Missing    2362102\n",
              "No          565617\n",
              "Yes         559721\n",
              "Unknown     386895\n",
              "Name: medcond_yn, dtype: int64"
            ]
          },
          "metadata": {},
          "execution_count": 62
        }
      ],
      "source": [
        "df[\"medcond_yn\"].value_counts()"
      ]
    },
    {
      "cell_type": "code",
      "execution_count": null,
      "metadata": {
        "colab": {
          "base_uri": "https://localhost:8080/"
        },
        "id": "sBR24s5SD4lg",
        "outputId": "9e0c90a3-6b2a-4330-ed33-bbfa7cd48c1e"
      },
      "outputs": [
        {
          "output_type": "execute_result",
          "data": {
            "text/plain": [
              "0    2748997\n",
              "1     565617\n",
              "2     559721\n",
              "Name: medcond_yn, dtype: int64"
            ]
          },
          "metadata": {},
          "execution_count": 63
        }
      ],
      "source": [
        "df['medcond_yn'].replace(['Missing', 'No', 'Yes', 'Unknown'],\n",
        "                        [0, 1, 2, 0], inplace=True)\n",
        "\n",
        "df['medcond_yn'].value_counts()"
      ]
    },
    {
      "cell_type": "markdown",
      "metadata": {
        "id": "8j7WK8nk6FVt"
      },
      "source": [
        "#### sex"
      ]
    },
    {
      "cell_type": "code",
      "execution_count": null,
      "metadata": {
        "colab": {
          "base_uri": "https://localhost:8080/"
        },
        "id": "0jjqVwDM8TgG",
        "outputId": "f2bde961-c016-463e-d03b-36f9af0cc309"
      },
      "outputs": [
        {
          "output_type": "execute_result",
          "data": {
            "text/plain": [
              "Female     2031674\n",
              "Male       1822491\n",
              "Unknown      13674\n",
              "Missing       6387\n",
              "Other          109\n",
              "Name: sex, dtype: int64"
            ]
          },
          "metadata": {},
          "execution_count": 64
        }
      ],
      "source": [
        "df[\"sex\"].value_counts()"
      ]
    },
    {
      "cell_type": "code",
      "execution_count": null,
      "metadata": {
        "colab": {
          "base_uri": "https://localhost:8080/"
        },
        "id": "fL4V_1Lz6FVu",
        "outputId": "177b6061-7ed1-468a-bd8f-02f22bd7788c"
      },
      "outputs": [
        {
          "output_type": "execute_result",
          "data": {
            "text/plain": [
              "1    2031674\n",
              "2    1822491\n",
              "0      20061\n",
              "3        109\n",
              "Name: sex, dtype: int64"
            ]
          },
          "metadata": {},
          "execution_count": 65
        }
      ],
      "source": [
        "df['sex'].replace(['Female', 'Male', 'Unknown', 'Missing', \"Other\"],\n",
        "                        [1, 2, 0, 0, 3], inplace=True)\n",
        "\n",
        "df['sex'].value_counts()"
      ]
    },
    {
      "cell_type": "markdown",
      "metadata": {
        "id": "6jDd5a-QfCJR"
      },
      "source": [
        "#### hosp_yn"
      ]
    },
    {
      "cell_type": "code",
      "execution_count": null,
      "metadata": {
        "colab": {
          "base_uri": "https://localhost:8080/"
        },
        "id": "j_YhmLebfCJh",
        "outputId": "a6ab2eb5-3dc4-4e41-8aa0-9806f4f82f39"
      },
      "outputs": [
        {
          "output_type": "execute_result",
          "data": {
            "text/plain": [
              "No         2696149\n",
              "Unknown     405513\n",
              "Missing     391361\n",
              "Yes         381312\n",
              "Name: hosp_yn, dtype: int64"
            ]
          },
          "metadata": {},
          "execution_count": 66
        }
      ],
      "source": [
        "df[\"hosp_yn\"].value_counts()"
      ]
    },
    {
      "cell_type": "code",
      "execution_count": null,
      "metadata": {
        "colab": {
          "base_uri": "https://localhost:8080/"
        },
        "id": "Soe5_Jw5fCJh",
        "outputId": "e138e686-6ff2-4d9d-9a54-20f54dbc6533"
      },
      "outputs": [
        {
          "output_type": "execute_result",
          "data": {
            "text/plain": [
              "1    2696149\n",
              "0     796874\n",
              "2     381312\n",
              "Name: hosp_yn, dtype: int64"
            ]
          },
          "metadata": {},
          "execution_count": 67
        }
      ],
      "source": [
        "df['hosp_yn'].replace(['No', 'Yes', 'Unknown', 'Missing'],\n",
        "                        [1, 2, 0, 0], inplace=True)\n",
        "\n",
        "df['hosp_yn'].value_counts()"
      ]
    },
    {
      "cell_type": "markdown",
      "metadata": {
        "id": "A4Fe5kP2gDMK"
      },
      "source": [
        "#### icu_yn"
      ]
    },
    {
      "cell_type": "code",
      "execution_count": null,
      "metadata": {
        "colab": {
          "base_uri": "https://localhost:8080/"
        },
        "id": "wyp49xOQgDMM",
        "outputId": "793e2973-2f2d-47cd-f25a-d2fa24e0c534"
      },
      "outputs": [
        {
          "output_type": "execute_result",
          "data": {
            "text/plain": [
              "Missing    2441745\n",
              "Unknown     699353\n",
              "No          686441\n",
              "Yes          46796\n",
              "Name: icu_yn, dtype: int64"
            ]
          },
          "metadata": {},
          "execution_count": 68
        }
      ],
      "source": [
        "df[\"icu_yn\"].value_counts()"
      ]
    },
    {
      "cell_type": "code",
      "execution_count": null,
      "metadata": {
        "colab": {
          "base_uri": "https://localhost:8080/"
        },
        "id": "_dTQz2WlgDMN",
        "outputId": "27e40f2a-525c-488f-9a57-3b8519d4d03c"
      },
      "outputs": [
        {
          "output_type": "execute_result",
          "data": {
            "text/plain": [
              "0    3141098\n",
              "1     686441\n",
              "2      46796\n",
              "Name: icu_yn, dtype: int64"
            ]
          },
          "metadata": {},
          "execution_count": 69
        }
      ],
      "source": [
        "df['icu_yn'].replace(['No', 'Yes', 'Unknown', 'Missing'],\n",
        "                        [1, 2, 0, 0], inplace=True)\n",
        "\n",
        "df['icu_yn'].value_counts()"
      ]
    },
    {
      "cell_type": "markdown",
      "metadata": {
        "id": "ezO9rQRHD5Kn"
      },
      "source": [
        "#### age_group"
      ]
    },
    {
      "cell_type": "code",
      "execution_count": null,
      "metadata": {
        "colab": {
          "base_uri": "https://localhost:8080/"
        },
        "id": "5AuoHsdW8qVM",
        "outputId": "376c8d5e-cf12-45c6-8b7b-9d7747ab18fa"
      },
      "outputs": [
        {
          "output_type": "execute_result",
          "data": {
            "text/plain": [
              "20 - 29 Years    728676\n",
              "30 - 39 Years    617068\n",
              "40 - 49 Years    573413\n",
              "50 - 59 Years    555579\n",
              "60 - 69 Years    401745\n",
              "10 - 19 Years    393697\n",
              "70 - 79 Years    241759\n",
              "80+ Years        211305\n",
              "0 - 9 Years      146754\n",
              "Unknown            4339\n",
              "Name: age_group, dtype: int64"
            ]
          },
          "metadata": {},
          "execution_count": 70
        }
      ],
      "source": [
        "df['age_group'].value_counts()"
      ]
    },
    {
      "cell_type": "code",
      "execution_count": null,
      "metadata": {
        "colab": {
          "base_uri": "https://localhost:8080/"
        },
        "id": "0iFGZkNcD5Kn",
        "outputId": "13d41913-a50c-4d6f-8f4c-57b46b6c2ce8"
      },
      "outputs": [
        {
          "output_type": "execute_result",
          "data": {
            "text/plain": [
              "2    728676\n",
              "3    617068\n",
              "4    573413\n",
              "5    555579\n",
              "6    401745\n",
              "1    393697\n",
              "7    241759\n",
              "8    211305\n",
              "0    146754\n",
              "9      4339\n",
              "Name: age_group, dtype: int64"
            ]
          },
          "metadata": {},
          "execution_count": 71
        }
      ],
      "source": [
        "df['age_group'].replace([\n",
        "    '0 - 9 Years', \n",
        "    '10 - 19 Years',\n",
        "    '20 - 29 Years',\n",
        "    '30 - 39 Years',\n",
        "    '40 - 49 Years',\n",
        "    '50 - 59 Years',\n",
        "    '60 - 69 Years',\n",
        "    '70 - 79 Years',\n",
        "    '80+ Years',\n",
        "    'Unknown'\n",
        "    ],\n",
        "    range(10), inplace=True)\n",
        "\n",
        "df['age_group'].value_counts()"
      ]
    },
    {
      "cell_type": "markdown",
      "metadata": {
        "id": "y6_4dtqirZyh"
      },
      "source": [
        "#### race"
      ]
    },
    {
      "cell_type": "code",
      "execution_count": null,
      "metadata": {
        "colab": {
          "base_uri": "https://localhost:8080/"
        },
        "id": "-1mWkGdyrZyi",
        "outputId": "b93f255f-a609-47b3-dab8-7dacd088da75"
      },
      "outputs": [
        {
          "output_type": "execute_result",
          "data": {
            "text/plain": [
              "White                                     1449748\n",
              "Unknown                                    997563\n",
              "Hispanic/Latino                            599219\n",
              "Black                                      400079\n",
              "Missing                                    160688\n",
              "Multiple/Other                             152141\n",
              "Asian                                       84137\n",
              "American Indian/Alaska Native               20524\n",
              "Native Hawaiian/Other Pacific Islander      10236\n",
              "Name: race, dtype: int64"
            ]
          },
          "metadata": {},
          "execution_count": 72
        }
      ],
      "source": [
        "df['race'].value_counts()"
      ]
    },
    {
      "cell_type": "code",
      "execution_count": null,
      "metadata": {
        "colab": {
          "base_uri": "https://localhost:8080/"
        },
        "id": "srG2Vlc1rZyi",
        "outputId": "079daff7-e2b7-4484-ff28-42163b4cd5d6"
      },
      "outputs": [
        {
          "output_type": "execute_result",
          "data": {
            "text/plain": [
              "1    1449748\n",
              "0    1310392\n",
              "2     599219\n",
              "3     400079\n",
              "4      84137\n",
              "5      20524\n",
              "6      10236\n",
              "Name: race, dtype: int64"
            ]
          },
          "metadata": {},
          "execution_count": 73
        }
      ],
      "source": [
        "df['race'].replace([\n",
        "    'Unknown', \n",
        "    'Missing',\n",
        "    'Multiple/Other',\n",
        "    'White',\n",
        "    'Hispanic/Latino',\n",
        "    'Black',\n",
        "    'Asian',\n",
        "    'American Indian/Alaska Native',\n",
        "    'Native Hawaiian/Other Pacific Islander',\n",
        "    ],\n",
        "    [0, 0, 0, 1, 2, 3, 4, 5, 6], inplace=True)\n",
        "\n",
        "df['race'].value_counts()"
      ]
    },
    {
      "cell_type": "markdown",
      "metadata": {
        "id": "mrcf4AwqY9Wp"
      },
      "source": [
        "### The final shape of the DF"
      ]
    },
    {
      "cell_type": "code",
      "execution_count": null,
      "metadata": {
        "colab": {
          "base_uri": "https://localhost:8080/"
        },
        "id": "tzEvVPt2ZHF3",
        "outputId": "e044cff5-1b1b-4176-d5ce-3796b331a915"
      },
      "outputs": [
        {
          "output_type": "execute_result",
          "data": {
            "text/plain": [
              "(3874335, 7)"
            ]
          },
          "metadata": {},
          "execution_count": 74
        }
      ],
      "source": [
        "df.shape"
      ]
    },
    {
      "cell_type": "code",
      "execution_count": null,
      "metadata": {
        "colab": {
          "base_uri": "https://localhost:8080/"
        },
        "id": "ioC4OD-jgIkm",
        "outputId": "09b2595a-ef3b-484e-cfb3-9d21e493216a"
      },
      "outputs": [
        {
          "output_type": "execute_result",
          "data": {
            "text/plain": [
              "sex           int64\n",
              "age_group     int64\n",
              "hosp_yn       int64\n",
              "icu_yn        int64\n",
              "death_yn      int64\n",
              "medcond_yn    int64\n",
              "race          int64\n",
              "dtype: object"
            ]
          },
          "metadata": {},
          "execution_count": 75
        }
      ],
      "source": [
        "df.dtypes"
      ]
    },
    {
      "cell_type": "markdown",
      "metadata": {
        "id": "D8rLUM4ulMJ-"
      },
      "source": [
        "## Correlation Matrix\n",
        "The following displays the correlation matrix containing all the numeric variables."
      ]
    },
    {
      "cell_type": "code",
      "execution_count": null,
      "metadata": {
        "colab": {
          "base_uri": "https://localhost:8080/",
          "height": 269
        },
        "id": "wDiMXbKLwlX6",
        "outputId": "c5192648-359d-4d0a-d6c2-05ed10b64037"
      },
      "outputs": [
        {
          "output_type": "execute_result",
          "data": {
            "text/plain": [
              "<pandas.io.formats.style.Styler at 0x7fb2f7f33210>"
            ],
            "text/html": [
              "<style type=\"text/css\">\n",
              "#T_4efad_row0_col0, #T_4efad_row1_col1, #T_4efad_row2_col2, #T_4efad_row3_col3, #T_4efad_row4_col4, #T_4efad_row5_col5, #T_4efad_row6_col6 {\n",
              "  background-color: #b40426;\n",
              "  color: #f1f1f1;\n",
              "}\n",
              "#T_4efad_row0_col1, #T_4efad_row0_col2, #T_4efad_row0_col3, #T_4efad_row0_col4, #T_4efad_row0_col5, #T_4efad_row0_col6, #T_4efad_row1_col0, #T_4efad_row1_col6, #T_4efad_row6_col0 {\n",
              "  background-color: #3b4cc0;\n",
              "  color: #f1f1f1;\n",
              "}\n",
              "#T_4efad_row1_col2 {\n",
              "  background-color: #6f92f3;\n",
              "  color: #f1f1f1;\n",
              "}\n",
              "#T_4efad_row1_col3 {\n",
              "  background-color: #455cce;\n",
              "  color: #f1f1f1;\n",
              "}\n",
              "#T_4efad_row1_col4 {\n",
              "  background-color: #a6c4fe;\n",
              "  color: #000000;\n",
              "}\n",
              "#T_4efad_row1_col5, #T_4efad_row6_col5 {\n",
              "  background-color: #6384eb;\n",
              "  color: #f1f1f1;\n",
              "}\n",
              "#T_4efad_row2_col0, #T_4efad_row3_col0 {\n",
              "  background-color: #4257c9;\n",
              "  color: #f1f1f1;\n",
              "}\n",
              "#T_4efad_row2_col1 {\n",
              "  background-color: #779af7;\n",
              "  color: #f1f1f1;\n",
              "}\n",
              "#T_4efad_row2_col3 {\n",
              "  background-color: #94b6ff;\n",
              "  color: #000000;\n",
              "}\n",
              "#T_4efad_row2_col4 {\n",
              "  background-color: #7597f6;\n",
              "  color: #f1f1f1;\n",
              "}\n",
              "#T_4efad_row2_col5 {\n",
              "  background-color: #6b8df0;\n",
              "  color: #f1f1f1;\n",
              "}\n",
              "#T_4efad_row2_col6 {\n",
              "  background-color: #688aef;\n",
              "  color: #f1f1f1;\n",
              "}\n",
              "#T_4efad_row3_col1, #T_4efad_row3_col4 {\n",
              "  background-color: #4c66d6;\n",
              "  color: #f1f1f1;\n",
              "}\n",
              "#T_4efad_row3_col2 {\n",
              "  background-color: #93b5fe;\n",
              "  color: #000000;\n",
              "}\n",
              "#T_4efad_row3_col5 {\n",
              "  background-color: #d6dce4;\n",
              "  color: #000000;\n",
              "}\n",
              "#T_4efad_row3_col6 {\n",
              "  background-color: #5572df;\n",
              "  color: #f1f1f1;\n",
              "}\n",
              "#T_4efad_row4_col0 {\n",
              "  background-color: #465ecf;\n",
              "  color: #f1f1f1;\n",
              "}\n",
              "#T_4efad_row4_col1 {\n",
              "  background-color: #afcafc;\n",
              "  color: #000000;\n",
              "}\n",
              "#T_4efad_row4_col2 {\n",
              "  background-color: #799cf8;\n",
              "  color: #f1f1f1;\n",
              "}\n",
              "#T_4efad_row4_col3 {\n",
              "  background-color: #506bda;\n",
              "  color: #f1f1f1;\n",
              "}\n",
              "#T_4efad_row4_col5 {\n",
              "  background-color: #5b7ae5;\n",
              "  color: #f1f1f1;\n",
              "}\n",
              "#T_4efad_row4_col6 {\n",
              "  background-color: #4b64d5;\n",
              "  color: #f1f1f1;\n",
              "}\n",
              "#T_4efad_row5_col0 {\n",
              "  background-color: #3d50c3;\n",
              "  color: #f1f1f1;\n",
              "}\n",
              "#T_4efad_row5_col1 {\n",
              "  background-color: #6485ec;\n",
              "  color: #f1f1f1;\n",
              "}\n",
              "#T_4efad_row5_col2, #T_4efad_row5_col6 {\n",
              "  background-color: #6687ed;\n",
              "  color: #f1f1f1;\n",
              "}\n",
              "#T_4efad_row5_col3 {\n",
              "  background-color: #d3dbe7;\n",
              "  color: #000000;\n",
              "}\n",
              "#T_4efad_row5_col4 {\n",
              "  background-color: #516ddb;\n",
              "  color: #f1f1f1;\n",
              "}\n",
              "#T_4efad_row6_col1 {\n",
              "  background-color: #3c4ec2;\n",
              "  color: #f1f1f1;\n",
              "}\n",
              "#T_4efad_row6_col2 {\n",
              "  background-color: #6180e9;\n",
              "  color: #f1f1f1;\n",
              "}\n",
              "#T_4efad_row6_col3 {\n",
              "  background-color: #4e68d8;\n",
              "  color: #f1f1f1;\n",
              "}\n",
              "#T_4efad_row6_col4 {\n",
              "  background-color: #3f53c6;\n",
              "  color: #f1f1f1;\n",
              "}\n",
              "</style>\n",
              "<table id=\"T_4efad_\" class=\"dataframe\">\n",
              "  <thead>\n",
              "    <tr>\n",
              "      <th class=\"blank level0\" >&nbsp;</th>\n",
              "      <th class=\"col_heading level0 col0\" >sex</th>\n",
              "      <th class=\"col_heading level0 col1\" >age_group</th>\n",
              "      <th class=\"col_heading level0 col2\" >hosp_yn</th>\n",
              "      <th class=\"col_heading level0 col3\" >icu_yn</th>\n",
              "      <th class=\"col_heading level0 col4\" >death_yn</th>\n",
              "      <th class=\"col_heading level0 col5\" >medcond_yn</th>\n",
              "      <th class=\"col_heading level0 col6\" >race</th>\n",
              "    </tr>\n",
              "  </thead>\n",
              "  <tbody>\n",
              "    <tr>\n",
              "      <th id=\"T_4efad_level0_row0\" class=\"row_heading level0 row0\" >sex</th>\n",
              "      <td id=\"T_4efad_row0_col0\" class=\"data row0 col0\" >1.00</td>\n",
              "      <td id=\"T_4efad_row0_col1\" class=\"data row0 col1\" >-0.01</td>\n",
              "      <td id=\"T_4efad_row0_col2\" class=\"data row0 col2\" >0.02</td>\n",
              "      <td id=\"T_4efad_row0_col3\" class=\"data row0 col3\" >0.01</td>\n",
              "      <td id=\"T_4efad_row0_col4\" class=\"data row0 col4\" >0.03</td>\n",
              "      <td id=\"T_4efad_row0_col5\" class=\"data row0 col5\" >-0.00</td>\n",
              "      <td id=\"T_4efad_row0_col6\" class=\"data row0 col6\" >-0.01</td>\n",
              "    </tr>\n",
              "    <tr>\n",
              "      <th id=\"T_4efad_level0_row1\" class=\"row_heading level0 row1\" >age_group</th>\n",
              "      <td id=\"T_4efad_row1_col0\" class=\"data row1 col0\" >-0.01</td>\n",
              "      <td id=\"T_4efad_row1_col1\" class=\"data row1 col1\" >1.00</td>\n",
              "      <td id=\"T_4efad_row1_col2\" class=\"data row1 col2\" >0.18</td>\n",
              "      <td id=\"T_4efad_row1_col3\" class=\"data row1 col3\" >0.05</td>\n",
              "      <td id=\"T_4efad_row1_col4\" class=\"data row1 col4\" >0.34</td>\n",
              "      <td id=\"T_4efad_row1_col5\" class=\"data row1 col5\" >0.13</td>\n",
              "      <td id=\"T_4efad_row1_col6\" class=\"data row1 col6\" >-0.01</td>\n",
              "    </tr>\n",
              "    <tr>\n",
              "      <th id=\"T_4efad_level0_row2\" class=\"row_heading level0 row2\" >hosp_yn</th>\n",
              "      <td id=\"T_4efad_row2_col0\" class=\"data row2 col0\" >0.02</td>\n",
              "      <td id=\"T_4efad_row2_col1\" class=\"data row2 col1\" >0.18</td>\n",
              "      <td id=\"T_4efad_row2_col2\" class=\"data row2 col2\" >1.00</td>\n",
              "      <td id=\"T_4efad_row2_col3\" class=\"data row2 col3\" >0.28</td>\n",
              "      <td id=\"T_4efad_row2_col4\" class=\"data row2 col4\" >0.20</td>\n",
              "      <td id=\"T_4efad_row2_col5\" class=\"data row2 col5\" >0.15</td>\n",
              "      <td id=\"T_4efad_row2_col6\" class=\"data row2 col6\" >0.14</td>\n",
              "    </tr>\n",
              "    <tr>\n",
              "      <th id=\"T_4efad_level0_row3\" class=\"row_heading level0 row3\" >icu_yn</th>\n",
              "      <td id=\"T_4efad_row3_col0\" class=\"data row3 col0\" >0.01</td>\n",
              "      <td id=\"T_4efad_row3_col1\" class=\"data row3 col1\" >0.05</td>\n",
              "      <td id=\"T_4efad_row3_col2\" class=\"data row3 col2\" >0.28</td>\n",
              "      <td id=\"T_4efad_row3_col3\" class=\"data row3 col3\" >1.00</td>\n",
              "      <td id=\"T_4efad_row3_col4\" class=\"data row3 col4\" >0.09</td>\n",
              "      <td id=\"T_4efad_row3_col5\" class=\"data row3 col5\" >0.47</td>\n",
              "      <td id=\"T_4efad_row3_col6\" class=\"data row3 col6\" >0.08</td>\n",
              "    </tr>\n",
              "    <tr>\n",
              "      <th id=\"T_4efad_level0_row4\" class=\"row_heading level0 row4\" >death_yn</th>\n",
              "      <td id=\"T_4efad_row4_col0\" class=\"data row4 col0\" >0.03</td>\n",
              "      <td id=\"T_4efad_row4_col1\" class=\"data row4 col1\" >0.34</td>\n",
              "      <td id=\"T_4efad_row4_col2\" class=\"data row4 col2\" >0.20</td>\n",
              "      <td id=\"T_4efad_row4_col3\" class=\"data row4 col3\" >0.09</td>\n",
              "      <td id=\"T_4efad_row4_col4\" class=\"data row4 col4\" >1.00</td>\n",
              "      <td id=\"T_4efad_row4_col5\" class=\"data row4 col5\" >0.10</td>\n",
              "      <td id=\"T_4efad_row4_col6\" class=\"data row4 col6\" >0.05</td>\n",
              "    </tr>\n",
              "    <tr>\n",
              "      <th id=\"T_4efad_level0_row5\" class=\"row_heading level0 row5\" >medcond_yn</th>\n",
              "      <td id=\"T_4efad_row5_col0\" class=\"data row5 col0\" >-0.00</td>\n",
              "      <td id=\"T_4efad_row5_col1\" class=\"data row5 col1\" >0.13</td>\n",
              "      <td id=\"T_4efad_row5_col2\" class=\"data row5 col2\" >0.15</td>\n",
              "      <td id=\"T_4efad_row5_col3\" class=\"data row5 col3\" >0.47</td>\n",
              "      <td id=\"T_4efad_row5_col4\" class=\"data row5 col4\" >0.10</td>\n",
              "      <td id=\"T_4efad_row5_col5\" class=\"data row5 col5\" >1.00</td>\n",
              "      <td id=\"T_4efad_row5_col6\" class=\"data row5 col6\" >0.13</td>\n",
              "    </tr>\n",
              "    <tr>\n",
              "      <th id=\"T_4efad_level0_row6\" class=\"row_heading level0 row6\" >race</th>\n",
              "      <td id=\"T_4efad_row6_col0\" class=\"data row6 col0\" >-0.01</td>\n",
              "      <td id=\"T_4efad_row6_col1\" class=\"data row6 col1\" >-0.01</td>\n",
              "      <td id=\"T_4efad_row6_col2\" class=\"data row6 col2\" >0.14</td>\n",
              "      <td id=\"T_4efad_row6_col3\" class=\"data row6 col3\" >0.08</td>\n",
              "      <td id=\"T_4efad_row6_col4\" class=\"data row6 col4\" >0.05</td>\n",
              "      <td id=\"T_4efad_row6_col5\" class=\"data row6 col5\" >0.13</td>\n",
              "      <td id=\"T_4efad_row6_col6\" class=\"data row6 col6\" >1.00</td>\n",
              "    </tr>\n",
              "  </tbody>\n",
              "</table>\n"
            ]
          },
          "metadata": {},
          "execution_count": 76
        }
      ],
      "source": [
        "df.corr() \\\n",
        "    .style.background_gradient(cmap='coolwarm') \\\n",
        "    .format(precision = 2)"
      ]
    },
    {
      "cell_type": "markdown",
      "metadata": {
        "id": "KhaQ8v9zSJfA"
      },
      "source": [
        "# Machine Learning\n",
        "This section implements several Machine Learning algorithms"
      ]
    },
    {
      "cell_type": "markdown",
      "metadata": {
        "id": "afb98bc1"
      },
      "source": [
        "## Preparations"
      ]
    },
    {
      "cell_type": "markdown",
      "metadata": {
        "id": "wbKUYA_3utDN"
      },
      "source": [
        "### Splitting the data into training and testing subsets"
      ]
    },
    {
      "cell_type": "code",
      "execution_count": null,
      "metadata": {
        "id": "-LzasznHMsGZ"
      },
      "outputs": [],
      "source": [
        "# Splitting the dataset into features and results\n",
        "x=df.drop(\"death_yn\",axis=1)\n",
        "y=df[\"death_yn\"]"
      ]
    },
    {
      "cell_type": "code",
      "execution_count": null,
      "metadata": {
        "id": "hTB1gPHdMtl1"
      },
      "outputs": [],
      "source": [
        "np.random.seed(42)\n",
        "\n",
        "from sklearn.model_selection import train_test_split, cross_val_score\n",
        "x_train ,x_test,y_train,y_test = train_test_split(x,y,stratify=y,random_state=12,test_size = 0.025, train_size=0.1)"
      ]
    },
    {
      "cell_type": "markdown",
      "metadata": {
        "id": "ez25A2iXutDN"
      },
      "source": [
        "### Defining helper functions"
      ]
    },
    {
      "cell_type": "markdown",
      "metadata": {
        "id": "xcJEpt2sutDO"
      },
      "source": [
        "#### Preparing the comparison table"
      ]
    },
    {
      "cell_type": "code",
      "execution_count": null,
      "metadata": {
        "id": "WH4d0tVWMvVl"
      },
      "outputs": [],
      "source": [
        "columns = ['Model','accuracy score', ' Precision','Recall','f1_score']\n",
        "evaluation_df = pd.DataFrame(columns=columns)"
      ]
    },
    {
      "cell_type": "markdown",
      "metadata": {
        "id": "9uxW9ArLutDO"
      },
      "source": [
        "#### Drawing the confusion matrix"
      ]
    },
    {
      "cell_type": "code",
      "execution_count": null,
      "metadata": {
        "id": "Ytj8z_0VutDO"
      },
      "outputs": [],
      "source": [
        "def Plot_confusion_matrix(y, pred, model_name):\n",
        "    cm = metrics.confusion_matrix(y, pred)\n",
        "    plt.clf()\n",
        "    plt.imshow(cm, cmap=plt.cm.Accent)\n",
        "    categoryNames = ['Survival','Death']\n",
        "    plt.title(f'Confusion Matrix - {model_name}')\n",
        "    plt.ylabel('True labels')\n",
        "    plt.xlabel('Predicted labels')\n",
        "    ticks = np.arange(len(categoryNames))\n",
        "    plt.xticks(ticks, categoryNames, rotation=45)\n",
        "    plt.yticks(ticks, categoryNames)\n",
        "    s = [['TN','FP'], ['FN', 'TP']]\n",
        "\n",
        "    for i in range(2):\n",
        "        for j in range(2):\n",
        "            plt.text(j,i, str(s[i][j])+\" = \"+str(cm[i][j]),fontsize=12)\n",
        "    plt.show()"
      ]
    },
    {
      "cell_type": "markdown",
      "metadata": {
        "id": "Ndb02nGPutDO"
      },
      "source": [
        "#### Plotting ROC"
      ]
    },
    {
      "cell_type": "code",
      "execution_count": null,
      "metadata": {
        "id": "RrcpzqOOMw0-"
      },
      "outputs": [],
      "source": [
        "def Plot_roc_curve(y, y_prob, model_name):\n",
        "    plt.title(f'ROC Curve - {model_name}')\n",
        "    fpr, tpr, thresholds = metrics.roc_curve(y, y_prob)\n",
        "    plt.plot(fpr,tpr,label=\"Test, auc=\"+str(metrics.roc_auc_score(y, y_prob)))\n",
        "    plt.legend(loc=4)\n",
        "    plt.show()"
      ]
    },
    {
      "cell_type": "markdown",
      "metadata": {
        "id": "pEVa9d4VutDP"
      },
      "source": [
        "#### Displaying metrics"
      ]
    },
    {
      "cell_type": "code",
      "execution_count": null,
      "metadata": {
        "id": "vbe4hlegutDP"
      },
      "outputs": [],
      "source": [
        "def print_results(model_name, y_test, y_pred, pred_prob=None):\n",
        "    print(model_name)\n",
        "    print('--------------------------------------------------------------------------')\n",
        " \n",
        "    precision_score = metrics.precision_score(y_test, y_pred)\n",
        "    recall_score = metrics.recall_score(y_test, y_pred)\n",
        "    \n",
        "    accuracy_score  = metrics.accuracy_score(y_test,y_pred)\n",
        "    print(f'accuracy score :{accuracy_score}') \n",
        "\n",
        "    f1_score = metrics.f1_score(y_test,y_pred)\n",
        "    \n",
        "    classification_report = metrics.classification_report(y_test,y_pred)\n",
        "    print(classification_report)\n",
        "    \n",
        "#   save scores into dataframe for comparison\n",
        "    evaluation_df.loc[len(evaluation_df.index)] = [model_name,accuracy_score,precision_score,recall_score, f1_score]\n",
        "    \n",
        "    Plot_confusion_matrix(y_test,y_pred,model_name)\n",
        "    \n",
        "    if pred_prob is not None:\n",
        "        Plot_roc_curve(y_test,pred_prob,model_name)\n"
      ]
    },
    {
      "cell_type": "markdown",
      "metadata": {
        "id": "SRzQnXglutDP"
      },
      "source": [
        "## ML Algorithms"
      ]
    },
    {
      "cell_type": "markdown",
      "metadata": {
        "id": "wMigjXTyutDP"
      },
      "source": [
        "### Logistic regression"
      ]
    },
    {
      "cell_type": "code",
      "execution_count": null,
      "metadata": {
        "colab": {
          "base_uri": "https://localhost:8080/",
          "height": 875
        },
        "id": "rg-wp660Mz-4",
        "outputId": "c53bc6e7-2b12-4051-928f-b3d71f7ba83f"
      },
      "outputs": [
        {
          "output_type": "stream",
          "name": "stdout",
          "text": [
            "Logistic Regression\n",
            "--------------------------------------------------------------------------\n",
            "accuracy score :0.9551616266944735\n",
            "              precision    recall  f1-score   support\n",
            "\n",
            "           0       0.96      0.99      0.98     92270\n",
            "           1       0.58      0.20      0.29      4589\n",
            "\n",
            "    accuracy                           0.96     96859\n",
            "   macro avg       0.77      0.59      0.64     96859\n",
            "weighted avg       0.94      0.96      0.94     96859\n",
            "\n"
          ]
        },
        {
          "output_type": "display_data",
          "data": {
            "text/plain": [
              "<Figure size 432x288 with 1 Axes>"
            ],
            "image/png": "[encoded data removed]"
          },
          "metadata": {
            "needs_background": "light"
          }
        },
        {
          "output_type": "display_data",
          "data": {
            "text/plain": [
              "<Figure size 432x288 with 1 Axes>"
            ],
            "image/png": "[encoded data removed]"
          },
          "metadata": {
            "needs_background": "light"
          }
        },
        {
          "output_type": "execute_result",
          "data": {
            "text/plain": [
              "                 Model  accuracy score   Precision    Recall  f1_score\n",
              "0  Logistic Regression        0.955162    0.578745  0.196993  0.293936"
            ],
            "text/html": [
              "\n",
              "  <div id=\"df-a7a49ba9-7cd7-45ed-a5c2-a4d5c9d55d6b\">\n",
              "    <div class=\"colab-df-container\">\n",
              "      <div>\n",
              "<style scoped>\n",
              "    .dataframe tbody tr th:only-of-type {\n",
              "        vertical-align: middle;\n",
              "    }\n",
              "\n",
              "    .dataframe tbody tr th {\n",
              "        vertical-align: top;\n",
              "    }\n",
              "\n",
              "    .dataframe thead th {\n",
              "        text-align: right;\n",
              "    }\n",
              "</style>\n",
              "<table border=\"1\" class=\"dataframe\">\n",
              "  <thead>\n",
              "    <tr style=\"text-align: right;\">\n",
              "      <th></th>\n",
              "      <th>Model</th>\n",
              "      <th>accuracy score</th>\n",
              "      <th>Precision</th>\n",
              "      <th>Recall</th>\n",
              "      <th>f1_score</th>\n",
              "    </tr>\n",
              "  </thead>\n",
              "  <tbody>\n",
              "    <tr>\n",
              "      <th>0</th>\n",
              "      <td>Logistic Regression</td>\n",
              "      <td>0.955162</td>\n",
              "      <td>0.578745</td>\n",
              "      <td>0.196993</td>\n",
              "      <td>0.293936</td>\n",
              "    </tr>\n",
              "  </tbody>\n",
              "</table>\n",
              "</div>\n",
              "      <button class=\"colab-df-convert\" onclick=\"convertToInteractive('df-a7a49ba9-7cd7-45ed-a5c2-a4d5c9d55d6b')\"\n",
              "              title=\"Convert this dataframe to an interactive table.\"\n",
              "              style=\"display:none;\">\n",
              "        \n",
              "  <svg xmlns=\"http://www.w3.org/2000/svg\" height=\"24px\"viewBox=\"0 0 24 24\"\n",
              "       width=\"24px\">\n",
              "    <path d=\"M0 0h24v24H0V0z\" fill=\"none\"/>\n",
              "    <path d=\"M18.56 5.44l.94 2.06.94-2.06 2.06-.94-2.06-.94-.94-2.06-.94 2.06-2.06.94zm-11 1L8.5 8.5l.94-2.06 2.06-.94-2.06-.94L8.5 2.5l-.94 2.06-2.06.94zm10 10l.94 2.06.94-2.06 2.06-.94-2.06-.94-.94-2.06-.94 2.06-2.06.94z\"/><path d=\"M17.41 7.96l-1.37-1.37c-.4-.4-.92-.59-1.43-.59-.52 0-1.04.2-1.43.59L10.3 9.45l-7.72 7.72c-.78.78-.78 2.05 0 2.83L4 21.41c.39.39.9.59 1.41.59.51 0 1.02-.2 1.41-.59l7.78-7.78 2.81-2.81c.8-.78.8-2.07 0-2.86zM5.41 20L4 18.59l7.72-7.72 1.47 1.35L5.41 20z\"/>\n",
              "  </svg>\n",
              "      </button>\n",
              "      \n",
              "  <style>\n",
              "    .colab-df-container {\n",
              "      display:flex;\n",
              "      flex-wrap:wrap;\n",
              "      gap: 12px;\n",
              "    }\n",
              "\n",
              "    .colab-df-convert {\n",
              "      background-color: #E8F0FE;\n",
              "      border: none;\n",
              "      border-radius: 50%;\n",
              "      cursor: pointer;\n",
              "      display: none;\n",
              "      fill: #1967D2;\n",
              "      height: 32px;\n",
              "      padding: 0 0 0 0;\n",
              "      width: 32px;\n",
              "    }\n",
              "\n",
              "    .colab-df-convert:hover {\n",
              "      background-color: #E2EBFA;\n",
              "      box-shadow: 0px 1px 2px rgba(60, 64, 67, 0.3), 0px 1px 3px 1px rgba(60, 64, 67, 0.15);\n",
              "      fill: #174EA6;\n",
              "    }\n",
              "\n",
              "    [theme=dark] .colab-df-convert {\n",
              "      background-color: #3B4455;\n",
              "      fill: #D2E3FC;\n",
              "    }\n",
              "\n",
              "    [theme=dark] .colab-df-convert:hover {\n",
              "      background-color: #434B5C;\n",
              "      box-shadow: 0px 1px 3px 1px rgba(0, 0, 0, 0.15);\n",
              "      filter: drop-shadow(0px 1px 2px rgba(0, 0, 0, 0.3));\n",
              "      fill: #FFFFFF;\n",
              "    }\n",
              "  </style>\n",
              "\n",
              "      <script>\n",
              "        const buttonEl =\n",
              "          document.querySelector('#df-a7a49ba9-7cd7-45ed-a5c2-a4d5c9d55d6b button.colab-df-convert');\n",
              "        buttonEl.style.display =\n",
              "          google.colab.kernel.accessAllowed ? 'block' : 'none';\n",
              "\n",
              "        async function convertToInteractive(key) {\n",
              "          const element = document.querySelector('#df-a7a49ba9-7cd7-45ed-a5c2-a4d5c9d55d6b');\n",
              "          const dataTable =\n",
              "            await google.colab.kernel.invokeFunction('convertToInteractive',\n",
              "                                                     [key], {});\n",
              "          if (!dataTable) return;\n",
              "\n",
              "          const docLinkHtml = 'Like what you see? Visit the ' +\n",
              "            '<a target=\"_blank\" href=https://colab.research.google.com/notebooks/data_table.ipynb>data table notebook</a>'\n",
              "            + ' to learn more about interactive tables.';\n",
              "          element.innerHTML = '';\n",
              "          dataTable['output_type'] = 'display_data';\n",
              "          await google.colab.output.renderOutput(dataTable, element);\n",
              "          const docLink = document.createElement('div');\n",
              "          docLink.innerHTML = docLinkHtml;\n",
              "          element.appendChild(docLink);\n",
              "        }\n",
              "      </script>\n",
              "    </div>\n",
              "  </div>\n",
              "  "
            ]
          },
          "metadata": {},
          "execution_count": 37
        }
      ],
      "source": [
        "lr_model = LogisticRegression(max_iter=200,random_state=12)\n",
        "lr_model.fit(x_train,y_train)\n",
        "pred1 = lr_model.predict(x_test)\n",
        "prob1 = lr_model.predict_proba(x_test)\n",
        "print_results(\"Logistic Regression\", y_test, pred1,prob1[:,-1])\n",
        "\n",
        "evaluation_df"
      ]
    },
    {
      "cell_type": "markdown",
      "metadata": {
        "id": "N8O7DdeQutDQ"
      },
      "source": [
        "### Logistic regression CV"
      ]
    },
    {
      "cell_type": "code",
      "execution_count": null,
      "metadata": {
        "colab": {
          "base_uri": "https://localhost:8080/",
          "height": 907
        },
        "id": "cTuFj8emOoqa",
        "outputId": "7f261ab2-1c0a-41e7-e5ea-a048878b8ab8"
      },
      "outputs": [
        {
          "output_type": "stream",
          "name": "stdout",
          "text": [
            "Logistic Regression CV\n",
            "--------------------------------------------------------------------------\n",
            "accuracy score :0.9551616266944735\n",
            "              precision    recall  f1-score   support\n",
            "\n",
            "           0       0.96      0.99      0.98     92270\n",
            "           1       0.58      0.20      0.29      4589\n",
            "\n",
            "    accuracy                           0.96     96859\n",
            "   macro avg       0.77      0.59      0.64     96859\n",
            "weighted avg       0.94      0.96      0.94     96859\n",
            "\n"
          ]
        },
        {
          "output_type": "display_data",
          "data": {
            "text/plain": [
              "<Figure size 432x288 with 1 Axes>"
            ],
            "image/png": "[encoded data removed]"
          },
          "metadata": {
            "needs_background": "light"
          }
        },
        {
          "output_type": "display_data",
          "data": {
            "text/plain": [
              "<Figure size 432x288 with 1 Axes>"
            ],
            "image/png": "[encoded data removed]"
          },
          "metadata": {
            "needs_background": "light"
          }
        },
        {
          "output_type": "execute_result",
          "data": {
            "text/plain": [
              "                    Model  accuracy score   Precision    Recall  f1_score\n",
              "0     Logistic Regression        0.955162    0.578745  0.196993  0.293936\n",
              "1  Logistic Regression CV        0.955162    0.578745  0.196993  0.293936"
            ],
            "text/html": [
              "\n",
              "  <div id=\"df-c89f6384-e016-4915-9344-4c29ad9f1c4c\">\n",
              "    <div class=\"colab-df-container\">\n",
              "      <div>\n",
              "<style scoped>\n",
              "    .dataframe tbody tr th:only-of-type {\n",
              "        vertical-align: middle;\n",
              "    }\n",
              "\n",
              "    .dataframe tbody tr th {\n",
              "        vertical-align: top;\n",
              "    }\n",
              "\n",
              "    .dataframe thead th {\n",
              "        text-align: right;\n",
              "    }\n",
              "</style>\n",
              "<table border=\"1\" class=\"dataframe\">\n",
              "  <thead>\n",
              "    <tr style=\"text-align: right;\">\n",
              "      <th></th>\n",
              "      <th>Model</th>\n",
              "      <th>accuracy score</th>\n",
              "      <th>Precision</th>\n",
              "      <th>Recall</th>\n",
              "      <th>f1_score</th>\n",
              "    </tr>\n",
              "  </thead>\n",
              "  <tbody>\n",
              "    <tr>\n",
              "      <th>0</th>\n",
              "      <td>Logistic Regression</td>\n",
              "      <td>0.955162</td>\n",
              "      <td>0.578745</td>\n",
              "      <td>0.196993</td>\n",
              "      <td>0.293936</td>\n",
              "    </tr>\n",
              "    <tr>\n",
              "      <th>1</th>\n",
              "      <td>Logistic Regression CV</td>\n",
              "      <td>0.955162</td>\n",
              "      <td>0.578745</td>\n",
              "      <td>0.196993</td>\n",
              "      <td>0.293936</td>\n",
              "    </tr>\n",
              "  </tbody>\n",
              "</table>\n",
              "</div>\n",
              "      <button class=\"colab-df-convert\" onclick=\"convertToInteractive('df-c89f6384-e016-4915-9344-4c29ad9f1c4c')\"\n",
              "              title=\"Convert this dataframe to an interactive table.\"\n",
              "              style=\"display:none;\">\n",
              "        \n",
              "  <svg xmlns=\"http://www.w3.org/2000/svg\" height=\"24px\"viewBox=\"0 0 24 24\"\n",
              "       width=\"24px\">\n",
              "    <path d=\"M0 0h24v24H0V0z\" fill=\"none\"/>\n",
              "    <path d=\"M18.56 5.44l.94 2.06.94-2.06 2.06-.94-2.06-.94-.94-2.06-.94 2.06-2.06.94zm-11 1L8.5 8.5l.94-2.06 2.06-.94-2.06-.94L8.5 2.5l-.94 2.06-2.06.94zm10 10l.94 2.06.94-2.06 2.06-.94-2.06-.94-.94-2.06-.94 2.06-2.06.94z\"/><path d=\"M17.41 7.96l-1.37-1.37c-.4-.4-.92-.59-1.43-.59-.52 0-1.04.2-1.43.59L10.3 9.45l-7.72 7.72c-.78.78-.78 2.05 0 2.83L4 21.41c.39.39.9.59 1.41.59.51 0 1.02-.2 1.41-.59l7.78-7.78 2.81-2.81c.8-.78.8-2.07 0-2.86zM5.41 20L4 18.59l7.72-7.72 1.47 1.35L5.41 20z\"/>\n",
              "  </svg>\n",
              "      </button>\n",
              "      \n",
              "  <style>\n",
              "    .colab-df-container {\n",
              "      display:flex;\n",
              "      flex-wrap:wrap;\n",
              "      gap: 12px;\n",
              "    }\n",
              "\n",
              "    .colab-df-convert {\n",
              "      background-color: #E8F0FE;\n",
              "      border: none;\n",
              "      border-radius: 50%;\n",
              "      cursor: pointer;\n",
              "      display: none;\n",
              "      fill: #1967D2;\n",
              "      height: 32px;\n",
              "      padding: 0 0 0 0;\n",
              "      width: 32px;\n",
              "    }\n",
              "\n",
              "    .colab-df-convert:hover {\n",
              "      background-color: #E2EBFA;\n",
              "      box-shadow: 0px 1px 2px rgba(60, 64, 67, 0.3), 0px 1px 3px 1px rgba(60, 64, 67, 0.15);\n",
              "      fill: #174EA6;\n",
              "    }\n",
              "\n",
              "    [theme=dark] .colab-df-convert {\n",
              "      background-color: #3B4455;\n",
              "      fill: #D2E3FC;\n",
              "    }\n",
              "\n",
              "    [theme=dark] .colab-df-convert:hover {\n",
              "      background-color: #434B5C;\n",
              "      box-shadow: 0px 1px 3px 1px rgba(0, 0, 0, 0.15);\n",
              "      filter: drop-shadow(0px 1px 2px rgba(0, 0, 0, 0.3));\n",
              "      fill: #FFFFFF;\n",
              "    }\n",
              "  </style>\n",
              "\n",
              "      <script>\n",
              "        const buttonEl =\n",
              "          document.querySelector('#df-c89f6384-e016-4915-9344-4c29ad9f1c4c button.colab-df-convert');\n",
              "        buttonEl.style.display =\n",
              "          google.colab.kernel.accessAllowed ? 'block' : 'none';\n",
              "\n",
              "        async function convertToInteractive(key) {\n",
              "          const element = document.querySelector('#df-c89f6384-e016-4915-9344-4c29ad9f1c4c');\n",
              "          const dataTable =\n",
              "            await google.colab.kernel.invokeFunction('convertToInteractive',\n",
              "                                                     [key], {});\n",
              "          if (!dataTable) return;\n",
              "\n",
              "          const docLinkHtml = 'Like what you see? Visit the ' +\n",
              "            '<a target=\"_blank\" href=https://colab.research.google.com/notebooks/data_table.ipynb>data table notebook</a>'\n",
              "            + ' to learn more about interactive tables.';\n",
              "          element.innerHTML = '';\n",
              "          dataTable['output_type'] = 'display_data';\n",
              "          await google.colab.output.renderOutput(dataTable, element);\n",
              "          const docLink = document.createElement('div');\n",
              "          docLink.innerHTML = docLinkHtml;\n",
              "          element.appendChild(docLink);\n",
              "        }\n",
              "      </script>\n",
              "    </div>\n",
              "  </div>\n",
              "  "
            ]
          },
          "metadata": {},
          "execution_count": 38
        }
      ],
      "source": [
        "cv_num = KFold(n_splits=10, shuffle=True, random_state=12)\n",
        "lr_modelCV = LogisticRegressionCV(max_iter=200,penalty='l2',\n",
        "                                  scoring='roc_auc',cv=cv_num,\n",
        "                                  tol=10,random_state=12)\n",
        "lr_modelCV.fit(x_train,y_train)\n",
        "pred2 = lr_modelCV.predict(x_test)\n",
        "prob2 = lr_modelCV.predict_proba(x_test)\n",
        "print_results(\"Logistic Regression CV\", y_test, pred2,prob2[:,-1])\n",
        "\n",
        "evaluation_df"
      ]
    },
    {
      "cell_type": "markdown",
      "metadata": {
        "id": "2ezW8I2autDQ"
      },
      "source": [
        "### Bernoulli Naive Bayes"
      ]
    },
    {
      "cell_type": "code",
      "execution_count": null,
      "metadata": {
        "colab": {
          "base_uri": "https://localhost:8080/",
          "height": 1000
        },
        "id": "6HXlzrrIOrG3",
        "outputId": "efb59dee-3990-484b-8d43-760669dea422"
      },
      "outputs": [
        {
          "output_type": "stream",
          "name": "stdout",
          "text": [
            "Bernoulli Naive Bayes\n",
            "--------------------------------------------------------------------------\n",
            "accuracy score :0.9526218523833614\n"
          ]
        },
        {
          "output_type": "stream",
          "name": "stderr",
          "text": [
            "/usr/local/lib/python3.7/dist-packages/sklearn/metrics/_classification.py:1318: UndefinedMetricWarning: Precision is ill-defined and being set to 0.0 due to no predicted samples. Use `zero_division` parameter to control this behavior.\n",
            "  _warn_prf(average, modifier, msg_start, len(result))\n",
            "/usr/local/lib/python3.7/dist-packages/sklearn/metrics/_classification.py:1318: UndefinedMetricWarning: Precision and F-score are ill-defined and being set to 0.0 in labels with no predicted samples. Use `zero_division` parameter to control this behavior.\n",
            "  _warn_prf(average, modifier, msg_start, len(result))\n"
          ]
        },
        {
          "output_type": "stream",
          "name": "stdout",
          "text": [
            "              precision    recall  f1-score   support\n",
            "\n",
            "           0       0.95      1.00      0.98     92270\n",
            "           1       0.00      0.00      0.00      4589\n",
            "\n",
            "    accuracy                           0.95     96859\n",
            "   macro avg       0.48      0.50      0.49     96859\n",
            "weighted avg       0.91      0.95      0.93     96859\n",
            "\n"
          ]
        },
        {
          "output_type": "stream",
          "name": "stderr",
          "text": [
            "/usr/local/lib/python3.7/dist-packages/sklearn/metrics/_classification.py:1318: UndefinedMetricWarning: Precision and F-score are ill-defined and being set to 0.0 in labels with no predicted samples. Use `zero_division` parameter to control this behavior.\n",
            "  _warn_prf(average, modifier, msg_start, len(result))\n",
            "/usr/local/lib/python3.7/dist-packages/sklearn/metrics/_classification.py:1318: UndefinedMetricWarning: Precision and F-score are ill-defined and being set to 0.0 in labels with no predicted samples. Use `zero_division` parameter to control this behavior.\n",
            "  _warn_prf(average, modifier, msg_start, len(result))\n"
          ]
        },
        {
          "output_type": "display_data",
          "data": {
            "text/plain": [
              "<Figure size 432x288 with 1 Axes>"
            ],
            "image/png": "[encoded data removed]"
          },
          "metadata": {
            "needs_background": "light"
          }
        },
        {
          "output_type": "display_data",
          "data": {
            "text/plain": [
              "<Figure size 432x288 with 1 Axes>"
            ],
            "image/png": "[encoded data removed]"
          },
          "metadata": {
            "needs_background": "light"
          }
        },
        {
          "output_type": "execute_result",
          "data": {
            "text/plain": [
              "                    Model  accuracy score   Precision    Recall  f1_score\n",
              "0     Logistic Regression        0.955162    0.578745  0.196993  0.293936\n",
              "1  Logistic Regression CV        0.955162    0.578745  0.196993  0.293936\n",
              "2   Bernoulli Naive Bayes        0.952622    0.000000  0.000000  0.000000"
            ],
            "text/html": [
              "\n",
              "  <div id=\"df-60751f01-70b0-4a9b-b520-80c19ed84ee8\">\n",
              "    <div class=\"colab-df-container\">\n",
              "      <div>\n",
              "<style scoped>\n",
              "    .dataframe tbody tr th:only-of-type {\n",
              "        vertical-align: middle;\n",
              "    }\n",
              "\n",
              "    .dataframe tbody tr th {\n",
              "        vertical-align: top;\n",
              "    }\n",
              "\n",
              "    .dataframe thead th {\n",
              "        text-align: right;\n",
              "    }\n",
              "</style>\n",
              "<table border=\"1\" class=\"dataframe\">\n",
              "  <thead>\n",
              "    <tr style=\"text-align: right;\">\n",
              "      <th></th>\n",
              "      <th>Model</th>\n",
              "      <th>accuracy score</th>\n",
              "      <th>Precision</th>\n",
              "      <th>Recall</th>\n",
              "      <th>f1_score</th>\n",
              "    </tr>\n",
              "  </thead>\n",
              "  <tbody>\n",
              "    <tr>\n",
              "      <th>0</th>\n",
              "      <td>Logistic Regression</td>\n",
              "      <td>0.955162</td>\n",
              "      <td>0.578745</td>\n",
              "      <td>0.196993</td>\n",
              "      <td>0.293936</td>\n",
              "    </tr>\n",
              "    <tr>\n",
              "      <th>1</th>\n",
              "      <td>Logistic Regression CV</td>\n",
              "      <td>0.955162</td>\n",
              "      <td>0.578745</td>\n",
              "      <td>0.196993</td>\n",
              "      <td>0.293936</td>\n",
              "    </tr>\n",
              "    <tr>\n",
              "      <th>2</th>\n",
              "      <td>Bernoulli Naive Bayes</td>\n",
              "      <td>0.952622</td>\n",
              "      <td>0.000000</td>\n",
              "      <td>0.000000</td>\n",
              "      <td>0.000000</td>\n",
              "    </tr>\n",
              "  </tbody>\n",
              "</table>\n",
              "</div>\n",
              "      <button class=\"colab-df-convert\" onclick=\"convertToInteractive('df-60751f01-70b0-4a9b-b520-80c19ed84ee8')\"\n",
              "              title=\"Convert this dataframe to an interactive table.\"\n",
              "              style=\"display:none;\">\n",
              "        \n",
              "  <svg xmlns=\"http://www.w3.org/2000/svg\" height=\"24px\"viewBox=\"0 0 24 24\"\n",
              "       width=\"24px\">\n",
              "    <path d=\"M0 0h24v24H0V0z\" fill=\"none\"/>\n",
              "    <path d=\"M18.56 5.44l.94 2.06.94-2.06 2.06-.94-2.06-.94-.94-2.06-.94 2.06-2.06.94zm-11 1L8.5 8.5l.94-2.06 2.06-.94-2.06-.94L8.5 2.5l-.94 2.06-2.06.94zm10 10l.94 2.06.94-2.06 2.06-.94-2.06-.94-.94-2.06-.94 2.06-2.06.94z\"/><path d=\"M17.41 7.96l-1.37-1.37c-.4-.4-.92-.59-1.43-.59-.52 0-1.04.2-1.43.59L10.3 9.45l-7.72 7.72c-.78.78-.78 2.05 0 2.83L4 21.41c.39.39.9.59 1.41.59.51 0 1.02-.2 1.41-.59l7.78-7.78 2.81-2.81c.8-.78.8-2.07 0-2.86zM5.41 20L4 18.59l7.72-7.72 1.47 1.35L5.41 20z\"/>\n",
              "  </svg>\n",
              "      </button>\n",
              "      \n",
              "  <style>\n",
              "    .colab-df-container {\n",
              "      display:flex;\n",
              "      flex-wrap:wrap;\n",
              "      gap: 12px;\n",
              "    }\n",
              "\n",
              "    .colab-df-convert {\n",
              "      background-color: #E8F0FE;\n",
              "      border: none;\n",
              "      border-radius: 50%;\n",
              "      cursor: pointer;\n",
              "      display: none;\n",
              "      fill: #1967D2;\n",
              "      height: 32px;\n",
              "      padding: 0 0 0 0;\n",
              "      width: 32px;\n",
              "    }\n",
              "\n",
              "    .colab-df-convert:hover {\n",
              "      background-color: #E2EBFA;\n",
              "      box-shadow: 0px 1px 2px rgba(60, 64, 67, 0.3), 0px 1px 3px 1px rgba(60, 64, 67, 0.15);\n",
              "      fill: #174EA6;\n",
              "    }\n",
              "\n",
              "    [theme=dark] .colab-df-convert {\n",
              "      background-color: #3B4455;\n",
              "      fill: #D2E3FC;\n",
              "    }\n",
              "\n",
              "    [theme=dark] .colab-df-convert:hover {\n",
              "      background-color: #434B5C;\n",
              "      box-shadow: 0px 1px 3px 1px rgba(0, 0, 0, 0.15);\n",
              "      filter: drop-shadow(0px 1px 2px rgba(0, 0, 0, 0.3));\n",
              "      fill: #FFFFFF;\n",
              "    }\n",
              "  </style>\n",
              "\n",
              "      <script>\n",
              "        const buttonEl =\n",
              "          document.querySelector('#df-60751f01-70b0-4a9b-b520-80c19ed84ee8 button.colab-df-convert');\n",
              "        buttonEl.style.display =\n",
              "          google.colab.kernel.accessAllowed ? 'block' : 'none';\n",
              "\n",
              "        async function convertToInteractive(key) {\n",
              "          const element = document.querySelector('#df-60751f01-70b0-4a9b-b520-80c19ed84ee8');\n",
              "          const dataTable =\n",
              "            await google.colab.kernel.invokeFunction('convertToInteractive',\n",
              "                                                     [key], {});\n",
              "          if (!dataTable) return;\n",
              "\n",
              "          const docLinkHtml = 'Like what you see? Visit the ' +\n",
              "            '<a target=\"_blank\" href=https://colab.research.google.com/notebooks/data_table.ipynb>data table notebook</a>'\n",
              "            + ' to learn more about interactive tables.';\n",
              "          element.innerHTML = '';\n",
              "          dataTable['output_type'] = 'display_data';\n",
              "          await google.colab.output.renderOutput(dataTable, element);\n",
              "          const docLink = document.createElement('div');\n",
              "          docLink.innerHTML = docLinkHtml;\n",
              "          element.appendChild(docLink);\n",
              "        }\n",
              "      </script>\n",
              "    </div>\n",
              "  </div>\n",
              "  "
            ]
          },
          "metadata": {},
          "execution_count": 39
        }
      ],
      "source": [
        "gnb_model = BernoulliNB()\n",
        "gnb_model.fit(x_train,y_train)\n",
        "pred3 = gnb_model.predict(x_test)\n",
        "prob3 = gnb_model.predict_proba(x_test)\n",
        "print_results(\"Bernoulli Naive Bayes\", y_test, pred3,prob3[:,-1])\n",
        "\n",
        "evaluation_df"
      ]
    },
    {
      "cell_type": "markdown",
      "metadata": {
        "id": "r3ktAobuutDQ"
      },
      "source": [
        "### Random forest + gini"
      ]
    },
    {
      "cell_type": "code",
      "execution_count": null,
      "metadata": {
        "colab": {
          "base_uri": "https://localhost:8080/",
          "height": 969
        },
        "id": "hrIrIubsOuOX",
        "outputId": "b5eaf238-3769-419a-f7ff-fee7b628038a"
      },
      "outputs": [
        {
          "output_type": "stream",
          "name": "stdout",
          "text": [
            "Random Forest Classifier + gini\n",
            "--------------------------------------------------------------------------\n",
            "accuracy score :0.9582589124397319\n",
            "              precision    recall  f1-score   support\n",
            "\n",
            "           0       0.97      0.99      0.98     92270\n",
            "           1       0.60      0.35      0.44      4589\n",
            "\n",
            "    accuracy                           0.96     96859\n",
            "   macro avg       0.79      0.67      0.71     96859\n",
            "weighted avg       0.95      0.96      0.95     96859\n",
            "\n"
          ]
        },
        {
          "output_type": "display_data",
          "data": {
            "text/plain": [
              "<Figure size 432x288 with 1 Axes>"
            ],
            "image/png": "[encoded data removed]"
          },
          "metadata": {
            "needs_background": "light"
          }
        },
        {
          "output_type": "display_data",
          "data": {
            "text/plain": [
              "<Figure size 432x288 with 1 Axes>"
            ],
            "image/png": "[encoded data removed]"
          },
          "metadata": {
            "needs_background": "light"
          }
        },
        {
          "output_type": "execute_result",
          "data": {
            "text/plain": [
              "                             Model  accuracy score   Precision    Recall  \\\n",
              "0              Logistic Regression        0.955162    0.578745  0.196993   \n",
              "1           Logistic Regression CV        0.955162    0.578745  0.196993   \n",
              "2            Bernoulli Naive Bayes        0.952622    0.000000  0.000000   \n",
              "3  Random Forest Classifier + gini        0.958259    0.603097  0.348006   \n",
              "\n",
              "   f1_score  \n",
              "0  0.293936  \n",
              "1  0.293936  \n",
              "2  0.000000  \n",
              "3  0.441343  "
            ],
            "text/html": [
              "\n",
              "  <div id=\"df-ee696161-91b2-4b95-a7c2-dd628f955969\">\n",
              "    <div class=\"colab-df-container\">\n",
              "      <div>\n",
              "<style scoped>\n",
              "    .dataframe tbody tr th:only-of-type {\n",
              "        vertical-align: middle;\n",
              "    }\n",
              "\n",
              "    .dataframe tbody tr th {\n",
              "        vertical-align: top;\n",
              "    }\n",
              "\n",
              "    .dataframe thead th {\n",
              "        text-align: right;\n",
              "    }\n",
              "</style>\n",
              "<table border=\"1\" class=\"dataframe\">\n",
              "  <thead>\n",
              "    <tr style=\"text-align: right;\">\n",
              "      <th></th>\n",
              "      <th>Model</th>\n",
              "      <th>accuracy score</th>\n",
              "      <th>Precision</th>\n",
              "      <th>Recall</th>\n",
              "      <th>f1_score</th>\n",
              "    </tr>\n",
              "  </thead>\n",
              "  <tbody>\n",
              "    <tr>\n",
              "      <th>0</th>\n",
              "      <td>Logistic Regression</td>\n",
              "      <td>0.955162</td>\n",
              "      <td>0.578745</td>\n",
              "      <td>0.196993</td>\n",
              "      <td>0.293936</td>\n",
              "    </tr>\n",
              "    <tr>\n",
              "      <th>1</th>\n",
              "      <td>Logistic Regression CV</td>\n",
              "      <td>0.955162</td>\n",
              "      <td>0.578745</td>\n",
              "      <td>0.196993</td>\n",
              "      <td>0.293936</td>\n",
              "    </tr>\n",
              "    <tr>\n",
              "      <th>2</th>\n",
              "      <td>Bernoulli Naive Bayes</td>\n",
              "      <td>0.952622</td>\n",
              "      <td>0.000000</td>\n",
              "      <td>0.000000</td>\n",
              "      <td>0.000000</td>\n",
              "    </tr>\n",
              "    <tr>\n",
              "      <th>3</th>\n",
              "      <td>Random Forest Classifier + gini</td>\n",
              "      <td>0.958259</td>\n",
              "      <td>0.603097</td>\n",
              "      <td>0.348006</td>\n",
              "      <td>0.441343</td>\n",
              "    </tr>\n",
              "  </tbody>\n",
              "</table>\n",
              "</div>\n",
              "      <button class=\"colab-df-convert\" onclick=\"convertToInteractive('df-ee696161-91b2-4b95-a7c2-dd628f955969')\"\n",
              "              title=\"Convert this dataframe to an interactive table.\"\n",
              "              style=\"display:none;\">\n",
              "        \n",
              "  <svg xmlns=\"http://www.w3.org/2000/svg\" height=\"24px\"viewBox=\"0 0 24 24\"\n",
              "       width=\"24px\">\n",
              "    <path d=\"M0 0h24v24H0V0z\" fill=\"none\"/>\n",
              "    <path d=\"M18.56 5.44l.94 2.06.94-2.06 2.06-.94-2.06-.94-.94-2.06-.94 2.06-2.06.94zm-11 1L8.5 8.5l.94-2.06 2.06-.94-2.06-.94L8.5 2.5l-.94 2.06-2.06.94zm10 10l.94 2.06.94-2.06 2.06-.94-2.06-.94-.94-2.06-.94 2.06-2.06.94z\"/><path d=\"M17.41 7.96l-1.37-1.37c-.4-.4-.92-.59-1.43-.59-.52 0-1.04.2-1.43.59L10.3 9.45l-7.72 7.72c-.78.78-.78 2.05 0 2.83L4 21.41c.39.39.9.59 1.41.59.51 0 1.02-.2 1.41-.59l7.78-7.78 2.81-2.81c.8-.78.8-2.07 0-2.86zM5.41 20L4 18.59l7.72-7.72 1.47 1.35L5.41 20z\"/>\n",
              "  </svg>\n",
              "      </button>\n",
              "      \n",
              "  <style>\n",
              "    .colab-df-container {\n",
              "      display:flex;\n",
              "      flex-wrap:wrap;\n",
              "      gap: 12px;\n",
              "    }\n",
              "\n",
              "    .colab-df-convert {\n",
              "      background-color: #E8F0FE;\n",
              "      border: none;\n",
              "      border-radius: 50%;\n",
              "      cursor: pointer;\n",
              "      display: none;\n",
              "      fill: #1967D2;\n",
              "      height: 32px;\n",
              "      padding: 0 0 0 0;\n",
              "      width: 32px;\n",
              "    }\n",
              "\n",
              "    .colab-df-convert:hover {\n",
              "      background-color: #E2EBFA;\n",
              "      box-shadow: 0px 1px 2px rgba(60, 64, 67, 0.3), 0px 1px 3px 1px rgba(60, 64, 67, 0.15);\n",
              "      fill: #174EA6;\n",
              "    }\n",
              "\n",
              "    [theme=dark] .colab-df-convert {\n",
              "      background-color: #3B4455;\n",
              "      fill: #D2E3FC;\n",
              "    }\n",
              "\n",
              "    [theme=dark] .colab-df-convert:hover {\n",
              "      background-color: #434B5C;\n",
              "      box-shadow: 0px 1px 3px 1px rgba(0, 0, 0, 0.15);\n",
              "      filter: drop-shadow(0px 1px 2px rgba(0, 0, 0, 0.3));\n",
              "      fill: #FFFFFF;\n",
              "    }\n",
              "  </style>\n",
              "\n",
              "      <script>\n",
              "        const buttonEl =\n",
              "          document.querySelector('#df-ee696161-91b2-4b95-a7c2-dd628f955969 button.colab-df-convert');\n",
              "        buttonEl.style.display =\n",
              "          google.colab.kernel.accessAllowed ? 'block' : 'none';\n",
              "\n",
              "        async function convertToInteractive(key) {\n",
              "          const element = document.querySelector('#df-ee696161-91b2-4b95-a7c2-dd628f955969');\n",
              "          const dataTable =\n",
              "            await google.colab.kernel.invokeFunction('convertToInteractive',\n",
              "                                                     [key], {});\n",
              "          if (!dataTable) return;\n",
              "\n",
              "          const docLinkHtml = 'Like what you see? Visit the ' +\n",
              "            '<a target=\"_blank\" href=https://colab.research.google.com/notebooks/data_table.ipynb>data table notebook</a>'\n",
              "            + ' to learn more about interactive tables.';\n",
              "          element.innerHTML = '';\n",
              "          dataTable['output_type'] = 'display_data';\n",
              "          await google.colab.output.renderOutput(dataTable, element);\n",
              "          const docLink = document.createElement('div');\n",
              "          docLink.innerHTML = docLinkHtml;\n",
              "          element.appendChild(docLink);\n",
              "        }\n",
              "      </script>\n",
              "    </div>\n",
              "  </div>\n",
              "  "
            ]
          },
          "metadata": {},
          "execution_count": 40
        }
      ],
      "source": [
        "rfc_model = RandomForestClassifier(bootstrap = True,\n",
        "                                max_features = 'sqrt', random_state=12)\n",
        "rfc_model.fit(x_train,y_train)\n",
        "pred4 = rfc_model.predict(x_test)\n",
        "prob4 = rfc_model.predict_proba(x_test)\n",
        "print_results(\"Random Forest Classifier + gini\", y_test, pred4,prob4[:,-1])\n",
        "\n",
        "evaluation_df"
      ]
    },
    {
      "cell_type": "markdown",
      "metadata": {
        "id": "c4-f2GT0utDR"
      },
      "source": [
        "### Random forest + entropy"
      ]
    },
    {
      "cell_type": "code",
      "execution_count": null,
      "metadata": {
        "id": "vlb4Y4RSutDR",
        "outputId": "c423f489-db24-48d2-f6a9-438d0bd5e7e9",
        "colab": {
          "base_uri": "https://localhost:8080/",
          "height": 875
        }
      },
      "outputs": [
        {
          "output_type": "stream",
          "name": "stdout",
          "text": [
            "Random Forest Classifier + entropy \n",
            "--------------------------------------------------------------------------\n",
            "accuracy score :0.9582898852971846\n",
            "              precision    recall  f1-score   support\n",
            "\n",
            "           0       0.97      0.99      0.98     92270\n",
            "           1       0.60      0.35      0.44      4589\n",
            "\n",
            "    accuracy                           0.96     96859\n",
            "   macro avg       0.79      0.67      0.71     96859\n",
            "weighted avg       0.95      0.96      0.95     96859\n",
            "\n"
          ]
        },
        {
          "output_type": "display_data",
          "data": {
            "text/plain": [
              "<Figure size 432x288 with 1 Axes>"
            ],
            "image/png": "[encoded data removed]"
          },
          "metadata": {
            "needs_background": "light"
          }
        },
        {
          "output_type": "display_data",
          "data": {
            "text/plain": [
              "<Figure size 432x288 with 1 Axes>"
            ],
            "image/png": "[encoded data removed]"
          },
          "metadata": {
            "needs_background": "light"
          }
        },
        {
          "output_type": "execute_result",
          "data": {
            "text/plain": [
              "                                 Model  accuracy score   Precision    Recall  \\\n",
              "0  Random Forest Classifier + entropy          0.95829    0.603702  0.348224   \n",
              "\n",
              "   f1_score  \n",
              "0   0.44168  "
            ],
            "text/html": [
              "\n",
              "  <div id=\"df-93155c5f-94c8-4eff-9a70-a7fc698035a8\">\n",
              "    <div class=\"colab-df-container\">\n",
              "      <div>\n",
              "<style scoped>\n",
              "    .dataframe tbody tr th:only-of-type {\n",
              "        vertical-align: middle;\n",
              "    }\n",
              "\n",
              "    .dataframe tbody tr th {\n",
              "        vertical-align: top;\n",
              "    }\n",
              "\n",
              "    .dataframe thead th {\n",
              "        text-align: right;\n",
              "    }\n",
              "</style>\n",
              "<table border=\"1\" class=\"dataframe\">\n",
              "  <thead>\n",
              "    <tr style=\"text-align: right;\">\n",
              "      <th></th>\n",
              "      <th>Model</th>\n",
              "      <th>accuracy score</th>\n",
              "      <th>Precision</th>\n",
              "      <th>Recall</th>\n",
              "      <th>f1_score</th>\n",
              "    </tr>\n",
              "  </thead>\n",
              "  <tbody>\n",
              "    <tr>\n",
              "      <th>0</th>\n",
              "      <td>Random Forest Classifier + entropy</td>\n",
              "      <td>0.95829</td>\n",
              "      <td>0.603702</td>\n",
              "      <td>0.348224</td>\n",
              "      <td>0.44168</td>\n",
              "    </tr>\n",
              "  </tbody>\n",
              "</table>\n",
              "</div>\n",
              "      <button class=\"colab-df-convert\" onclick=\"convertToInteractive('df-93155c5f-94c8-4eff-9a70-a7fc698035a8')\"\n",
              "              title=\"Convert this dataframe to an interactive table.\"\n",
              "              style=\"display:none;\">\n",
              "        \n",
              "  <svg xmlns=\"http://www.w3.org/2000/svg\" height=\"24px\"viewBox=\"0 0 24 24\"\n",
              "       width=\"24px\">\n",
              "    <path d=\"M0 0h24v24H0V0z\" fill=\"none\"/>\n",
              "    <path d=\"M18.56 5.44l.94 2.06.94-2.06 2.06-.94-2.06-.94-.94-2.06-.94 2.06-2.06.94zm-11 1L8.5 8.5l.94-2.06 2.06-.94-2.06-.94L8.5 2.5l-.94 2.06-2.06.94zm10 10l.94 2.06.94-2.06 2.06-.94-2.06-.94-.94-2.06-.94 2.06-2.06.94z\"/><path d=\"M17.41 7.96l-1.37-1.37c-.4-.4-.92-.59-1.43-.59-.52 0-1.04.2-1.43.59L10.3 9.45l-7.72 7.72c-.78.78-.78 2.05 0 2.83L4 21.41c.39.39.9.59 1.41.59.51 0 1.02-.2 1.41-.59l7.78-7.78 2.81-2.81c.8-.78.8-2.07 0-2.86zM5.41 20L4 18.59l7.72-7.72 1.47 1.35L5.41 20z\"/>\n",
              "  </svg>\n",
              "      </button>\n",
              "      \n",
              "  <style>\n",
              "    .colab-df-container {\n",
              "      display:flex;\n",
              "      flex-wrap:wrap;\n",
              "      gap: 12px;\n",
              "    }\n",
              "\n",
              "    .colab-df-convert {\n",
              "      background-color: #E8F0FE;\n",
              "      border: none;\n",
              "      border-radius: 50%;\n",
              "      cursor: pointer;\n",
              "      display: none;\n",
              "      fill: #1967D2;\n",
              "      height: 32px;\n",
              "      padding: 0 0 0 0;\n",
              "      width: 32px;\n",
              "    }\n",
              "\n",
              "    .colab-df-convert:hover {\n",
              "      background-color: #E2EBFA;\n",
              "      box-shadow: 0px 1px 2px rgba(60, 64, 67, 0.3), 0px 1px 3px 1px rgba(60, 64, 67, 0.15);\n",
              "      fill: #174EA6;\n",
              "    }\n",
              "\n",
              "    [theme=dark] .colab-df-convert {\n",
              "      background-color: #3B4455;\n",
              "      fill: #D2E3FC;\n",
              "    }\n",
              "\n",
              "    [theme=dark] .colab-df-convert:hover {\n",
              "      background-color: #434B5C;\n",
              "      box-shadow: 0px 1px 3px 1px rgba(0, 0, 0, 0.15);\n",
              "      filter: drop-shadow(0px 1px 2px rgba(0, 0, 0, 0.3));\n",
              "      fill: #FFFFFF;\n",
              "    }\n",
              "  </style>\n",
              "\n",
              "      <script>\n",
              "        const buttonEl =\n",
              "          document.querySelector('#df-93155c5f-94c8-4eff-9a70-a7fc698035a8 button.colab-df-convert');\n",
              "        buttonEl.style.display =\n",
              "          google.colab.kernel.accessAllowed ? 'block' : 'none';\n",
              "\n",
              "        async function convertToInteractive(key) {\n",
              "          const element = document.querySelector('#df-93155c5f-94c8-4eff-9a70-a7fc698035a8');\n",
              "          const dataTable =\n",
              "            await google.colab.kernel.invokeFunction('convertToInteractive',\n",
              "                                                     [key], {});\n",
              "          if (!dataTable) return;\n",
              "\n",
              "          const docLinkHtml = 'Like what you see? Visit the ' +\n",
              "            '<a target=\"_blank\" href=https://colab.research.google.com/notebooks/data_table.ipynb>data table notebook</a>'\n",
              "            + ' to learn more about interactive tables.';\n",
              "          element.innerHTML = '';\n",
              "          dataTable['output_type'] = 'display_data';\n",
              "          await google.colab.output.renderOutput(dataTable, element);\n",
              "          const docLink = document.createElement('div');\n",
              "          docLink.innerHTML = docLinkHtml;\n",
              "          element.appendChild(docLink);\n",
              "        }\n",
              "      </script>\n",
              "    </div>\n",
              "  </div>\n",
              "  "
            ]
          },
          "metadata": {},
          "execution_count": 83
        }
      ],
      "source": [
        "rfc_model2 = RandomForestClassifier(bootstrap = True,criterion='entropy',\n",
        "                                    max_features = 'sqrt', random_state=12)\n",
        "rfc_model2.fit(x_train,y_train)\n",
        "pred5 = rfc_model2.predict(x_test)\n",
        "prob5 = rfc_model2.predict_proba(x_test)\n",
        "print_results(\"Random Forest Classifier + entropy \", y_test, pred5,prob5[:,-1])\n",
        "\n",
        "evaluation_df"
      ]
    },
    {
      "cell_type": "markdown",
      "metadata": {
        "id": "fXYylz69utDR"
      },
      "source": [
        "### Bagging classifier"
      ]
    },
    {
      "cell_type": "code",
      "execution_count": null,
      "metadata": {
        "id": "Zo9dTMDROwWz",
        "outputId": "7c271171-091d-4f0a-925a-8f013caf2cfd",
        "colab": {
          "base_uri": "https://localhost:8080/",
          "height": 1000
        }
      },
      "outputs": [
        {
          "output_type": "stream",
          "name": "stdout",
          "text": [
            "Bagging Classifier\n",
            "--------------------------------------------------------------------------\n",
            "accuracy score :0.9565141081365697\n",
            "              precision    recall  f1-score   support\n",
            "\n",
            "           0       0.96      1.00      0.98     92270\n",
            "           1       0.73      0.13      0.22      4589\n",
            "\n",
            "    accuracy                           0.96     96859\n",
            "   macro avg       0.85      0.56      0.60     96859\n",
            "weighted avg       0.95      0.96      0.94     96859\n",
            "\n"
          ]
        },
        {
          "output_type": "display_data",
          "data": {
            "text/plain": [
              "<Figure size 432x288 with 1 Axes>"
            ],
            "image/png": "[encoded data removed]"
          },
          "metadata": {
            "needs_background": "light"
          }
        },
        {
          "output_type": "display_data",
          "data": {
            "text/plain": [
              "<Figure size 432x288 with 1 Axes>"
            ],
            "image/png": "[encoded data removed]"
          },
          "metadata": {
            "needs_background": "light"
          }
        },
        {
          "output_type": "execute_result",
          "data": {
            "text/plain": [
              "                                 Model  accuracy score   Precision    Recall  \\\n",
              "0                  Logistic Regression        0.955162    0.578745  0.196993   \n",
              "1               Logistic Regression CV        0.955162    0.578745  0.196993   \n",
              "2                Bernoulli Naive Bayes        0.952622    0.000000  0.000000   \n",
              "3      Random Forest Classifier + gini        0.958259    0.603097  0.348006   \n",
              "4  Random Forest Classifier + entropy         0.958290    0.603702  0.348224   \n",
              "5                   Bagging Classifier        0.956514    0.734745  0.128568   \n",
              "\n",
              "   f1_score  \n",
              "0  0.293936  \n",
              "1  0.293936  \n",
              "2  0.000000  \n",
              "3  0.441343  \n",
              "4  0.441680  \n",
              "5  0.218843  "
            ],
            "text/html": [
              "\n",
              "  <div id=\"df-0b367ac9-5485-4fe7-8923-8a65d4f00aa7\">\n",
              "    <div class=\"colab-df-container\">\n",
              "      <div>\n",
              "<style scoped>\n",
              "    .dataframe tbody tr th:only-of-type {\n",
              "        vertical-align: middle;\n",
              "    }\n",
              "\n",
              "    .dataframe tbody tr th {\n",
              "        vertical-align: top;\n",
              "    }\n",
              "\n",
              "    .dataframe thead th {\n",
              "        text-align: right;\n",
              "    }\n",
              "</style>\n",
              "<table border=\"1\" class=\"dataframe\">\n",
              "  <thead>\n",
              "    <tr style=\"text-align: right;\">\n",
              "      <th></th>\n",
              "      <th>Model</th>\n",
              "      <th>accuracy score</th>\n",
              "      <th>Precision</th>\n",
              "      <th>Recall</th>\n",
              "      <th>f1_score</th>\n",
              "    </tr>\n",
              "  </thead>\n",
              "  <tbody>\n",
              "    <tr>\n",
              "      <th>0</th>\n",
              "      <td>Logistic Regression</td>\n",
              "      <td>0.955162</td>\n",
              "      <td>0.578745</td>\n",
              "      <td>0.196993</td>\n",
              "      <td>0.293936</td>\n",
              "    </tr>\n",
              "    <tr>\n",
              "      <th>1</th>\n",
              "      <td>Logistic Regression CV</td>\n",
              "      <td>0.955162</td>\n",
              "      <td>0.578745</td>\n",
              "      <td>0.196993</td>\n",
              "      <td>0.293936</td>\n",
              "    </tr>\n",
              "    <tr>\n",
              "      <th>2</th>\n",
              "      <td>Bernoulli Naive Bayes</td>\n",
              "      <td>0.952622</td>\n",
              "      <td>0.000000</td>\n",
              "      <td>0.000000</td>\n",
              "      <td>0.000000</td>\n",
              "    </tr>\n",
              "    <tr>\n",
              "      <th>3</th>\n",
              "      <td>Random Forest Classifier + gini</td>\n",
              "      <td>0.958259</td>\n",
              "      <td>0.603097</td>\n",
              "      <td>0.348006</td>\n",
              "      <td>0.441343</td>\n",
              "    </tr>\n",
              "    <tr>\n",
              "      <th>4</th>\n",
              "      <td>Random Forest Classifier + entropy</td>\n",
              "      <td>0.958290</td>\n",
              "      <td>0.603702</td>\n",
              "      <td>0.348224</td>\n",
              "      <td>0.441680</td>\n",
              "    </tr>\n",
              "    <tr>\n",
              "      <th>5</th>\n",
              "      <td>Bagging Classifier</td>\n",
              "      <td>0.956514</td>\n",
              "      <td>0.734745</td>\n",
              "      <td>0.128568</td>\n",
              "      <td>0.218843</td>\n",
              "    </tr>\n",
              "  </tbody>\n",
              "</table>\n",
              "</div>\n",
              "      <button class=\"colab-df-convert\" onclick=\"convertToInteractive('df-0b367ac9-5485-4fe7-8923-8a65d4f00aa7')\"\n",
              "              title=\"Convert this dataframe to an interactive table.\"\n",
              "              style=\"display:none;\">\n",
              "        \n",
              "  <svg xmlns=\"http://www.w3.org/2000/svg\" height=\"24px\"viewBox=\"0 0 24 24\"\n",
              "       width=\"24px\">\n",
              "    <path d=\"M0 0h24v24H0V0z\" fill=\"none\"/>\n",
              "    <path d=\"M18.56 5.44l.94 2.06.94-2.06 2.06-.94-2.06-.94-.94-2.06-.94 2.06-2.06.94zm-11 1L8.5 8.5l.94-2.06 2.06-.94-2.06-.94L8.5 2.5l-.94 2.06-2.06.94zm10 10l.94 2.06.94-2.06 2.06-.94-2.06-.94-.94-2.06-.94 2.06-2.06.94z\"/><path d=\"M17.41 7.96l-1.37-1.37c-.4-.4-.92-.59-1.43-.59-.52 0-1.04.2-1.43.59L10.3 9.45l-7.72 7.72c-.78.78-.78 2.05 0 2.83L4 21.41c.39.39.9.59 1.41.59.51 0 1.02-.2 1.41-.59l7.78-7.78 2.81-2.81c.8-.78.8-2.07 0-2.86zM5.41 20L4 18.59l7.72-7.72 1.47 1.35L5.41 20z\"/>\n",
              "  </svg>\n",
              "      </button>\n",
              "      \n",
              "  <style>\n",
              "    .colab-df-container {\n",
              "      display:flex;\n",
              "      flex-wrap:wrap;\n",
              "      gap: 12px;\n",
              "    }\n",
              "\n",
              "    .colab-df-convert {\n",
              "      background-color: #E8F0FE;\n",
              "      border: none;\n",
              "      border-radius: 50%;\n",
              "      cursor: pointer;\n",
              "      display: none;\n",
              "      fill: #1967D2;\n",
              "      height: 32px;\n",
              "      padding: 0 0 0 0;\n",
              "      width: 32px;\n",
              "    }\n",
              "\n",
              "    .colab-df-convert:hover {\n",
              "      background-color: #E2EBFA;\n",
              "      box-shadow: 0px 1px 2px rgba(60, 64, 67, 0.3), 0px 1px 3px 1px rgba(60, 64, 67, 0.15);\n",
              "      fill: #174EA6;\n",
              "    }\n",
              "\n",
              "    [theme=dark] .colab-df-convert {\n",
              "      background-color: #3B4455;\n",
              "      fill: #D2E3FC;\n",
              "    }\n",
              "\n",
              "    [theme=dark] .colab-df-convert:hover {\n",
              "      background-color: #434B5C;\n",
              "      box-shadow: 0px 1px 3px 1px rgba(0, 0, 0, 0.15);\n",
              "      filter: drop-shadow(0px 1px 2px rgba(0, 0, 0, 0.3));\n",
              "      fill: #FFFFFF;\n",
              "    }\n",
              "  </style>\n",
              "\n",
              "      <script>\n",
              "        const buttonEl =\n",
              "          document.querySelector('#df-0b367ac9-5485-4fe7-8923-8a65d4f00aa7 button.colab-df-convert');\n",
              "        buttonEl.style.display =\n",
              "          google.colab.kernel.accessAllowed ? 'block' : 'none';\n",
              "\n",
              "        async function convertToInteractive(key) {\n",
              "          const element = document.querySelector('#df-0b367ac9-5485-4fe7-8923-8a65d4f00aa7');\n",
              "          const dataTable =\n",
              "            await google.colab.kernel.invokeFunction('convertToInteractive',\n",
              "                                                     [key], {});\n",
              "          if (!dataTable) return;\n",
              "\n",
              "          const docLinkHtml = 'Like what you see? Visit the ' +\n",
              "            '<a target=\"_blank\" href=https://colab.research.google.com/notebooks/data_table.ipynb>data table notebook</a>'\n",
              "            + ' to learn more about interactive tables.';\n",
              "          element.innerHTML = '';\n",
              "          dataTable['output_type'] = 'display_data';\n",
              "          await google.colab.output.renderOutput(dataTable, element);\n",
              "          const docLink = document.createElement('div');\n",
              "          docLink.innerHTML = docLinkHtml;\n",
              "          element.appendChild(docLink);\n",
              "        }\n",
              "      </script>\n",
              "    </div>\n",
              "  </div>\n",
              "  "
            ]
          },
          "metadata": {},
          "execution_count": 42
        }
      ],
      "source": [
        "bcf_model = BaggingClassifier(DecisionTreeClassifier(),\n",
        "                              n_estimators=200,\n",
        "                              max_samples=0.8,\n",
        "                              max_features=0.8,\n",
        "                              oob_score=True,\n",
        "                              random_state=12)\n",
        "bcf_model.fit(x_train,y_train)\n",
        "pred6 = bcf_model.predict(x_test)\n",
        "prob6 = bcf_model.predict_proba(x_test)\n",
        "print_results(\"Bagging Classifier\", y_test, pred6,prob6[:,-1])\n",
        "\n",
        "evaluation_df"
      ]
    },
    {
      "cell_type": "markdown",
      "metadata": {
        "id": "i4BkOFIxutDS"
      },
      "source": [
        "### Gradient Boosting classifier"
      ]
    },
    {
      "cell_type": "code",
      "execution_count": null,
      "metadata": {
        "id": "nVrO_T0tO0um",
        "outputId": "32c6b51b-ea7d-4bf2-ed17-db6bf3274816",
        "colab": {
          "base_uri": "https://localhost:8080/",
          "height": 1000
        }
      },
      "outputs": [
        {
          "output_type": "stream",
          "name": "stdout",
          "text": [
            "Gradient Boosting Classifier\n",
            "--------------------------------------------------------------------------\n",
            "accuracy score :0.9590538824476816\n",
            "              precision    recall  f1-score   support\n",
            "\n",
            "           0       0.97      0.99      0.98     92270\n",
            "           1       0.62      0.35      0.45      4589\n",
            "\n",
            "    accuracy                           0.96     96859\n",
            "   macro avg       0.79      0.67      0.71     96859\n",
            "weighted avg       0.95      0.96      0.95     96859\n",
            "\n"
          ]
        },
        {
          "output_type": "display_data",
          "data": {
            "text/plain": [
              "<Figure size 432x288 with 1 Axes>"
            ],
            "image/png": "[encoded data removed]"
          },
          "metadata": {
            "needs_background": "light"
          }
        },
        {
          "output_type": "display_data",
          "data": {
            "text/plain": [
              "<Figure size 432x288 with 1 Axes>"
            ],
            "image/png": "[encoded data removed]"
          },
          "metadata": {
            "needs_background": "light"
          }
        },
        {
          "output_type": "execute_result",
          "data": {
            "text/plain": [
              "                                 Model  accuracy score   Precision    Recall  \\\n",
              "0                  Logistic Regression        0.955162    0.578745  0.196993   \n",
              "1               Logistic Regression CV        0.955162    0.578745  0.196993   \n",
              "2                Bernoulli Naive Bayes        0.952622    0.000000  0.000000   \n",
              "3      Random Forest Classifier + gini        0.958259    0.603097  0.348006   \n",
              "4  Random Forest Classifier + entropy         0.958290    0.603702  0.348224   \n",
              "5                   Bagging Classifier        0.956514    0.734745  0.128568   \n",
              "6         Gradient Boosting Classifier        0.959054    0.618486  0.354326   \n",
              "\n",
              "   f1_score  \n",
              "0  0.293936  \n",
              "1  0.293936  \n",
              "2  0.000000  \n",
              "3  0.441343  \n",
              "4  0.441680  \n",
              "5  0.218843  \n",
              "6  0.450540  "
            ],
            "text/html": [
              "\n",
              "  <div id=\"df-4de13a3d-e6cd-4e1b-a3d0-f13e25a098a4\">\n",
              "    <div class=\"colab-df-container\">\n",
              "      <div>\n",
              "<style scoped>\n",
              "    .dataframe tbody tr th:only-of-type {\n",
              "        vertical-align: middle;\n",
              "    }\n",
              "\n",
              "    .dataframe tbody tr th {\n",
              "        vertical-align: top;\n",
              "    }\n",
              "\n",
              "    .dataframe thead th {\n",
              "        text-align: right;\n",
              "    }\n",
              "</style>\n",
              "<table border=\"1\" class=\"dataframe\">\n",
              "  <thead>\n",
              "    <tr style=\"text-align: right;\">\n",
              "      <th></th>\n",
              "      <th>Model</th>\n",
              "      <th>accuracy score</th>\n",
              "      <th>Precision</th>\n",
              "      <th>Recall</th>\n",
              "      <th>f1_score</th>\n",
              "    </tr>\n",
              "  </thead>\n",
              "  <tbody>\n",
              "    <tr>\n",
              "      <th>0</th>\n",
              "      <td>Logistic Regression</td>\n",
              "      <td>0.955162</td>\n",
              "      <td>0.578745</td>\n",
              "      <td>0.196993</td>\n",
              "      <td>0.293936</td>\n",
              "    </tr>\n",
              "    <tr>\n",
              "      <th>1</th>\n",
              "      <td>Logistic Regression CV</td>\n",
              "      <td>0.955162</td>\n",
              "      <td>0.578745</td>\n",
              "      <td>0.196993</td>\n",
              "      <td>0.293936</td>\n",
              "    </tr>\n",
              "    <tr>\n",
              "      <th>2</th>\n",
              "      <td>Bernoulli Naive Bayes</td>\n",
              "      <td>0.952622</td>\n",
              "      <td>0.000000</td>\n",
              "      <td>0.000000</td>\n",
              "      <td>0.000000</td>\n",
              "    </tr>\n",
              "    <tr>\n",
              "      <th>3</th>\n",
              "      <td>Random Forest Classifier + gini</td>\n",
              "      <td>0.958259</td>\n",
              "      <td>0.603097</td>\n",
              "      <td>0.348006</td>\n",
              "      <td>0.441343</td>\n",
              "    </tr>\n",
              "    <tr>\n",
              "      <th>4</th>\n",
              "      <td>Random Forest Classifier + entropy</td>\n",
              "      <td>0.958290</td>\n",
              "      <td>0.603702</td>\n",
              "      <td>0.348224</td>\n",
              "      <td>0.441680</td>\n",
              "    </tr>\n",
              "    <tr>\n",
              "      <th>5</th>\n",
              "      <td>Bagging Classifier</td>\n",
              "      <td>0.956514</td>\n",
              "      <td>0.734745</td>\n",
              "      <td>0.128568</td>\n",
              "      <td>0.218843</td>\n",
              "    </tr>\n",
              "    <tr>\n",
              "      <th>6</th>\n",
              "      <td>Gradient Boosting Classifier</td>\n",
              "      <td>0.959054</td>\n",
              "      <td>0.618486</td>\n",
              "      <td>0.354326</td>\n",
              "      <td>0.450540</td>\n",
              "    </tr>\n",
              "  </tbody>\n",
              "</table>\n",
              "</div>\n",
              "      <button class=\"colab-df-convert\" onclick=\"convertToInteractive('df-4de13a3d-e6cd-4e1b-a3d0-f13e25a098a4')\"\n",
              "              title=\"Convert this dataframe to an interactive table.\"\n",
              "              style=\"display:none;\">\n",
              "        \n",
              "  <svg xmlns=\"http://www.w3.org/2000/svg\" height=\"24px\"viewBox=\"0 0 24 24\"\n",
              "       width=\"24px\">\n",
              "    <path d=\"M0 0h24v24H0V0z\" fill=\"none\"/>\n",
              "    <path d=\"M18.56 5.44l.94 2.06.94-2.06 2.06-.94-2.06-.94-.94-2.06-.94 2.06-2.06.94zm-11 1L8.5 8.5l.94-2.06 2.06-.94-2.06-.94L8.5 2.5l-.94 2.06-2.06.94zm10 10l.94 2.06.94-2.06 2.06-.94-2.06-.94-.94-2.06-.94 2.06-2.06.94z\"/><path d=\"M17.41 7.96l-1.37-1.37c-.4-.4-.92-.59-1.43-.59-.52 0-1.04.2-1.43.59L10.3 9.45l-7.72 7.72c-.78.78-.78 2.05 0 2.83L4 21.41c.39.39.9.59 1.41.59.51 0 1.02-.2 1.41-.59l7.78-7.78 2.81-2.81c.8-.78.8-2.07 0-2.86zM5.41 20L4 18.59l7.72-7.72 1.47 1.35L5.41 20z\"/>\n",
              "  </svg>\n",
              "      </button>\n",
              "      \n",
              "  <style>\n",
              "    .colab-df-container {\n",
              "      display:flex;\n",
              "      flex-wrap:wrap;\n",
              "      gap: 12px;\n",
              "    }\n",
              "\n",
              "    .colab-df-convert {\n",
              "      background-color: #E8F0FE;\n",
              "      border: none;\n",
              "      border-radius: 50%;\n",
              "      cursor: pointer;\n",
              "      display: none;\n",
              "      fill: #1967D2;\n",
              "      height: 32px;\n",
              "      padding: 0 0 0 0;\n",
              "      width: 32px;\n",
              "    }\n",
              "\n",
              "    .colab-df-convert:hover {\n",
              "      background-color: #E2EBFA;\n",
              "      box-shadow: 0px 1px 2px rgba(60, 64, 67, 0.3), 0px 1px 3px 1px rgba(60, 64, 67, 0.15);\n",
              "      fill: #174EA6;\n",
              "    }\n",
              "\n",
              "    [theme=dark] .colab-df-convert {\n",
              "      background-color: #3B4455;\n",
              "      fill: #D2E3FC;\n",
              "    }\n",
              "\n",
              "    [theme=dark] .colab-df-convert:hover {\n",
              "      background-color: #434B5C;\n",
              "      box-shadow: 0px 1px 3px 1px rgba(0, 0, 0, 0.15);\n",
              "      filter: drop-shadow(0px 1px 2px rgba(0, 0, 0, 0.3));\n",
              "      fill: #FFFFFF;\n",
              "    }\n",
              "  </style>\n",
              "\n",
              "      <script>\n",
              "        const buttonEl =\n",
              "          document.querySelector('#df-4de13a3d-e6cd-4e1b-a3d0-f13e25a098a4 button.colab-df-convert');\n",
              "        buttonEl.style.display =\n",
              "          google.colab.kernel.accessAllowed ? 'block' : 'none';\n",
              "\n",
              "        async function convertToInteractive(key) {\n",
              "          const element = document.querySelector('#df-4de13a3d-e6cd-4e1b-a3d0-f13e25a098a4');\n",
              "          const dataTable =\n",
              "            await google.colab.kernel.invokeFunction('convertToInteractive',\n",
              "                                                     [key], {});\n",
              "          if (!dataTable) return;\n",
              "\n",
              "          const docLinkHtml = 'Like what you see? Visit the ' +\n",
              "            '<a target=\"_blank\" href=https://colab.research.google.com/notebooks/data_table.ipynb>data table notebook</a>'\n",
              "            + ' to learn more about interactive tables.';\n",
              "          element.innerHTML = '';\n",
              "          dataTable['output_type'] = 'display_data';\n",
              "          await google.colab.output.renderOutput(dataTable, element);\n",
              "          const docLink = document.createElement('div');\n",
              "          docLink.innerHTML = docLinkHtml;\n",
              "          element.appendChild(docLink);\n",
              "        }\n",
              "      </script>\n",
              "    </div>\n",
              "  </div>\n",
              "  "
            ]
          },
          "metadata": {},
          "execution_count": 43
        }
      ],
      "source": [
        "gbc_model = GradientBoostingClassifier()\n",
        "gbc_model.fit(x_train,y_train)\n",
        "pred7 = gbc_model.predict(x_test)\n",
        "prob7 = gbc_model.predict_proba(x_test)\n",
        "print_results(\"Gradient Boosting Classifier\", y_test, pred7,prob7[:,-1])\n",
        "\n",
        "evaluation_df"
      ]
    },
    {
      "cell_type": "markdown",
      "metadata": {
        "id": "hD0jz76putDS"
      },
      "source": [
        "### AdaBoost classifier"
      ]
    },
    {
      "cell_type": "code",
      "execution_count": null,
      "metadata": {
        "id": "NyJlqhGZO4QG",
        "outputId": "ecd577de-ae13-4d86-94e6-ba8d98d06cb3",
        "colab": {
          "base_uri": "https://localhost:8080/",
          "height": 1000
        }
      },
      "outputs": [
        {
          "output_type": "stream",
          "name": "stdout",
          "text": [
            "Ada Boost Classifier\n",
            "--------------------------------------------------------------------------\n",
            "accuracy score :0.9579388595793886\n",
            "              precision    recall  f1-score   support\n",
            "\n",
            "           0       0.97      0.99      0.98     92270\n",
            "           1       0.59      0.37      0.46      4589\n",
            "\n",
            "    accuracy                           0.96     96859\n",
            "   macro avg       0.78      0.68      0.72     96859\n",
            "weighted avg       0.95      0.96      0.95     96859\n",
            "\n"
          ]
        },
        {
          "output_type": "display_data",
          "data": {
            "text/plain": [
              "<Figure size 432x288 with 1 Axes>"
            ],
            "image/png": "[encoded data removed]"
          },
          "metadata": {
            "needs_background": "light"
          }
        },
        {
          "output_type": "display_data",
          "data": {
            "text/plain": [
              "<Figure size 432x288 with 1 Axes>"
            ],
            "image/png": "[encoded data removed]"
          },
          "metadata": {
            "needs_background": "light"
          }
        },
        {
          "output_type": "execute_result",
          "data": {
            "text/plain": [
              "                                 Model  accuracy score   Precision    Recall  \\\n",
              "0                  Logistic Regression        0.955162    0.578745  0.196993   \n",
              "1               Logistic Regression CV        0.955162    0.578745  0.196993   \n",
              "2                Bernoulli Naive Bayes        0.952622    0.000000  0.000000   \n",
              "3      Random Forest Classifier + gini        0.958259    0.603097  0.348006   \n",
              "4  Random Forest Classifier + entropy         0.958290    0.603702  0.348224   \n",
              "5                   Bagging Classifier        0.956514    0.734745  0.128568   \n",
              "6         Gradient Boosting Classifier        0.959054    0.618486  0.354326   \n",
              "7                 Ada Boost Classifier        0.957939    0.588397  0.373502   \n",
              "\n",
              "   f1_score  \n",
              "0  0.293936  \n",
              "1  0.293936  \n",
              "2  0.000000  \n",
              "3  0.441343  \n",
              "4  0.441680  \n",
              "5  0.218843  \n",
              "6  0.450540  \n",
              "7  0.456945  "
            ],
            "text/html": [
              "\n",
              "  <div id=\"df-a3c46215-d7d7-4c50-a4d4-7f57a8be3e68\">\n",
              "    <div class=\"colab-df-container\">\n",
              "      <div>\n",
              "<style scoped>\n",
              "    .dataframe tbody tr th:only-of-type {\n",
              "        vertical-align: middle;\n",
              "    }\n",
              "\n",
              "    .dataframe tbody tr th {\n",
              "        vertical-align: top;\n",
              "    }\n",
              "\n",
              "    .dataframe thead th {\n",
              "        text-align: right;\n",
              "    }\n",
              "</style>\n",
              "<table border=\"1\" class=\"dataframe\">\n",
              "  <thead>\n",
              "    <tr style=\"text-align: right;\">\n",
              "      <th></th>\n",
              "      <th>Model</th>\n",
              "      <th>accuracy score</th>\n",
              "      <th>Precision</th>\n",
              "      <th>Recall</th>\n",
              "      <th>f1_score</th>\n",
              "    </tr>\n",
              "  </thead>\n",
              "  <tbody>\n",
              "    <tr>\n",
              "      <th>0</th>\n",
              "      <td>Logistic Regression</td>\n",
              "      <td>0.955162</td>\n",
              "      <td>0.578745</td>\n",
              "      <td>0.196993</td>\n",
              "      <td>0.293936</td>\n",
              "    </tr>\n",
              "    <tr>\n",
              "      <th>1</th>\n",
              "      <td>Logistic Regression CV</td>\n",
              "      <td>0.955162</td>\n",
              "      <td>0.578745</td>\n",
              "      <td>0.196993</td>\n",
              "      <td>0.293936</td>\n",
              "    </tr>\n",
              "    <tr>\n",
              "      <th>2</th>\n",
              "      <td>Bernoulli Naive Bayes</td>\n",
              "      <td>0.952622</td>\n",
              "      <td>0.000000</td>\n",
              "      <td>0.000000</td>\n",
              "      <td>0.000000</td>\n",
              "    </tr>\n",
              "    <tr>\n",
              "      <th>3</th>\n",
              "      <td>Random Forest Classifier + gini</td>\n",
              "      <td>0.958259</td>\n",
              "      <td>0.603097</td>\n",
              "      <td>0.348006</td>\n",
              "      <td>0.441343</td>\n",
              "    </tr>\n",
              "    <tr>\n",
              "      <th>4</th>\n",
              "      <td>Random Forest Classifier + entropy</td>\n",
              "      <td>0.958290</td>\n",
              "      <td>0.603702</td>\n",
              "      <td>0.348224</td>\n",
              "      <td>0.441680</td>\n",
              "    </tr>\n",
              "    <tr>\n",
              "      <th>5</th>\n",
              "      <td>Bagging Classifier</td>\n",
              "      <td>0.956514</td>\n",
              "      <td>0.734745</td>\n",
              "      <td>0.128568</td>\n",
              "      <td>0.218843</td>\n",
              "    </tr>\n",
              "    <tr>\n",
              "      <th>6</th>\n",
              "      <td>Gradient Boosting Classifier</td>\n",
              "      <td>0.959054</td>\n",
              "      <td>0.618486</td>\n",
              "      <td>0.354326</td>\n",
              "      <td>0.450540</td>\n",
              "    </tr>\n",
              "    <tr>\n",
              "      <th>7</th>\n",
              "      <td>Ada Boost Classifier</td>\n",
              "      <td>0.957939</td>\n",
              "      <td>0.588397</td>\n",
              "      <td>0.373502</td>\n",
              "      <td>0.456945</td>\n",
              "    </tr>\n",
              "  </tbody>\n",
              "</table>\n",
              "</div>\n",
              "      <button class=\"colab-df-convert\" onclick=\"convertToInteractive('df-a3c46215-d7d7-4c50-a4d4-7f57a8be3e68')\"\n",
              "              title=\"Convert this dataframe to an interactive table.\"\n",
              "              style=\"display:none;\">\n",
              "        \n",
              "  <svg xmlns=\"http://www.w3.org/2000/svg\" height=\"24px\"viewBox=\"0 0 24 24\"\n",
              "       width=\"24px\">\n",
              "    <path d=\"M0 0h24v24H0V0z\" fill=\"none\"/>\n",
              "    <path d=\"M18.56 5.44l.94 2.06.94-2.06 2.06-.94-2.06-.94-.94-2.06-.94 2.06-2.06.94zm-11 1L8.5 8.5l.94-2.06 2.06-.94-2.06-.94L8.5 2.5l-.94 2.06-2.06.94zm10 10l.94 2.06.94-2.06 2.06-.94-2.06-.94-.94-2.06-.94 2.06-2.06.94z\"/><path d=\"M17.41 7.96l-1.37-1.37c-.4-.4-.92-.59-1.43-.59-.52 0-1.04.2-1.43.59L10.3 9.45l-7.72 7.72c-.78.78-.78 2.05 0 2.83L4 21.41c.39.39.9.59 1.41.59.51 0 1.02-.2 1.41-.59l7.78-7.78 2.81-2.81c.8-.78.8-2.07 0-2.86zM5.41 20L4 18.59l7.72-7.72 1.47 1.35L5.41 20z\"/>\n",
              "  </svg>\n",
              "      </button>\n",
              "      \n",
              "  <style>\n",
              "    .colab-df-container {\n",
              "      display:flex;\n",
              "      flex-wrap:wrap;\n",
              "      gap: 12px;\n",
              "    }\n",
              "\n",
              "    .colab-df-convert {\n",
              "      background-color: #E8F0FE;\n",
              "      border: none;\n",
              "      border-radius: 50%;\n",
              "      cursor: pointer;\n",
              "      display: none;\n",
              "      fill: #1967D2;\n",
              "      height: 32px;\n",
              "      padding: 0 0 0 0;\n",
              "      width: 32px;\n",
              "    }\n",
              "\n",
              "    .colab-df-convert:hover {\n",
              "      background-color: #E2EBFA;\n",
              "      box-shadow: 0px 1px 2px rgba(60, 64, 67, 0.3), 0px 1px 3px 1px rgba(60, 64, 67, 0.15);\n",
              "      fill: #174EA6;\n",
              "    }\n",
              "\n",
              "    [theme=dark] .colab-df-convert {\n",
              "      background-color: #3B4455;\n",
              "      fill: #D2E3FC;\n",
              "    }\n",
              "\n",
              "    [theme=dark] .colab-df-convert:hover {\n",
              "      background-color: #434B5C;\n",
              "      box-shadow: 0px 1px 3px 1px rgba(0, 0, 0, 0.15);\n",
              "      filter: drop-shadow(0px 1px 2px rgba(0, 0, 0, 0.3));\n",
              "      fill: #FFFFFF;\n",
              "    }\n",
              "  </style>\n",
              "\n",
              "      <script>\n",
              "        const buttonEl =\n",
              "          document.querySelector('#df-a3c46215-d7d7-4c50-a4d4-7f57a8be3e68 button.colab-df-convert');\n",
              "        buttonEl.style.display =\n",
              "          google.colab.kernel.accessAllowed ? 'block' : 'none';\n",
              "\n",
              "        async function convertToInteractive(key) {\n",
              "          const element = document.querySelector('#df-a3c46215-d7d7-4c50-a4d4-7f57a8be3e68');\n",
              "          const dataTable =\n",
              "            await google.colab.kernel.invokeFunction('convertToInteractive',\n",
              "                                                     [key], {});\n",
              "          if (!dataTable) return;\n",
              "\n",
              "          const docLinkHtml = 'Like what you see? Visit the ' +\n",
              "            '<a target=\"_blank\" href=https://colab.research.google.com/notebooks/data_table.ipynb>data table notebook</a>'\n",
              "            + ' to learn more about interactive tables.';\n",
              "          element.innerHTML = '';\n",
              "          dataTable['output_type'] = 'display_data';\n",
              "          await google.colab.output.renderOutput(dataTable, element);\n",
              "          const docLink = document.createElement('div');\n",
              "          docLink.innerHTML = docLinkHtml;\n",
              "          element.appendChild(docLink);\n",
              "        }\n",
              "      </script>\n",
              "    </div>\n",
              "  </div>\n",
              "  "
            ]
          },
          "metadata": {},
          "execution_count": 44
        }
      ],
      "source": [
        "adb_model = AdaBoostClassifier(n_estimators=200, random_state=12)\n",
        "adb_model.fit(x_train,y_train)\n",
        "pred8 = adb_model.predict(x_test)\n",
        "prob8 = adb_model.predict_proba(x_test)\n",
        "\n",
        "print_results(\"Ada Boost Classifier\", y_test, pred8,prob8[:,-1])\n",
        "\n",
        "evaluation_df"
      ]
    },
    {
      "cell_type": "markdown",
      "metadata": {
        "id": "vV0zGaXAutDT"
      },
      "source": [
        "### XGBoost classifier"
      ]
    },
    {
      "cell_type": "code",
      "execution_count": null,
      "metadata": {
        "id": "5NUtDHUnO6GI",
        "outputId": "9a9f24a7-c68d-44ca-8bda-a4b39293d12f",
        "colab": {
          "base_uri": "https://localhost:8080/",
          "height": 1000
        }
      },
      "outputs": [
        {
          "output_type": "stream",
          "name": "stdout",
          "text": [
            "XG Boosting Classifier\n",
            "--------------------------------------------------------------------------\n",
            "accuracy score :0.9590538824476816\n",
            "              precision    recall  f1-score   support\n",
            "\n",
            "           0       0.97      0.99      0.98     92270\n",
            "           1       0.62      0.35      0.45      4589\n",
            "\n",
            "    accuracy                           0.96     96859\n",
            "   macro avg       0.79      0.67      0.71     96859\n",
            "weighted avg       0.95      0.96      0.95     96859\n",
            "\n"
          ]
        },
        {
          "output_type": "display_data",
          "data": {
            "text/plain": [
              "<Figure size 432x288 with 1 Axes>"
            ],
            "image/png": "[encoded data removed]"
          },
          "metadata": {
            "needs_background": "light"
          }
        },
        {
          "output_type": "display_data",
          "data": {
            "text/plain": [
              "<Figure size 432x288 with 1 Axes>"
            ],
            "image/png": "[encoded data removed]"
          },
          "metadata": {
            "needs_background": "light"
          }
        },
        {
          "output_type": "execute_result",
          "data": {
            "text/plain": [
              "                                 Model  accuracy score   Precision    Recall  \\\n",
              "0                  Logistic Regression        0.955162    0.578745  0.196993   \n",
              "1               Logistic Regression CV        0.955162    0.578745  0.196993   \n",
              "2                Bernoulli Naive Bayes        0.952622    0.000000  0.000000   \n",
              "3      Random Forest Classifier + gini        0.958259    0.603097  0.348006   \n",
              "4  Random Forest Classifier + entropy         0.958290    0.603702  0.348224   \n",
              "5                   Bagging Classifier        0.956514    0.734745  0.128568   \n",
              "6         Gradient Boosting Classifier        0.959054    0.618486  0.354326   \n",
              "7                 Ada Boost Classifier        0.957939    0.588397  0.373502   \n",
              "8               XG Boosting Classifier        0.959054    0.618486  0.354326   \n",
              "\n",
              "   f1_score  \n",
              "0  0.293936  \n",
              "1  0.293936  \n",
              "2  0.000000  \n",
              "3  0.441343  \n",
              "4  0.441680  \n",
              "5  0.218843  \n",
              "6  0.450540  \n",
              "7  0.456945  \n",
              "8  0.450540  "
            ],
            "text/html": [
              "\n",
              "  <div id=\"df-9a70e9e8-862f-4702-b64a-d466bb24cd91\">\n",
              "    <div class=\"colab-df-container\">\n",
              "      <div>\n",
              "<style scoped>\n",
              "    .dataframe tbody tr th:only-of-type {\n",
              "        vertical-align: middle;\n",
              "    }\n",
              "\n",
              "    .dataframe tbody tr th {\n",
              "        vertical-align: top;\n",
              "    }\n",
              "\n",
              "    .dataframe thead th {\n",
              "        text-align: right;\n",
              "    }\n",
              "</style>\n",
              "<table border=\"1\" class=\"dataframe\">\n",
              "  <thead>\n",
              "    <tr style=\"text-align: right;\">\n",
              "      <th></th>\n",
              "      <th>Model</th>\n",
              "      <th>accuracy score</th>\n",
              "      <th>Precision</th>\n",
              "      <th>Recall</th>\n",
              "      <th>f1_score</th>\n",
              "    </tr>\n",
              "  </thead>\n",
              "  <tbody>\n",
              "    <tr>\n",
              "      <th>0</th>\n",
              "      <td>Logistic Regression</td>\n",
              "      <td>0.955162</td>\n",
              "      <td>0.578745</td>\n",
              "      <td>0.196993</td>\n",
              "      <td>0.293936</td>\n",
              "    </tr>\n",
              "    <tr>\n",
              "      <th>1</th>\n",
              "      <td>Logistic Regression CV</td>\n",
              "      <td>0.955162</td>\n",
              "      <td>0.578745</td>\n",
              "      <td>0.196993</td>\n",
              "      <td>0.293936</td>\n",
              "    </tr>\n",
              "    <tr>\n",
              "      <th>2</th>\n",
              "      <td>Bernoulli Naive Bayes</td>\n",
              "      <td>0.952622</td>\n",
              "      <td>0.000000</td>\n",
              "      <td>0.000000</td>\n",
              "      <td>0.000000</td>\n",
              "    </tr>\n",
              "    <tr>\n",
              "      <th>3</th>\n",
              "      <td>Random Forest Classifier + gini</td>\n",
              "      <td>0.958259</td>\n",
              "      <td>0.603097</td>\n",
              "      <td>0.348006</td>\n",
              "      <td>0.441343</td>\n",
              "    </tr>\n",
              "    <tr>\n",
              "      <th>4</th>\n",
              "      <td>Random Forest Classifier + entropy</td>\n",
              "      <td>0.958290</td>\n",
              "      <td>0.603702</td>\n",
              "      <td>0.348224</td>\n",
              "      <td>0.441680</td>\n",
              "    </tr>\n",
              "    <tr>\n",
              "      <th>5</th>\n",
              "      <td>Bagging Classifier</td>\n",
              "      <td>0.956514</td>\n",
              "      <td>0.734745</td>\n",
              "      <td>0.128568</td>\n",
              "      <td>0.218843</td>\n",
              "    </tr>\n",
              "    <tr>\n",
              "      <th>6</th>\n",
              "      <td>Gradient Boosting Classifier</td>\n",
              "      <td>0.959054</td>\n",
              "      <td>0.618486</td>\n",
              "      <td>0.354326</td>\n",
              "      <td>0.450540</td>\n",
              "    </tr>\n",
              "    <tr>\n",
              "      <th>7</th>\n",
              "      <td>Ada Boost Classifier</td>\n",
              "      <td>0.957939</td>\n",
              "      <td>0.588397</td>\n",
              "      <td>0.373502</td>\n",
              "      <td>0.456945</td>\n",
              "    </tr>\n",
              "    <tr>\n",
              "      <th>8</th>\n",
              "      <td>XG Boosting Classifier</td>\n",
              "      <td>0.959054</td>\n",
              "      <td>0.618486</td>\n",
              "      <td>0.354326</td>\n",
              "      <td>0.450540</td>\n",
              "    </tr>\n",
              "  </tbody>\n",
              "</table>\n",
              "</div>\n",
              "      <button class=\"colab-df-convert\" onclick=\"convertToInteractive('df-9a70e9e8-862f-4702-b64a-d466bb24cd91')\"\n",
              "              title=\"Convert this dataframe to an interactive table.\"\n",
              "              style=\"display:none;\">\n",
              "        \n",
              "  <svg xmlns=\"http://www.w3.org/2000/svg\" height=\"24px\"viewBox=\"0 0 24 24\"\n",
              "       width=\"24px\">\n",
              "    <path d=\"M0 0h24v24H0V0z\" fill=\"none\"/>\n",
              "    <path d=\"M18.56 5.44l.94 2.06.94-2.06 2.06-.94-2.06-.94-.94-2.06-.94 2.06-2.06.94zm-11 1L8.5 8.5l.94-2.06 2.06-.94-2.06-.94L8.5 2.5l-.94 2.06-2.06.94zm10 10l.94 2.06.94-2.06 2.06-.94-2.06-.94-.94-2.06-.94 2.06-2.06.94z\"/><path d=\"M17.41 7.96l-1.37-1.37c-.4-.4-.92-.59-1.43-.59-.52 0-1.04.2-1.43.59L10.3 9.45l-7.72 7.72c-.78.78-.78 2.05 0 2.83L4 21.41c.39.39.9.59 1.41.59.51 0 1.02-.2 1.41-.59l7.78-7.78 2.81-2.81c.8-.78.8-2.07 0-2.86zM5.41 20L4 18.59l7.72-7.72 1.47 1.35L5.41 20z\"/>\n",
              "  </svg>\n",
              "      </button>\n",
              "      \n",
              "  <style>\n",
              "    .colab-df-container {\n",
              "      display:flex;\n",
              "      flex-wrap:wrap;\n",
              "      gap: 12px;\n",
              "    }\n",
              "\n",
              "    .colab-df-convert {\n",
              "      background-color: #E8F0FE;\n",
              "      border: none;\n",
              "      border-radius: 50%;\n",
              "      cursor: pointer;\n",
              "      display: none;\n",
              "      fill: #1967D2;\n",
              "      height: 32px;\n",
              "      padding: 0 0 0 0;\n",
              "      width: 32px;\n",
              "    }\n",
              "\n",
              "    .colab-df-convert:hover {\n",
              "      background-color: #E2EBFA;\n",
              "      box-shadow: 0px 1px 2px rgba(60, 64, 67, 0.3), 0px 1px 3px 1px rgba(60, 64, 67, 0.15);\n",
              "      fill: #174EA6;\n",
              "    }\n",
              "\n",
              "    [theme=dark] .colab-df-convert {\n",
              "      background-color: #3B4455;\n",
              "      fill: #D2E3FC;\n",
              "    }\n",
              "\n",
              "    [theme=dark] .colab-df-convert:hover {\n",
              "      background-color: #434B5C;\n",
              "      box-shadow: 0px 1px 3px 1px rgba(0, 0, 0, 0.15);\n",
              "      filter: drop-shadow(0px 1px 2px rgba(0, 0, 0, 0.3));\n",
              "      fill: #FFFFFF;\n",
              "    }\n",
              "  </style>\n",
              "\n",
              "      <script>\n",
              "        const buttonEl =\n",
              "          document.querySelector('#df-9a70e9e8-862f-4702-b64a-d466bb24cd91 button.colab-df-convert');\n",
              "        buttonEl.style.display =\n",
              "          google.colab.kernel.accessAllowed ? 'block' : 'none';\n",
              "\n",
              "        async function convertToInteractive(key) {\n",
              "          const element = document.querySelector('#df-9a70e9e8-862f-4702-b64a-d466bb24cd91');\n",
              "          const dataTable =\n",
              "            await google.colab.kernel.invokeFunction('convertToInteractive',\n",
              "                                                     [key], {});\n",
              "          if (!dataTable) return;\n",
              "\n",
              "          const docLinkHtml = 'Like what you see? Visit the ' +\n",
              "            '<a target=\"_blank\" href=https://colab.research.google.com/notebooks/data_table.ipynb>data table notebook</a>'\n",
              "            + ' to learn more about interactive tables.';\n",
              "          element.innerHTML = '';\n",
              "          dataTable['output_type'] = 'display_data';\n",
              "          await google.colab.output.renderOutput(dataTable, element);\n",
              "          const docLink = document.createElement('div');\n",
              "          docLink.innerHTML = docLinkHtml;\n",
              "          element.appendChild(docLink);\n",
              "        }\n",
              "      </script>\n",
              "    </div>\n",
              "  </div>\n",
              "  "
            ]
          },
          "metadata": {},
          "execution_count": 45
        }
      ],
      "source": [
        "cv = KFold(n_splits=10, random_state=12, shuffle=True)\n",
        "model = XGBClassifier(cv=cv,learning_rate=0.01)\n",
        "\n",
        "gbc_model.fit(x_train,y_train)\n",
        "pred9 = gbc_model.predict(x_test)\n",
        "prob9 = gbc_model.predict_proba(x_test)\n",
        "print_results(\"XG Boosting Classifier\", y_test, pred9, prob9[:,-1])\n",
        "\n",
        "evaluation_df"
      ]
    },
    {
      "cell_type": "markdown",
      "source": [
        "## Cross validation and Overfit analysis"
      ],
      "metadata": {
        "id": "TSEvpJRk6f_g"
      }
    },
    {
      "cell_type": "code",
      "source": [
        "rf_model = RandomForestClassifier(bootstrap = True,\n",
        "                                  criterion='entropy',\n",
        "                                  verbose=1,\n",
        "                                  oob_score=True,\n",
        "                                  max_features = 'sqrt',\n",
        "                                  random_state=12)\n",
        "\n",
        "cross_validation_result = cross_validate(rf_model,\n",
        "                                         x_train, y_train,\n",
        "                                         return_train_score=True)\n",
        "\n",
        "cross_validation_result"
      ],
      "metadata": {
        "colab": {
          "base_uri": "https://localhost:8080/"
        },
        "id": "GDBRPbF66pBU",
        "outputId": "8f67ef28-6dde-41ca-a1a0-7e413bfb1446"
      },
      "execution_count": null,
      "outputs": [
        {
          "output_type": "stream",
          "name": "stderr",
          "text": [
            "[Parallel(n_jobs=1)]: Using backend SequentialBackend with 1 concurrent workers.\n",
            "[Parallel(n_jobs=1)]: Done 100 out of 100 | elapsed:   18.3s finished\n",
            "[Parallel(n_jobs=1)]: Using backend SequentialBackend with 1 concurrent workers.\n",
            "[Parallel(n_jobs=1)]: Done 100 out of 100 | elapsed:    1.1s finished\n",
            "[Parallel(n_jobs=1)]: Using backend SequentialBackend with 1 concurrent workers.\n",
            "[Parallel(n_jobs=1)]: Done 100 out of 100 | elapsed:    5.3s finished\n",
            "[Parallel(n_jobs=1)]: Using backend SequentialBackend with 1 concurrent workers.\n",
            "[Parallel(n_jobs=1)]: Done 100 out of 100 | elapsed:   15.9s finished\n",
            "[Parallel(n_jobs=1)]: Using backend SequentialBackend with 1 concurrent workers.\n",
            "[Parallel(n_jobs=1)]: Done 100 out of 100 | elapsed:    1.1s finished\n",
            "[Parallel(n_jobs=1)]: Using backend SequentialBackend with 1 concurrent workers.\n",
            "[Parallel(n_jobs=1)]: Done 100 out of 100 | elapsed:    4.6s finished\n",
            "[Parallel(n_jobs=1)]: Using backend SequentialBackend with 1 concurrent workers.\n",
            "[Parallel(n_jobs=1)]: Done 100 out of 100 | elapsed:   17.8s finished\n",
            "[Parallel(n_jobs=1)]: Using backend SequentialBackend with 1 concurrent workers.\n",
            "[Parallel(n_jobs=1)]: Done 100 out of 100 | elapsed:    1.2s finished\n",
            "[Parallel(n_jobs=1)]: Using backend SequentialBackend with 1 concurrent workers.\n",
            "[Parallel(n_jobs=1)]: Done 100 out of 100 | elapsed:    4.7s finished\n",
            "[Parallel(n_jobs=1)]: Using backend SequentialBackend with 1 concurrent workers.\n",
            "[Parallel(n_jobs=1)]: Done 100 out of 100 | elapsed:   19.6s finished\n",
            "[Parallel(n_jobs=1)]: Using backend SequentialBackend with 1 concurrent workers.\n",
            "[Parallel(n_jobs=1)]: Done 100 out of 100 | elapsed:    1.1s finished\n",
            "[Parallel(n_jobs=1)]: Using backend SequentialBackend with 1 concurrent workers.\n",
            "[Parallel(n_jobs=1)]: Done 100 out of 100 | elapsed:    4.6s finished\n",
            "[Parallel(n_jobs=1)]: Using backend SequentialBackend with 1 concurrent workers.\n",
            "[Parallel(n_jobs=1)]: Done 100 out of 100 | elapsed:   17.8s finished\n",
            "[Parallel(n_jobs=1)]: Using backend SequentialBackend with 1 concurrent workers.\n",
            "[Parallel(n_jobs=1)]: Done 100 out of 100 | elapsed:    1.2s finished\n",
            "[Parallel(n_jobs=1)]: Using backend SequentialBackend with 1 concurrent workers.\n",
            "[Parallel(n_jobs=1)]: Done 100 out of 100 | elapsed:    4.5s finished\n"
          ]
        },
        {
          "output_type": "execute_result",
          "data": {
            "text/plain": [
              "{'fit_time': array([22.13838768, 20.15164065, 21.71949697, 23.71771669, 22.07231259]),\n",
              " 'score_time': array([1.14004064, 1.15001059, 1.24937487, 1.16482997, 1.2356813 ]),\n",
              " 'test_score': array([0.95839302, 0.96023849, 0.95916734, 0.95863769, 0.95806984]),\n",
              " 'train_score': array([0.96025759, 0.95982849, 0.96008014, 0.96013835, 0.9603771 ])}"
            ]
          },
          "metadata": {},
          "execution_count": 46
        }
      ]
    },
    {
      "cell_type": "markdown",
      "source": [
        "## Threshold tweaking"
      ],
      "metadata": {
        "id": "et9hyxj8c1ol"
      }
    },
    {
      "cell_type": "code",
      "source": [
        "def performRfUsingThreshold(t):\n",
        "  model = RandomForestClassifier(bootstrap = True,\n",
        "                                 criterion='entropy',\n",
        "                                 max_features = 'sqrt',\n",
        "                                 random_state=12)\n",
        "  model.fit(x_train,y_train)\n",
        "  prob = model.predict_proba(x_test)\n",
        "  pred = [1 if prob[i][1]> t else 0 for i in range(len(prob))]\n",
        "  print_results(\"RF - threshold: %f\" % t, y_test, pred,prob[:,-1])\n",
        "\n",
        "  evaluation_df"
      ],
      "metadata": {
        "id": "jJWa8Qx8c56y"
      },
      "execution_count": null,
      "outputs": []
    },
    {
      "cell_type": "code",
      "source": [
        "for i in np.arange(0.1,1,0.2):\n",
        "  performRfUsingThreshold(i)"
      ],
      "metadata": {
        "colab": {
          "base_uri": "https://localhost:8080/",
          "height": 1000
        },
        "id": "IrxmpUH1hgBj",
        "outputId": "53411f0c-126b-4517-8ef5-c95036781f8e"
      },
      "execution_count": null,
      "outputs": [
        {
          "output_type": "stream",
          "name": "stdout",
          "text": [
            "RF - threshold: 0.100000\n",
            "--------------------------------------------------------------------------\n",
            "accuracy score :0.9139883748541695\n",
            "              precision    recall  f1-score   support\n",
            "\n",
            "           0       0.99      0.92      0.95     92270\n",
            "           1       0.34      0.88      0.49      4589\n",
            "\n",
            "    accuracy                           0.91     96859\n",
            "   macro avg       0.67      0.90      0.72     96859\n",
            "weighted avg       0.96      0.91      0.93     96859\n",
            "\n"
          ]
        },
        {
          "output_type": "display_data",
          "data": {
            "text/plain": [
              "<Figure size 432x288 with 1 Axes>"
            ],
            "image/png": "[encoded data removed]"
          },
          "metadata": {
            "needs_background": "light"
          }
        },
        {
          "output_type": "display_data",
          "data": {
            "text/plain": [
              "<Figure size 432x288 with 1 Axes>"
            ],
            "image/png": "[encoded data removed]"
          },
          "metadata": {
            "needs_background": "light"
          }
        },
        {
          "output_type": "stream",
          "name": "stdout",
          "text": [
            "RF - threshold: 0.300000\n",
            "--------------------------------------------------------------------------\n",
            "accuracy score :0.9516720180881487\n",
            "              precision    recall  f1-score   support\n",
            "\n",
            "           0       0.98      0.97      0.97     92270\n",
            "           1       0.49      0.65      0.56      4589\n",
            "\n",
            "    accuracy                           0.95     96859\n",
            "   macro avg       0.74      0.81      0.77     96859\n",
            "weighted avg       0.96      0.95      0.95     96859\n",
            "\n"
          ]
        },
        {
          "output_type": "display_data",
          "data": {
            "text/plain": [
              "<Figure size 432x288 with 1 Axes>"
            ],
            "image/png": "[encoded data removed]"
          },
          "metadata": {
            "needs_background": "light"
          }
        },
        {
          "output_type": "display_data",
          "data": {
            "text/plain": [
              "<Figure size 432x288 with 1 Axes>"
            ],
            "image/png": "[encoded data removed]"
          },
          "metadata": {
            "needs_background": "light"
          }
        },
        {
          "output_type": "stream",
          "name": "stdout",
          "text": [
            "RF - threshold: 0.500000\n",
            "--------------------------------------------------------------------------\n",
            "accuracy score :0.9582898852971846\n",
            "              precision    recall  f1-score   support\n",
            "\n",
            "           0       0.97      0.99      0.98     92270\n",
            "           1       0.60      0.35      0.44      4589\n",
            "\n",
            "    accuracy                           0.96     96859\n",
            "   macro avg       0.79      0.67      0.71     96859\n",
            "weighted avg       0.95      0.96      0.95     96859\n",
            "\n"
          ]
        },
        {
          "output_type": "display_data",
          "data": {
            "text/plain": [
              "<Figure size 432x288 with 1 Axes>"
            ],
            "image/png": "[encoded data removed]"
          },
          "metadata": {
            "needs_background": "light"
          }
        },
        {
          "output_type": "display_data",
          "data": {
            "text/plain": [
              "<Figure size 432x288 with 1 Axes>"
            ],
            "image/png": "[encoded data removed]"
          },
          "metadata": {
            "needs_background": "light"
          }
        },
        {
          "output_type": "stream",
          "name": "stdout",
          "text": [
            "RF - threshold: 0.700000\n",
            "--------------------------------------------------------------------------\n",
            "accuracy score :0.9565141081365697\n",
            "              precision    recall  f1-score   support\n",
            "\n",
            "           0       0.96      1.00      0.98     92270\n",
            "           1       0.76      0.12      0.21      4589\n",
            "\n",
            "    accuracy                           0.96     96859\n",
            "   macro avg       0.86      0.56      0.59     96859\n",
            "weighted avg       0.95      0.96      0.94     96859\n",
            "\n"
          ]
        },
        {
          "output_type": "display_data",
          "data": {
            "text/plain": [
              "<Figure size 432x288 with 1 Axes>"
            ],
            "image/png": "[encoded data removed]"
          },
          "metadata": {
            "needs_background": "light"
          }
        },
        {
          "output_type": "display_data",
          "data": {
            "text/plain": [
              "<Figure size 432x288 with 1 Axes>"
            ],
            "image/png": "[encoded data removed]"
          },
          "metadata": {
            "needs_background": "light"
          }
        },
        {
          "output_type": "stream",
          "name": "stdout",
          "text": [
            "RF - threshold: 0.900000\n",
            "--------------------------------------------------------------------------\n",
            "accuracy score :0.95300385095861\n",
            "              precision    recall  f1-score   support\n",
            "\n",
            "           0       0.95      1.00      0.98     92270\n",
            "           1       0.82      0.01      0.02      4589\n",
            "\n",
            "    accuracy                           0.95     96859\n",
            "   macro avg       0.89      0.51      0.50     96859\n",
            "weighted avg       0.95      0.95      0.93     96859\n",
            "\n"
          ]
        },
        {
          "output_type": "display_data",
          "data": {
            "text/plain": [
              "<Figure size 432x288 with 1 Axes>"
            ],
            "image/png": "[encoded data removed]"
          },
          "metadata": {
            "needs_background": "light"
          }
        },
        {
          "output_type": "display_data",
          "data": {
            "text/plain": [
              "<Figure size 432x288 with 1 Axes>"
            ],
            "image/png": "[encoded data removed]"
          },
          "metadata": {
            "needs_background": "light"
          }
        }
      ]
    },
    {
      "cell_type": "code",
      "source": [],
      "metadata": {
        "id": "_VCa-Eumjbif"
      },
      "execution_count": null,
      "outputs": []
    }
  ]
}